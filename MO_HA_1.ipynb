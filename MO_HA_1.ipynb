{
  "nbformat": 4,
  "nbformat_minor": 0,
  "metadata": {
    "colab": {
      "name": "MO_HA_1.ipynb",
      "provenance": [],
      "collapsed_sections": []
    },
    "kernelspec": {
      "display_name": "Python 3",
      "name": "python3"
    },
    "language_info": {
      "name": "python"
    }
  },
  "cells": [
    {
      "cell_type": "code",
      "metadata": {
        "id": "9YPh4B7-mt7B",
        "colab": {
          "base_uri": "https://localhost:8080/"
        },
        "outputId": "26fc41f0-265a-4e79-bd43-c6857bc958ab"
      },
      "source": [
        "%pylab inline\n",
        "import pandas as pd"
      ],
      "execution_count": 651,
      "outputs": [
        {
          "output_type": "stream",
          "name": "stdout",
          "text": [
            "Populating the interactive namespace from numpy and matplotlib\n"
          ]
        },
        {
          "output_type": "stream",
          "name": "stderr",
          "text": [
            "/usr/local/lib/python3.7/dist-packages/IPython/core/magics/pylab.py:161: UserWarning: pylab import has clobbered these variables: ['diff']\n",
            "`%matplotlib` prevents importing * from pylab and numpy\n",
            "  \"\\n`%matplotlib` prevents importing * from pylab and numpy\"\n"
          ]
        }
      ]
    },
    {
      "cell_type": "code",
      "metadata": {
        "colab": {
          "base_uri": "https://localhost:8080/",
          "height": 52
        },
        "id": "Gv6qMw5hm7UO",
        "outputId": "424abcdd-abd5-4c63-c39a-20557056057f"
      },
      "source": [
        "!pip install wget\n",
        "import wget \n",
        "wget.download('https://dropbox.com/s/f4rm8sjc3v99p0m/_end_seminar.xlsx?dl=1', 'end_seminar.xlsx')"
      ],
      "execution_count": 652,
      "outputs": [
        {
          "output_type": "stream",
          "name": "stdout",
          "text": [
            "Requirement already satisfied: wget in /usr/local/lib/python3.7/dist-packages (3.2)\n"
          ]
        },
        {
          "output_type": "execute_result",
          "data": {
            "application/vnd.google.colaboratory.intrinsic+json": {
              "type": "string"
            },
            "text/plain": [
              "'end_seminar (7).xlsx'"
            ]
          },
          "metadata": {},
          "execution_count": 652
        }
      ]
    },
    {
      "cell_type": "code",
      "metadata": {
        "id": "cAq2yVipm7gp"
      },
      "source": [
        "data = pd.read_excel('end_seminar.xlsx')"
      ],
      "execution_count": 653,
      "outputs": []
    },
    {
      "cell_type": "markdown",
      "metadata": {
        "id": "0PiDQlkHckSU"
      },
      "source": [
        "# **Часть 1.**"
      ]
    },
    {
      "cell_type": "markdown",
      "metadata": {
        "id": "7foDz7WWc2bq"
      },
      "source": [
        "# 1)"
      ]
    },
    {
      "cell_type": "markdown",
      "metadata": {
        "id": "0hOwZsuPm4xN"
      },
      "source": [
        "Последние 10 элементов"
      ]
    },
    {
      "cell_type": "code",
      "metadata": {
        "colab": {
          "base_uri": "https://localhost:8080/",
          "height": 825
        },
        "id": "bXAuDgtam7j3",
        "outputId": "9256bc0f-7a9e-41fc-a155-3da72b284c16"
      },
      "source": [
        "data.tail(10)\n"
      ],
      "execution_count": 654,
      "outputs": [
        {
          "output_type": "execute_result",
          "data": {
            "text/html": [
              "<div>\n",
              "<style scoped>\n",
              "    .dataframe tbody tr th:only-of-type {\n",
              "        vertical-align: middle;\n",
              "    }\n",
              "\n",
              "    .dataframe tbody tr th {\n",
              "        vertical-align: top;\n",
              "    }\n",
              "\n",
              "    .dataframe thead th {\n",
              "        text-align: right;\n",
              "    }\n",
              "</style>\n",
              "<table border=\"1\" class=\"dataframe\">\n",
              "  <thead>\n",
              "    <tr style=\"text-align: right;\">\n",
              "      <th></th>\n",
              "      <th>timestamp</th>\n",
              "      <th>id</th>\n",
              "      <th>rating</th>\n",
              "      <th>18_group</th>\n",
              "      <th>is_mi</th>\n",
              "      <th>fall_1</th>\n",
              "      <th>fall_2</th>\n",
              "      <th>fall_3</th>\n",
              "      <th>spring_1</th>\n",
              "      <th>spring_2</th>\n",
              "      <th>spring_3</th>\n",
              "      <th>is_first_time</th>\n",
              "      <th>percentile</th>\n",
              "      <th>17_group</th>\n",
              "      <th>blended</th>\n",
              "      <th>is_ml_student</th>\n",
              "    </tr>\n",
              "  </thead>\n",
              "  <tbody>\n",
              "    <tr>\n",
              "      <th>351</th>\n",
              "      <td>2020-05-18 23:58:33.903</td>\n",
              "      <td>8fe79f84f36e3a5d2d6745621321302c</td>\n",
              "      <td>1016</td>\n",
              "      <td>NaN</td>\n",
              "      <td>NaN</td>\n",
              "      <td>Безопасность компьютерных систем</td>\n",
              "      <td>Высокопроизводительные вычисления</td>\n",
              "      <td>Сбор и обработка данных с помощью краудсорсинга</td>\n",
              "      <td>Конфликты и кооперация</td>\n",
              "      <td>Проектирование и разработка высоконагруженных ...</td>\n",
              "      <td>Символьные вычисления</td>\n",
              "      <td>Да</td>\n",
              "      <td>0.942029</td>\n",
              "      <td>174.0</td>\n",
              "      <td>DevOps</td>\n",
              "      <td>NaN</td>\n",
              "    </tr>\n",
              "    <tr>\n",
              "      <th>352</th>\n",
              "      <td>2020-05-18 23:59:20.831</td>\n",
              "      <td>f93afd8e92c336b471aa3bbbc579aefe</td>\n",
              "      <td>1298</td>\n",
              "      <td>NaN</td>\n",
              "      <td>NaN</td>\n",
              "      <td>Высокопроизводительные вычисления</td>\n",
              "      <td>Сбор и обработка данных с помощью краудсорсинга</td>\n",
              "      <td>Statistical Learning Theory</td>\n",
              "      <td>Методы сжатия и передачи медиаданных</td>\n",
              "      <td>Проектирование и разработка высоконагруженных ...</td>\n",
              "      <td>Конфликты и кооперация</td>\n",
              "      <td>Да</td>\n",
              "      <td>0.057971</td>\n",
              "      <td>175.0</td>\n",
              "      <td>DevOps</td>\n",
              "      <td>NaN</td>\n",
              "    </tr>\n",
              "    <tr>\n",
              "      <th>353</th>\n",
              "      <td>2020-05-18 23:59:28.998</td>\n",
              "      <td>9963fc00d9405a35b894cc04a7e19855</td>\n",
              "      <td>1135</td>\n",
              "      <td>NaN</td>\n",
              "      <td>NaN</td>\n",
              "      <td>Безопасность компьютерных систем</td>\n",
              "      <td>Высокопроизводительные вычисления</td>\n",
              "      <td>Безопасность компьютерных систем</td>\n",
              "      <td>Проектирование и разработка высоконагруженных ...</td>\n",
              "      <td>Методы сжатия и передачи медиаданных</td>\n",
              "      <td>Символьные вычисления</td>\n",
              "      <td>Да</td>\n",
              "      <td>0.572464</td>\n",
              "      <td>175.0</td>\n",
              "      <td>DevOps</td>\n",
              "      <td>NaN</td>\n",
              "    </tr>\n",
              "    <tr>\n",
              "      <th>354</th>\n",
              "      <td>2020-05-19 08:55:39.509</td>\n",
              "      <td>98c5a2548d93f26bd4195466e93178b3</td>\n",
              "      <td>1035</td>\n",
              "      <td>NaN</td>\n",
              "      <td>NaN</td>\n",
              "      <td>Байесовские методы машинного обучения</td>\n",
              "      <td>Глубинное обучение в обработке звука</td>\n",
              "      <td>Statistical Learning Theory</td>\n",
              "      <td>Обучение с подкреплением</td>\n",
              "      <td>Генеративные модели в машинном обучении</td>\n",
              "      <td>Методы сжатия и передачи медиаданных</td>\n",
              "      <td>Нет</td>\n",
              "      <td>0.905797</td>\n",
              "      <td>171.0</td>\n",
              "      <td>DevOps</td>\n",
              "      <td>NaN</td>\n",
              "    </tr>\n",
              "    <tr>\n",
              "      <th>355</th>\n",
              "      <td>2020-05-19 18:58:06.283</td>\n",
              "      <td>ba298cbd9be59b84bab33325e956f27e</td>\n",
              "      <td>1155</td>\n",
              "      <td>NaN</td>\n",
              "      <td>NaN</td>\n",
              "      <td>Сбор и обработка данных с помощью краудсорсинга</td>\n",
              "      <td>Байесовские методы машинного обучения</td>\n",
              "      <td>Анализ неструктурированных данных</td>\n",
              "      <td>Конфликты и кооперация</td>\n",
              "      <td>Обучение с подкреплением</td>\n",
              "      <td>Компьютерное зрение</td>\n",
              "      <td>Да</td>\n",
              "      <td>0.507246</td>\n",
              "      <td>171.0</td>\n",
              "      <td>Соревновательный анализ данных</td>\n",
              "      <td>NaN</td>\n",
              "    </tr>\n",
              "    <tr>\n",
              "      <th>356</th>\n",
              "      <td>2020-05-19 19:04:17.873</td>\n",
              "      <td>c5870b37ee3f672e4259dfb2fc02ed8f</td>\n",
              "      <td>1029</td>\n",
              "      <td>NaN</td>\n",
              "      <td>NaN</td>\n",
              "      <td>Statistical Learning Theory</td>\n",
              "      <td>Анализ неструктурированных данных</td>\n",
              "      <td>Сбор и обработка данных с помощью краудсорсинга</td>\n",
              "      <td>Обучение с подкреплением</td>\n",
              "      <td>Конфликты и кооперация</td>\n",
              "      <td>Компьютерное зрение</td>\n",
              "      <td>Да</td>\n",
              "      <td>0.920290</td>\n",
              "      <td>174.0</td>\n",
              "      <td>DevOps</td>\n",
              "      <td>NaN</td>\n",
              "    </tr>\n",
              "    <tr>\n",
              "      <th>357</th>\n",
              "      <td>2020-05-19 20:19:25.815</td>\n",
              "      <td>f44aea1095f9f5b8e2f5f0ed2b17891b</td>\n",
              "      <td>1060</td>\n",
              "      <td>NaN</td>\n",
              "      <td>NaN</td>\n",
              "      <td>Анализ неструктурированных данных</td>\n",
              "      <td>Высокопроизводительные вычисления</td>\n",
              "      <td>Моделирование временных рядов</td>\n",
              "      <td>Конфликты и кооперация</td>\n",
              "      <td>Обучение с подкреплением</td>\n",
              "      <td>Численные методы</td>\n",
              "      <td>Да</td>\n",
              "      <td>0.840580</td>\n",
              "      <td>174.0</td>\n",
              "      <td>DevOps</td>\n",
              "      <td>NaN</td>\n",
              "    </tr>\n",
              "    <tr>\n",
              "      <th>358</th>\n",
              "      <td>2020-05-20 11:54:38.318</td>\n",
              "      <td>d7118b44c7e8fdbbaaca226d2da6fef1</td>\n",
              "      <td>1111</td>\n",
              "      <td>NaN</td>\n",
              "      <td>NaN</td>\n",
              "      <td>Сбор и обработка данных с помощью краудсорсинга</td>\n",
              "      <td>Statistical Learning Theory</td>\n",
              "      <td>Анализ неструктурированных данных</td>\n",
              "      <td>Проектирование и разработка высоконагруженных ...</td>\n",
              "      <td>Методы сжатия и передачи медиаданных</td>\n",
              "      <td>Численные методы</td>\n",
              "      <td>Да</td>\n",
              "      <td>0.652174</td>\n",
              "      <td>173.0</td>\n",
              "      <td>Соревновательный анализ данных</td>\n",
              "      <td>NaN</td>\n",
              "    </tr>\n",
              "    <tr>\n",
              "      <th>359</th>\n",
              "      <td>2020-05-23 21:16:40.916</td>\n",
              "      <td>79d14db48e4737af731960ae212d5134</td>\n",
              "      <td>966</td>\n",
              "      <td>NaN</td>\n",
              "      <td>NaN</td>\n",
              "      <td>Безопасность компьютерных систем</td>\n",
              "      <td>Принятие решений в условиях риска и неопределё...</td>\n",
              "      <td>Анализ неструктурированных данных</td>\n",
              "      <td>Проектирование и разработка высоконагруженных ...</td>\n",
              "      <td>Методы сжатия и передачи медиаданных</td>\n",
              "      <td>Компьютерное зрение</td>\n",
              "      <td>Да</td>\n",
              "      <td>0.985507</td>\n",
              "      <td>172.0</td>\n",
              "      <td>DevOps</td>\n",
              "      <td>NaN</td>\n",
              "    </tr>\n",
              "    <tr>\n",
              "      <th>360</th>\n",
              "      <td>2020-05-23 21:16:40.916</td>\n",
              "      <td>f2d210ace25a841e1e58036b257d5d47</td>\n",
              "      <td>1195</td>\n",
              "      <td>NaN</td>\n",
              "      <td>NaN</td>\n",
              "      <td>Анализ неструктурированных данных</td>\n",
              "      <td>Моделирование временных рядов</td>\n",
              "      <td>Высокопроизводительные вычисления</td>\n",
              "      <td>Обучение с подкреплением</td>\n",
              "      <td>Компьютерное зрение</td>\n",
              "      <td>Методы сжатия и передачи медиаданных</td>\n",
              "      <td>NaN</td>\n",
              "      <td>0.369565</td>\n",
              "      <td>176.0</td>\n",
              "      <td>Соревновательный анализ данных</td>\n",
              "      <td>NaN</td>\n",
              "    </tr>\n",
              "  </tbody>\n",
              "</table>\n",
              "</div>"
            ],
            "text/plain": [
              "                  timestamp  ... is_ml_student\n",
              "351 2020-05-18 23:58:33.903  ...           NaN\n",
              "352 2020-05-18 23:59:20.831  ...           NaN\n",
              "353 2020-05-18 23:59:28.998  ...           NaN\n",
              "354 2020-05-19 08:55:39.509  ...           NaN\n",
              "355 2020-05-19 18:58:06.283  ...           NaN\n",
              "356 2020-05-19 19:04:17.873  ...           NaN\n",
              "357 2020-05-19 20:19:25.815  ...           NaN\n",
              "358 2020-05-20 11:54:38.318  ...           NaN\n",
              "359 2020-05-23 21:16:40.916  ...           NaN\n",
              "360 2020-05-23 21:16:40.916  ...           NaN\n",
              "\n",
              "[10 rows x 16 columns]"
            ]
          },
          "metadata": {},
          "execution_count": 654
        }
      ]
    },
    {
      "cell_type": "markdown",
      "metadata": {
        "id": "zyo-uXYydAoB"
      },
      "source": [
        "# 2)\n"
      ]
    },
    {
      "cell_type": "markdown",
      "metadata": {
        "id": "7yuSGh2lm9nE"
      },
      "source": [
        "Посчитаем студентов по курсам "
      ]
    },
    {
      "cell_type": "code",
      "metadata": {
        "colab": {
          "base_uri": "https://localhost:8080/"
        },
        "id": "Fkq-lkZ2oRhn",
        "outputId": "4ac7c129-8e2c-4e43-9db8-0aec17ad3fbb"
      },
      "source": [
        "data.count()"
      ],
      "execution_count": 655,
      "outputs": [
        {
          "output_type": "execute_result",
          "data": {
            "text/plain": [
              "timestamp        361\n",
              "id               361\n",
              "rating           361\n",
              "18_group         223\n",
              "is_mi             18\n",
              "fall_1           361\n",
              "fall_2           361\n",
              "fall_3           361\n",
              "spring_1         361\n",
              "spring_2         361\n",
              "spring_3         361\n",
              "is_first_time    359\n",
              "percentile       361\n",
              "17_group         138\n",
              "blended          138\n",
              "is_ml_student     57\n",
              "dtype: int64"
            ]
          },
          "metadata": {},
          "execution_count": 655
        }
      ]
    },
    {
      "cell_type": "markdown",
      "metadata": {
        "id": "txCrwl7JdTEP"
      },
      "source": [
        "17_ группы - 138\n",
        "\n",
        "18_ группы - 223 "
      ]
    },
    {
      "cell_type": "code",
      "metadata": {
        "id": "OR35zEffoRkK",
        "colab": {
          "base_uri": "https://localhost:8080/"
        },
        "outputId": "6fb0dbd0-3f53-45ee-e5fa-2d2d79095be0"
      },
      "source": [
        "print('Количество дублирующихся перцентилей:', data['percentile'].duplicated().sum())"
      ],
      "execution_count": 656,
      "outputs": [
        {
          "output_type": "stream",
          "name": "stdout",
          "text": [
            "Количество дублирующихся перцентилей: 15\n"
          ]
        }
      ]
    },
    {
      "cell_type": "markdown",
      "metadata": {
        "id": "flIz_J93e4E-"
      },
      "source": [
        "# 3)\n"
      ]
    },
    {
      "cell_type": "code",
      "metadata": {
        "colab": {
          "base_uri": "https://localhost:8080/"
        },
        "id": "3y43xqKve3eY",
        "outputId": "9794583f-9757-48e4-d4d3-64e206b6cee8"
      },
      "source": [
        "data.isnull().sum()"
      ],
      "execution_count": 657,
      "outputs": [
        {
          "output_type": "execute_result",
          "data": {
            "text/plain": [
              "timestamp          0\n",
              "id                 0\n",
              "rating             0\n",
              "18_group         138\n",
              "is_mi            343\n",
              "fall_1             0\n",
              "fall_2             0\n",
              "fall_3             0\n",
              "spring_1           0\n",
              "spring_2           0\n",
              "spring_3           0\n",
              "is_first_time      2\n",
              "percentile         0\n",
              "17_group         223\n",
              "blended          223\n",
              "is_ml_student    304\n",
              "dtype: int64"
            ]
          },
          "metadata": {},
          "execution_count": 657
        }
      ]
    },
    {
      "cell_type": "code",
      "metadata": {
        "id": "WjeHgbe-oRps"
      },
      "source": [
        "text_or_numeric = {'18_group' : '0', 'is_mi': '0','is_first_time': '', '17_group' : '0', 'blended' : '','is_ml_student': '' }\n",
        "data = data.fillna(value = text_or_numeric)"
      ],
      "execution_count": 658,
      "outputs": []
    },
    {
      "cell_type": "markdown",
      "metadata": {
        "id": "0CXSbtaTf6IR"
      },
      "source": [
        "# 4)\n"
      ]
    },
    {
      "cell_type": "code",
      "metadata": {
        "colab": {
          "base_uri": "https://localhost:8080/"
        },
        "id": "lrB33-DmoRuZ",
        "outputId": "bf1f4935-e784-4722-d135-7eaae557115d"
      },
      "source": [
        "data['is_first_time'].value_counts()\n"
      ],
      "execution_count": 659,
      "outputs": [
        {
          "output_type": "execute_result",
          "data": {
            "text/plain": [
              "Да     308\n",
              "Нет     51\n",
              "         2\n",
              "Name: is_first_time, dtype: int64"
            ]
          },
          "metadata": {},
          "execution_count": 659
        }
      ]
    },
    {
      "cell_type": "code",
      "metadata": {
        "id": "MUOFffDnoRxA"
      },
      "source": [
        "data = data.drop_duplicates(subset=['rating', 'percentile'],keep = 'last')"
      ],
      "execution_count": 660,
      "outputs": []
    },
    {
      "cell_type": "markdown",
      "metadata": {
        "id": "GbYuEu3HkNla"
      },
      "source": [
        "# 5)"
      ]
    },
    {
      "cell_type": "code",
      "metadata": {
        "colab": {
          "base_uri": "https://localhost:8080/",
          "height": 52
        },
        "id": "hJGdqTGXoR1p",
        "outputId": "94d17358-97dd-4c28-f2dd-e53ace0006c8"
      },
      "source": [
        "print('Возможные blended курсы:')\n",
        "', '.join(list(filter(None, data['blended'].unique())))"
      ],
      "execution_count": 661,
      "outputs": [
        {
          "output_type": "stream",
          "name": "stdout",
          "text": [
            "Возможные blended курсы:\n"
          ]
        },
        {
          "output_type": "execute_result",
          "data": {
            "application/vnd.google.colaboratory.intrinsic+json": {
              "type": "string"
            },
            "text/plain": [
              "'DevOps, Введение в дифференциальную геометрию, Соревновательный анализ данных'"
            ]
          },
          "metadata": {},
          "execution_count": 661
        }
      ]
    },
    {
      "cell_type": "code",
      "metadata": {
        "colab": {
          "base_uri": "https://localhost:8080/"
        },
        "id": "5BsMjV2d0Do8",
        "outputId": "e73475b5-2ea7-4c89-bed1-45e7bee87fc8"
      },
      "source": [
        "data['blended'].value_counts()"
      ],
      "execution_count": 662,
      "outputs": [
        {
          "output_type": "execute_result",
          "data": {
            "text/plain": [
              "                                         213\n",
              "DevOps                                    87\n",
              "Соревновательный анализ данных            32\n",
              "Введение в дифференциальную геометрию     15\n",
              "Name: blended, dtype: int64"
            ]
          },
          "metadata": {},
          "execution_count": 662
        }
      ]
    },
    {
      "cell_type": "markdown",
      "metadata": {
        "id": "G19oTioEmSmM"
      },
      "source": [
        "Наибольшее количество студентов записались на курс 'DevOps'"
      ]
    },
    {
      "cell_type": "code",
      "metadata": {
        "id": "DWIcQzm70Dvl",
        "colab": {
          "base_uri": "https://localhost:8080/",
          "height": 202
        },
        "outputId": "a43ca0ef-bc81-4490-c36a-3ea19e7329c4"
      },
      "source": [
        "group_bl = data.groupby('blended', axis = 0).mean()\n",
        "pd.DataFrame(group_bl['rating'])"
      ],
      "execution_count": 663,
      "outputs": [
        {
          "output_type": "execute_result",
          "data": {
            "text/html": [
              "<div>\n",
              "<style scoped>\n",
              "    .dataframe tbody tr th:only-of-type {\n",
              "        vertical-align: middle;\n",
              "    }\n",
              "\n",
              "    .dataframe tbody tr th {\n",
              "        vertical-align: top;\n",
              "    }\n",
              "\n",
              "    .dataframe thead th {\n",
              "        text-align: right;\n",
              "    }\n",
              "</style>\n",
              "<table border=\"1\" class=\"dataframe\">\n",
              "  <thead>\n",
              "    <tr style=\"text-align: right;\">\n",
              "      <th></th>\n",
              "      <th>rating</th>\n",
              "    </tr>\n",
              "    <tr>\n",
              "      <th>blended</th>\n",
              "      <th></th>\n",
              "    </tr>\n",
              "  </thead>\n",
              "  <tbody>\n",
              "    <tr>\n",
              "      <th></th>\n",
              "      <td>633.901408</td>\n",
              "    </tr>\n",
              "    <tr>\n",
              "      <th>DevOps</th>\n",
              "      <td>1154.172414</td>\n",
              "    </tr>\n",
              "    <tr>\n",
              "      <th>Введение в дифференциальную геометрию</th>\n",
              "      <td>1210.733333</td>\n",
              "    </tr>\n",
              "    <tr>\n",
              "      <th>Соревновательный анализ данных</th>\n",
              "      <td>1144.218750</td>\n",
              "    </tr>\n",
              "  </tbody>\n",
              "</table>\n",
              "</div>"
            ],
            "text/plain": [
              "                                            rating\n",
              "blended                                           \n",
              "                                        633.901408\n",
              "DevOps                                 1154.172414\n",
              "Введение в дифференциальную геометрию  1210.733333\n",
              "Соревновательный анализ данных         1144.218750"
            ]
          },
          "metadata": {},
          "execution_count": 663
        }
      ]
    },
    {
      "cell_type": "markdown",
      "metadata": {
        "id": "B3z5U2rdnfzr"
      },
      "source": [
        "Наибольший средний рейтинг у студентов, записавшихся на \"Введение в дифференциальную геометрию\""
      ]
    },
    {
      "cell_type": "markdown",
      "metadata": {
        "id": "BSoy417PnBz_"
      },
      "source": [
        "# 6)\n"
      ]
    },
    {
      "cell_type": "code",
      "metadata": {
        "id": "gyoXddOg0Dxz"
      },
      "source": [
        "diff = data.loc[data.duplicated(['fall_1', 'fall_2', 'fall_3', 'spring_1','spring_2', 'spring_3', 'blended'], keep = False)]"
      ],
      "execution_count": 664,
      "outputs": []
    },
    {
      "cell_type": "code",
      "metadata": {
        "id": "75U5kvk70D0I",
        "colab": {
          "base_uri": "https://localhost:8080/",
          "height": 388
        },
        "outputId": "a17fb6be-9688-40d2-84b3-423d186a1afc"
      },
      "source": [
        "diff.head(5)"
      ],
      "execution_count": 665,
      "outputs": [
        {
          "output_type": "execute_result",
          "data": {
            "text/html": [
              "<div>\n",
              "<style scoped>\n",
              "    .dataframe tbody tr th:only-of-type {\n",
              "        vertical-align: middle;\n",
              "    }\n",
              "\n",
              "    .dataframe tbody tr th {\n",
              "        vertical-align: top;\n",
              "    }\n",
              "\n",
              "    .dataframe thead th {\n",
              "        text-align: right;\n",
              "    }\n",
              "</style>\n",
              "<table border=\"1\" class=\"dataframe\">\n",
              "  <thead>\n",
              "    <tr style=\"text-align: right;\">\n",
              "      <th></th>\n",
              "      <th>timestamp</th>\n",
              "      <th>id</th>\n",
              "      <th>rating</th>\n",
              "      <th>18_group</th>\n",
              "      <th>is_mi</th>\n",
              "      <th>fall_1</th>\n",
              "      <th>fall_2</th>\n",
              "      <th>fall_3</th>\n",
              "      <th>spring_1</th>\n",
              "      <th>spring_2</th>\n",
              "      <th>spring_3</th>\n",
              "      <th>is_first_time</th>\n",
              "      <th>percentile</th>\n",
              "      <th>17_group</th>\n",
              "      <th>blended</th>\n",
              "      <th>is_ml_student</th>\n",
              "    </tr>\n",
              "  </thead>\n",
              "  <tbody>\n",
              "    <tr>\n",
              "      <th>16</th>\n",
              "      <td>2020-05-15 16:58:06.959</td>\n",
              "      <td>64173586abab6f7a172946c8c74bde0d</td>\n",
              "      <td>630</td>\n",
              "      <td>181</td>\n",
              "      <td>0</td>\n",
              "      <td>Безопасность компьютерных систем</td>\n",
              "      <td>Высокопроизводительные вычисления</td>\n",
              "      <td>Язык SQL</td>\n",
              "      <td>Компьютерные сети</td>\n",
              "      <td>Промышленное программирование на языке Java</td>\n",
              "      <td>Дискретная оптимизация</td>\n",
              "      <td>Да</td>\n",
              "      <td>0.502242</td>\n",
              "      <td>0</td>\n",
              "      <td></td>\n",
              "      <td></td>\n",
              "    </tr>\n",
              "    <tr>\n",
              "      <th>30</th>\n",
              "      <td>2020-05-16 15:01:06.274</td>\n",
              "      <td>b121e4d7d62387cd5199cca464a34a6d</td>\n",
              "      <td>694</td>\n",
              "      <td>185</td>\n",
              "      <td>0</td>\n",
              "      <td>Безопасность компьютерных систем</td>\n",
              "      <td>Теория баз данных</td>\n",
              "      <td>Язык SQL</td>\n",
              "      <td>Машинное обучение 2</td>\n",
              "      <td>Компьютерные сети</td>\n",
              "      <td>Промышленное программирование на языке Java</td>\n",
              "      <td>Нет</td>\n",
              "      <td>0.204036</td>\n",
              "      <td>0</td>\n",
              "      <td></td>\n",
              "      <td></td>\n",
              "    </tr>\n",
              "    <tr>\n",
              "      <th>40</th>\n",
              "      <td>2020-05-17 00:54:43.939</td>\n",
              "      <td>d38ebd0ba564ea88de8015e116f811c8</td>\n",
              "      <td>546</td>\n",
              "      <td>187</td>\n",
              "      <td>0</td>\n",
              "      <td>Безопасность компьютерных систем</td>\n",
              "      <td>Высокопроизводительные вычисления</td>\n",
              "      <td>Язык SQL</td>\n",
              "      <td>Компьютерные сети</td>\n",
              "      <td>Промышленное программирование на языке Java</td>\n",
              "      <td>Дискретная оптимизация</td>\n",
              "      <td>Да</td>\n",
              "      <td>0.883408</td>\n",
              "      <td>0</td>\n",
              "      <td></td>\n",
              "      <td></td>\n",
              "    </tr>\n",
              "    <tr>\n",
              "      <th>64</th>\n",
              "      <td>2020-05-18 11:13:13.920</td>\n",
              "      <td>b8d4c538f6b47a1a692bec6c2f29152b</td>\n",
              "      <td>682</td>\n",
              "      <td>183</td>\n",
              "      <td>0</td>\n",
              "      <td>Безопасность компьютерных систем</td>\n",
              "      <td>Высокопроизводительные вычисления</td>\n",
              "      <td>Язык SQL</td>\n",
              "      <td>Промышленное программирование на языке Java</td>\n",
              "      <td>Компьютерные сети</td>\n",
              "      <td>Системы баз данных</td>\n",
              "      <td>Да</td>\n",
              "      <td>0.260090</td>\n",
              "      <td>0</td>\n",
              "      <td></td>\n",
              "      <td></td>\n",
              "    </tr>\n",
              "    <tr>\n",
              "      <th>67</th>\n",
              "      <td>2020-05-18 12:41:04.520</td>\n",
              "      <td>348562c4a55053de25fdd4389b9f1181</td>\n",
              "      <td>650</td>\n",
              "      <td>186</td>\n",
              "      <td>0</td>\n",
              "      <td>Моделирование временных рядов</td>\n",
              "      <td>Сбор и обработка данных с помощью краудсорсинга</td>\n",
              "      <td>Безопасность компьютерных систем</td>\n",
              "      <td>Компьютерные сети</td>\n",
              "      <td>Дополнительные главы прикладной статистики</td>\n",
              "      <td>Системы баз данных</td>\n",
              "      <td>Да</td>\n",
              "      <td>0.412556</td>\n",
              "      <td>0</td>\n",
              "      <td></td>\n",
              "      <td>1</td>\n",
              "    </tr>\n",
              "  </tbody>\n",
              "</table>\n",
              "</div>"
            ],
            "text/plain": [
              "                 timestamp  ... is_ml_student\n",
              "16 2020-05-15 16:58:06.959  ...              \n",
              "30 2020-05-16 15:01:06.274  ...              \n",
              "40 2020-05-17 00:54:43.939  ...              \n",
              "64 2020-05-18 11:13:13.920  ...              \n",
              "67 2020-05-18 12:41:04.520  ...             1\n",
              "\n",
              "[5 rows x 16 columns]"
            ]
          },
          "metadata": {},
          "execution_count": 665
        }
      ]
    },
    {
      "cell_type": "code",
      "metadata": {
        "id": "HGBBQAxn0D22",
        "colab": {
          "base_uri": "https://localhost:8080/"
        },
        "outputId": "348325d5-81dd-477b-e76e-2f8c371ca178"
      },
      "source": [
        "diff['id'].count()"
      ],
      "execution_count": 666,
      "outputs": [
        {
          "output_type": "execute_result",
          "data": {
            "text/plain": [
              "32"
            ]
          },
          "metadata": {},
          "execution_count": 666
        }
      ]
    },
    {
      "cell_type": "code",
      "metadata": {
        "colab": {
          "base_uri": "https://localhost:8080/",
          "height": 858
        },
        "id": "cG-qz-aZcDJU",
        "outputId": "ec76ca25-150a-410a-8b5b-a2ed5cfa983b"
      },
      "source": [
        "diff_subj = diff[['fall_1', 'fall_2', 'fall_3', 'spring_1', 'spring_2', 'spring_3', 'blended']]\n",
        "\n",
        "diff_subj.groupby(diff_subj.columns.tolist()).size().reset_index().rename(columns={0:'Количество повторений'})\n"
      ],
      "execution_count": 667,
      "outputs": [
        {
          "output_type": "execute_result",
          "data": {
            "text/html": [
              "<div>\n",
              "<style scoped>\n",
              "    .dataframe tbody tr th:only-of-type {\n",
              "        vertical-align: middle;\n",
              "    }\n",
              "\n",
              "    .dataframe tbody tr th {\n",
              "        vertical-align: top;\n",
              "    }\n",
              "\n",
              "    .dataframe thead th {\n",
              "        text-align: right;\n",
              "    }\n",
              "</style>\n",
              "<table border=\"1\" class=\"dataframe\">\n",
              "  <thead>\n",
              "    <tr style=\"text-align: right;\">\n",
              "      <th></th>\n",
              "      <th>fall_1</th>\n",
              "      <th>fall_2</th>\n",
              "      <th>fall_3</th>\n",
              "      <th>spring_1</th>\n",
              "      <th>spring_2</th>\n",
              "      <th>spring_3</th>\n",
              "      <th>blended</th>\n",
              "      <th>Количество повторений</th>\n",
              "    </tr>\n",
              "  </thead>\n",
              "  <tbody>\n",
              "    <tr>\n",
              "      <th>0</th>\n",
              "      <td>Statistical Learning Theory</td>\n",
              "      <td>Анализ неструктурированных данных</td>\n",
              "      <td>Сбор и обработка данных с помощью краудсорсинга</td>\n",
              "      <td>Обучение с подкреплением</td>\n",
              "      <td>Конфликты и кооперация</td>\n",
              "      <td>Компьютерное зрение</td>\n",
              "      <td>DevOps</td>\n",
              "      <td>2</td>\n",
              "    </tr>\n",
              "    <tr>\n",
              "      <th>1</th>\n",
              "      <td>Байесовские методы машинного обучения</td>\n",
              "      <td>Анализ неструктурированных данных</td>\n",
              "      <td>Глубинное обучение в обработке звука</td>\n",
              "      <td>Обучение с подкреплением</td>\n",
              "      <td>Генеративные модели в машинном обучении</td>\n",
              "      <td>Компьютерное зрение</td>\n",
              "      <td>DevOps</td>\n",
              "      <td>2</td>\n",
              "    </tr>\n",
              "    <tr>\n",
              "      <th>2</th>\n",
              "      <td>Байесовские методы машинного обучения</td>\n",
              "      <td>Анализ неструктурированных данных</td>\n",
              "      <td>Сбор и обработка данных с помощью краудсорсинга</td>\n",
              "      <td>Обучение с подкреплением</td>\n",
              "      <td>Компьютерное зрение</td>\n",
              "      <td>Генеративные модели в машинном обучении</td>\n",
              "      <td>DevOps</td>\n",
              "      <td>2</td>\n",
              "    </tr>\n",
              "    <tr>\n",
              "      <th>3</th>\n",
              "      <td>Безопасность компьютерных систем</td>\n",
              "      <td>Statistical Learning Theory</td>\n",
              "      <td>Матричные вычисления</td>\n",
              "      <td>Дискретная оптимизация</td>\n",
              "      <td>Промышленное программирование на языке Java</td>\n",
              "      <td>Дополнительные главы прикладной статистики</td>\n",
              "      <td></td>\n",
              "      <td>3</td>\n",
              "    </tr>\n",
              "    <tr>\n",
              "      <th>4</th>\n",
              "      <td>Безопасность компьютерных систем</td>\n",
              "      <td>Высокопроизводительные вычисления</td>\n",
              "      <td>Анализ неструктурированных данных</td>\n",
              "      <td>Проектирование и разработка высоконагруженных ...</td>\n",
              "      <td>Методы сжатия и передачи медиаданных</td>\n",
              "      <td>Конфликты и кооперация</td>\n",
              "      <td>DevOps</td>\n",
              "      <td>2</td>\n",
              "    </tr>\n",
              "    <tr>\n",
              "      <th>5</th>\n",
              "      <td>Безопасность компьютерных систем</td>\n",
              "      <td>Высокопроизводительные вычисления</td>\n",
              "      <td>Язык SQL</td>\n",
              "      <td>Компьютерные сети</td>\n",
              "      <td>Промышленное программирование на языке Java</td>\n",
              "      <td>Дискретная оптимизация</td>\n",
              "      <td></td>\n",
              "      <td>3</td>\n",
              "    </tr>\n",
              "    <tr>\n",
              "      <th>6</th>\n",
              "      <td>Безопасность компьютерных систем</td>\n",
              "      <td>Высокопроизводительные вычисления</td>\n",
              "      <td>Язык SQL</td>\n",
              "      <td>Промышленное программирование на языке Java</td>\n",
              "      <td>Компьютерные сети</td>\n",
              "      <td>Системы баз данных</td>\n",
              "      <td></td>\n",
              "      <td>2</td>\n",
              "    </tr>\n",
              "    <tr>\n",
              "      <th>7</th>\n",
              "      <td>Безопасность компьютерных систем</td>\n",
              "      <td>Матричные вычисления</td>\n",
              "      <td>Моделирование временных рядов</td>\n",
              "      <td>Промышленное программирование на языке Java</td>\n",
              "      <td>Компьютерные сети</td>\n",
              "      <td>Дискретная оптимизация</td>\n",
              "      <td></td>\n",
              "      <td>2</td>\n",
              "    </tr>\n",
              "    <tr>\n",
              "      <th>8</th>\n",
              "      <td>Безопасность компьютерных систем</td>\n",
              "      <td>Сбор и обработка данных с помощью краудсорсинга</td>\n",
              "      <td>Матричные вычисления</td>\n",
              "      <td>Компьютерные сети</td>\n",
              "      <td>Промышленное программирование на языке Java</td>\n",
              "      <td>Анализ данных в бизнесе</td>\n",
              "      <td></td>\n",
              "      <td>2</td>\n",
              "    </tr>\n",
              "    <tr>\n",
              "      <th>9</th>\n",
              "      <td>Безопасность компьютерных систем</td>\n",
              "      <td>Теория баз данных</td>\n",
              "      <td>Язык SQL</td>\n",
              "      <td>Машинное обучение 2</td>\n",
              "      <td>Компьютерные сети</td>\n",
              "      <td>Промышленное программирование на языке Java</td>\n",
              "      <td></td>\n",
              "      <td>2</td>\n",
              "    </tr>\n",
              "    <tr>\n",
              "      <th>10</th>\n",
              "      <td>Высокопроизводительные вычисления</td>\n",
              "      <td>Безопасность компьютерных систем</td>\n",
              "      <td>Сбор и обработка данных с помощью краудсорсинга</td>\n",
              "      <td>Проектирование и разработка высоконагруженных ...</td>\n",
              "      <td>Методы сжатия и передачи медиаданных</td>\n",
              "      <td>Компьютерное зрение</td>\n",
              "      <td>DevOps</td>\n",
              "      <td>2</td>\n",
              "    </tr>\n",
              "    <tr>\n",
              "      <th>11</th>\n",
              "      <td>Высокопроизводительные вычисления</td>\n",
              "      <td>Сбор и обработка данных с помощью краудсорсинга</td>\n",
              "      <td>Моделирование временных рядов</td>\n",
              "      <td>Проектирование и разработка высоконагруженных ...</td>\n",
              "      <td>Методы сжатия и передачи медиаданных</td>\n",
              "      <td>Методы сжатия и передачи медиаданных</td>\n",
              "      <td>DevOps</td>\n",
              "      <td>2</td>\n",
              "    </tr>\n",
              "    <tr>\n",
              "      <th>12</th>\n",
              "      <td>Моделирование временных рядов</td>\n",
              "      <td>Сбор и обработка данных с помощью краудсорсинга</td>\n",
              "      <td>Безопасность компьютерных систем</td>\n",
              "      <td>Компьютерные сети</td>\n",
              "      <td>Дополнительные главы прикладной статистики</td>\n",
              "      <td>Системы баз данных</td>\n",
              "      <td></td>\n",
              "      <td>2</td>\n",
              "    </tr>\n",
              "    <tr>\n",
              "      <th>13</th>\n",
              "      <td>Сбор и обработка данных с помощью краудсорсинга</td>\n",
              "      <td>Язык SQL</td>\n",
              "      <td>Теория баз данных</td>\n",
              "      <td>Промышленное программирование на языке Java</td>\n",
              "      <td>Машинное обучение 2</td>\n",
              "      <td>Компьютерные сети</td>\n",
              "      <td></td>\n",
              "      <td>2</td>\n",
              "    </tr>\n",
              "    <tr>\n",
              "      <th>14</th>\n",
              "      <td>Язык SQL</td>\n",
              "      <td>Высокопроизводительные вычисления</td>\n",
              "      <td>Теория баз данных</td>\n",
              "      <td>Компьютерные сети</td>\n",
              "      <td>Промышленное программирование на языке Java</td>\n",
              "      <td>Дискретная оптимизация</td>\n",
              "      <td></td>\n",
              "      <td>2</td>\n",
              "    </tr>\n",
              "  </tbody>\n",
              "</table>\n",
              "</div>"
            ],
            "text/plain": [
              "                                             fall_1  ... Количество повторений\n",
              "0                       Statistical Learning Theory  ...                     2\n",
              "1             Байесовские методы машинного обучения  ...                     2\n",
              "2             Байесовские методы машинного обучения  ...                     2\n",
              "3                  Безопасность компьютерных систем  ...                     3\n",
              "4                  Безопасность компьютерных систем  ...                     2\n",
              "5                  Безопасность компьютерных систем  ...                     3\n",
              "6                  Безопасность компьютерных систем  ...                     2\n",
              "7                  Безопасность компьютерных систем  ...                     2\n",
              "8                  Безопасность компьютерных систем  ...                     2\n",
              "9                  Безопасность компьютерных систем  ...                     2\n",
              "10                Высокопроизводительные вычисления  ...                     2\n",
              "11                Высокопроизводительные вычисления  ...                     2\n",
              "12                    Моделирование временных рядов  ...                     2\n",
              "13  Сбор и обработка данных с помощью краудсорсинга  ...                     2\n",
              "14                                         Язык SQL  ...                     2\n",
              "\n",
              "[15 rows x 8 columns]"
            ]
          },
          "metadata": {},
          "execution_count": 667
        }
      ]
    },
    {
      "cell_type": "markdown",
      "metadata": {
        "id": "OZRt7SrMtbqQ"
      },
      "source": [
        "\n",
        "# 7)\n",
        "\n",
        "\n"
      ]
    },
    {
      "cell_type": "code",
      "metadata": {
        "id": "uM94ZdXMtavl"
      },
      "source": [
        "data = data.astype({'17_group': 'int', '18_group' : 'int'})"
      ],
      "execution_count": 668,
      "outputs": []
    },
    {
      "cell_type": "code",
      "metadata": {
        "colab": {
          "base_uri": "https://localhost:8080/"
        },
        "id": "4Rq9pARCtazi",
        "outputId": "b7782806-e4af-4d32-d76b-f7cb4fa8e89b"
      },
      "source": [
        "data.dtypes"
      ],
      "execution_count": 669,
      "outputs": [
        {
          "output_type": "execute_result",
          "data": {
            "text/plain": [
              "timestamp        datetime64[ns]\n",
              "id                       object\n",
              "rating                    int64\n",
              "18_group                  int64\n",
              "is_mi                    object\n",
              "fall_1                   object\n",
              "fall_2                   object\n",
              "fall_3                   object\n",
              "spring_1                 object\n",
              "spring_2                 object\n",
              "spring_3                 object\n",
              "is_first_time            object\n",
              "percentile              float64\n",
              "17_group                  int64\n",
              "blended                  object\n",
              "is_ml_student            object\n",
              "dtype: object"
            ]
          },
          "metadata": {},
          "execution_count": 669
        }
      ]
    },
    {
      "cell_type": "code",
      "metadata": {
        "id": "H9BkIT0kta1k"
      },
      "source": [
        "groups_18 =  data.drop(data[data['17_group'] == 0].index)\n",
        "groups_17 =  data.drop(data[data['18_group'] == 0].index)"
      ],
      "execution_count": 670,
      "outputs": []
    },
    {
      "cell_type": "code",
      "metadata": {
        "colab": {
          "base_uri": "https://localhost:8080/"
        },
        "id": "yIl4oZYl6Q3X",
        "outputId": "dd618971-8c24-46cd-f09e-c2cb4329e18c"
      },
      "source": [
        "unique_18_сheck = groups_18[['fall_1', 'fall_2', 'fall_3', 'spring_1', 'spring_2', 'spring_3', 'blended']].nunique()\n",
        "unique_18_сheck\n"
      ],
      "execution_count": 671,
      "outputs": [
        {
          "output_type": "execute_result",
          "data": {
            "text/plain": [
              "fall_1      9\n",
              "fall_2      9\n",
              "fall_3      9\n",
              "spring_1    8\n",
              "spring_2    8\n",
              "spring_3    8\n",
              "blended     3\n",
              "dtype: int64"
            ]
          },
          "metadata": {},
          "execution_count": 671
        }
      ]
    },
    {
      "cell_type": "code",
      "metadata": {
        "colab": {
          "base_uri": "https://localhost:8080/"
        },
        "id": "90pxCMIk7t3_",
        "outputId": "dcf95e2f-f8ec-40cb-e95a-c0d1213f444d"
      },
      "source": [
        "unique_17_сheck = groups_17[['fall_1', 'fall_2', 'fall_3', 'spring_1', 'spring_2', 'spring_3', 'blended']].nunique()\n",
        "unique_17_сheck"
      ],
      "execution_count": 672,
      "outputs": [
        {
          "output_type": "execute_result",
          "data": {
            "text/plain": [
              "fall_1      9\n",
              "fall_2      9\n",
              "fall_3      9\n",
              "spring_1    8\n",
              "spring_2    8\n",
              "spring_3    8\n",
              "blended     1\n",
              "dtype: int64"
            ]
          },
          "metadata": {},
          "execution_count": 672
        }
      ]
    },
    {
      "cell_type": "markdown",
      "metadata": {
        "id": "MiR_Hwd_7Jx5"
      },
      "source": [
        "Видим, что для каждого пулла (1,2,3)каждый курс выбирался хотя бы 1 студентом "
      ]
    },
    {
      "cell_type": "code",
      "metadata": {
        "colab": {
          "base_uri": "https://localhost:8080/",
          "height": 48
        },
        "id": "6subEoAM7oG-",
        "outputId": "98094826-483b-4e7a-f0a2-2985bcd1a537"
      },
      "source": [
        "unique_18_fall = groups_18['fall_1'].unique()\n",
        "unique_18_spring = groups_18['spring_1'].unique()\n",
        "unique_17_fall = groups_17['fall_1'].unique()\n",
        "unique_17_spring = groups_17['spring_1'].unique()\n",
        "unique_fall = (pd.DataFrame(list(unique_18_fall) + list(unique_17_fall))).drop_duplicates(keep = False)\n",
        "unique_spring = (pd.DataFrame(list(unique_18_spring) + list(unique_17_spring))).drop_duplicates(keep = False)"
      ],
      "execution_count": 673,
      "outputs": [
        {
          "output_type": "execute_result",
          "data": {
            "text/html": [
              "<div>\n",
              "<style scoped>\n",
              "    .dataframe tbody tr th:only-of-type {\n",
              "        vertical-align: middle;\n",
              "    }\n",
              "\n",
              "    .dataframe tbody tr th {\n",
              "        vertical-align: top;\n",
              "    }\n",
              "\n",
              "    .dataframe thead th {\n",
              "        text-align: right;\n",
              "    }\n",
              "</style>\n",
              "<table border=\"1\" class=\"dataframe\">\n",
              "  <thead>\n",
              "    <tr style=\"text-align: right;\">\n",
              "      <th></th>\n",
              "      <th>0</th>\n",
              "    </tr>\n",
              "  </thead>\n",
              "  <tbody>\n",
              "  </tbody>\n",
              "</table>\n",
              "</div>"
            ],
            "text/plain": [
              "Empty DataFrame\n",
              "Columns: [0]\n",
              "Index: []"
            ]
          },
          "metadata": {},
          "execution_count": 673
        }
      ]
    },
    {
      "cell_type": "markdown",
      "metadata": {
        "id": "wjZ8A0EoBGKP"
      },
      "source": [
        "Предметы, которые предлагались только для одного из курсов Fall\n"
      ]
    },
    {
      "cell_type": "code",
      "metadata": {
        "colab": {
          "base_uri": "https://localhost:8080/",
          "height": 232
        },
        "id": "6V3_vuNy7oJ1",
        "outputId": "a67790fd-b29c-49df-f5c0-006ed19e92d5"
      },
      "source": [
        "unique_fall"
      ],
      "execution_count": 674,
      "outputs": [
        {
          "output_type": "execute_result",
          "data": {
            "text/html": [
              "<div>\n",
              "<style scoped>\n",
              "    .dataframe tbody tr th:only-of-type {\n",
              "        vertical-align: middle;\n",
              "    }\n",
              "\n",
              "    .dataframe tbody tr th {\n",
              "        vertical-align: top;\n",
              "    }\n",
              "\n",
              "    .dataframe thead th {\n",
              "        text-align: right;\n",
              "    }\n",
              "</style>\n",
              "<table border=\"1\" class=\"dataframe\">\n",
              "  <thead>\n",
              "    <tr style=\"text-align: right;\">\n",
              "      <th></th>\n",
              "      <th>0</th>\n",
              "    </tr>\n",
              "  </thead>\n",
              "  <tbody>\n",
              "    <tr>\n",
              "      <th>1</th>\n",
              "      <td>Глубинное обучение в обработке звука</td>\n",
              "    </tr>\n",
              "    <tr>\n",
              "      <th>4</th>\n",
              "      <td>Анализ неструктурированных данных</td>\n",
              "    </tr>\n",
              "    <tr>\n",
              "      <th>5</th>\n",
              "      <td>Байесовские методы машинного обучения</td>\n",
              "    </tr>\n",
              "    <tr>\n",
              "      <th>9</th>\n",
              "      <td>Язык SQL</td>\n",
              "    </tr>\n",
              "    <tr>\n",
              "      <th>13</th>\n",
              "      <td>Теория баз данных</td>\n",
              "    </tr>\n",
              "    <tr>\n",
              "      <th>16</th>\n",
              "      <td>Матричные вычисления</td>\n",
              "    </tr>\n",
              "  </tbody>\n",
              "</table>\n",
              "</div>"
            ],
            "text/plain": [
              "                                        0\n",
              "1    Глубинное обучение в обработке звука\n",
              "4       Анализ неструктурированных данных\n",
              "5   Байесовские методы машинного обучения\n",
              "9                                Язык SQL\n",
              "13                      Теория баз данных\n",
              "16                   Матричные вычисления"
            ]
          },
          "metadata": {},
          "execution_count": 674
        }
      ]
    },
    {
      "cell_type": "markdown",
      "metadata": {
        "id": "1GkpRkd6BSuH"
      },
      "source": [
        "Предметы, которые предлагались только для одного из курсов Fall"
      ]
    },
    {
      "cell_type": "code",
      "metadata": {
        "colab": {
          "base_uri": "https://localhost:8080/",
          "height": 477
        },
        "id": "Nyr6Bntk7oQF",
        "outputId": "c846856d-369b-4884-b533-13b1b36def87"
      },
      "source": [
        "unique_spring"
      ],
      "execution_count": 675,
      "outputs": [
        {
          "output_type": "execute_result",
          "data": {
            "text/html": [
              "<div>\n",
              "<style scoped>\n",
              "    .dataframe tbody tr th:only-of-type {\n",
              "        vertical-align: middle;\n",
              "    }\n",
              "\n",
              "    .dataframe tbody tr th {\n",
              "        vertical-align: top;\n",
              "    }\n",
              "\n",
              "    .dataframe thead th {\n",
              "        text-align: right;\n",
              "    }\n",
              "</style>\n",
              "<table border=\"1\" class=\"dataframe\">\n",
              "  <thead>\n",
              "    <tr style=\"text-align: right;\">\n",
              "      <th></th>\n",
              "      <th>0</th>\n",
              "    </tr>\n",
              "  </thead>\n",
              "  <tbody>\n",
              "    <tr>\n",
              "      <th>0</th>\n",
              "      <td>Компьютерное зрение</td>\n",
              "    </tr>\n",
              "    <tr>\n",
              "      <th>1</th>\n",
              "      <td>Проектирование и разработка высоконагруженных ...</td>\n",
              "    </tr>\n",
              "    <tr>\n",
              "      <th>2</th>\n",
              "      <td>Конфликты и кооперация</td>\n",
              "    </tr>\n",
              "    <tr>\n",
              "      <th>3</th>\n",
              "      <td>Символьные вычисления</td>\n",
              "    </tr>\n",
              "    <tr>\n",
              "      <th>4</th>\n",
              "      <td>Методы сжатия и передачи медиаданных</td>\n",
              "    </tr>\n",
              "    <tr>\n",
              "      <th>5</th>\n",
              "      <td>Обучение с подкреплением</td>\n",
              "    </tr>\n",
              "    <tr>\n",
              "      <th>6</th>\n",
              "      <td>Генеративные модели в машинном обучении</td>\n",
              "    </tr>\n",
              "    <tr>\n",
              "      <th>8</th>\n",
              "      <td>Дискретная оптимизация</td>\n",
              "    </tr>\n",
              "    <tr>\n",
              "      <th>9</th>\n",
              "      <td>Компьютерные сети</td>\n",
              "    </tr>\n",
              "    <tr>\n",
              "      <th>10</th>\n",
              "      <td>Промышленное программирование на языке Java</td>\n",
              "    </tr>\n",
              "    <tr>\n",
              "      <th>12</th>\n",
              "      <td>Дополнительные главы прикладной статистики</td>\n",
              "    </tr>\n",
              "    <tr>\n",
              "      <th>13</th>\n",
              "      <td>Анализ данных в бизнесе</td>\n",
              "    </tr>\n",
              "    <tr>\n",
              "      <th>14</th>\n",
              "      <td>Машинное обучение 2</td>\n",
              "    </tr>\n",
              "    <tr>\n",
              "      <th>15</th>\n",
              "      <td>Системы баз данных</td>\n",
              "    </tr>\n",
              "  </tbody>\n",
              "</table>\n",
              "</div>"
            ],
            "text/plain": [
              "                                                    0\n",
              "0                                 Компьютерное зрение\n",
              "1   Проектирование и разработка высоконагруженных ...\n",
              "2                              Конфликты и кооперация\n",
              "3                               Символьные вычисления\n",
              "4                Методы сжатия и передачи медиаданных\n",
              "5                            Обучение с подкреплением\n",
              "6             Генеративные модели в машинном обучении\n",
              "8                              Дискретная оптимизация\n",
              "9                                   Компьютерные сети\n",
              "10        Промышленное программирование на языке Java\n",
              "12         Дополнительные главы прикладной статистики\n",
              "13                            Анализ данных в бизнесе\n",
              "14                                Машинное обучение 2\n",
              "15                                 Системы баз данных"
            ]
          },
          "metadata": {},
          "execution_count": 675
        }
      ]
    },
    {
      "cell_type": "markdown",
      "metadata": {
        "id": "ewOyJnYQBtYs"
      },
      "source": [
        "Методом исключения получаем остальные "
      ]
    },
    {
      "cell_type": "code",
      "metadata": {
        "colab": {
          "base_uri": "https://localhost:8080/"
        },
        "id": "UZI3XJC5B9nG",
        "outputId": "7b1c514f-17e3-471d-cd13-f70da7d15caa"
      },
      "source": [
        "from collections import Counter\n",
        "counter_fall = Counter(list(unique_18_fall) + list(unique_17_fall))\n",
        "counter_fall"
      ],
      "execution_count": 676,
      "outputs": [
        {
          "output_type": "execute_result",
          "data": {
            "text/plain": [
              "Counter({'Statistical Learning Theory': 2,\n",
              "         'Анализ неструктурированных данных': 1,\n",
              "         'Байесовские методы машинного обучения': 1,\n",
              "         'Безопасность компьютерных систем': 2,\n",
              "         'Высокопроизводительные вычисления': 2,\n",
              "         'Глубинное обучение в обработке звука': 1,\n",
              "         'Матричные вычисления': 1,\n",
              "         'Моделирование временных рядов': 2,\n",
              "         'Принятие решений в условиях риска и неопределённости': 2,\n",
              "         'Сбор и обработка данных с помощью краудсорсинга': 2,\n",
              "         'Теория баз данных': 1,\n",
              "         'Язык SQL': 1})"
            ]
          },
          "metadata": {},
          "execution_count": 676
        }
      ]
    },
    {
      "cell_type": "code",
      "metadata": {
        "colab": {
          "base_uri": "https://localhost:8080/"
        },
        "id": "jJLoJON3_BYT",
        "outputId": "4c10ee65-0d4d-4022-f3ba-6bff28e8433d"
      },
      "source": [
        "counter_spring = Counter(list(unique_18_spring) + list(unique_17_spring))\n",
        "counter_spring"
      ],
      "execution_count": 677,
      "outputs": [
        {
          "output_type": "execute_result",
          "data": {
            "text/plain": [
              "Counter({'Анализ данных в бизнесе': 1,\n",
              "         'Генеративные модели в машинном обучении': 1,\n",
              "         'Дискретная оптимизация': 1,\n",
              "         'Дополнительные главы прикладной статистики': 1,\n",
              "         'Компьютерное зрение': 1,\n",
              "         'Компьютерные сети': 1,\n",
              "         'Конфликты и кооперация': 1,\n",
              "         'Машинное обучение 2': 1,\n",
              "         'Методы сжатия и передачи медиаданных': 1,\n",
              "         'Обучение с подкреплением': 1,\n",
              "         'Проектирование и разработка высоконагруженных сервисов': 1,\n",
              "         'Промышленное программирование на языке Java': 1,\n",
              "         'Символьные вычисления': 1,\n",
              "         'Системы баз данных': 1,\n",
              "         'Численные методы': 2})"
            ]
          },
          "metadata": {},
          "execution_count": 677
        }
      ]
    },
    {
      "cell_type": "markdown",
      "metadata": {
        "id": "ea1pMZLunaAv"
      },
      "source": [
        "#Визуализация"
      ]
    },
    {
      "cell_type": "code",
      "metadata": {
        "id": "BSnl3NkgcDMA"
      },
      "source": [
        "%matplotlib inline\n",
        "import seaborn as sns\n",
        "import matplotlib.pyplot as plt\n",
        "import datetime as dt "
      ],
      "execution_count": 678,
      "outputs": []
    },
    {
      "cell_type": "markdown",
      "metadata": {
        "id": "3NkqRqTwniX7"
      },
      "source": [
        "Переведём дату в формат гггг-мм-дд"
      ]
    },
    {
      "cell_type": "code",
      "metadata": {
        "id": "bDOZvktwkAlB"
      },
      "source": [
        "data['timestamp'] = pd.to_datetime(data['timestamp'])  \n",
        "data['timestamp'] = data['timestamp'].dt.date"
      ],
      "execution_count": 679,
      "outputs": []
    },
    {
      "cell_type": "code",
      "metadata": {
        "colab": {
          "base_uri": "https://localhost:8080/",
          "height": 386
        },
        "id": "MI6LOtS2kTMf",
        "outputId": "f9168f78-50f1-4f85-af62-bbc4122efd19"
      },
      "source": [
        "pypl = data.groupby('timestamp').mean()\n",
        "pypl['timestamp'] = pypl.index\n",
        "pypl"
      ],
      "execution_count": 680,
      "outputs": [
        {
          "output_type": "execute_result",
          "data": {
            "text/html": [
              "<div>\n",
              "<style scoped>\n",
              "    .dataframe tbody tr th:only-of-type {\n",
              "        vertical-align: middle;\n",
              "    }\n",
              "\n",
              "    .dataframe tbody tr th {\n",
              "        vertical-align: top;\n",
              "    }\n",
              "\n",
              "    .dataframe thead th {\n",
              "        text-align: right;\n",
              "    }\n",
              "</style>\n",
              "<table border=\"1\" class=\"dataframe\">\n",
              "  <thead>\n",
              "    <tr style=\"text-align: right;\">\n",
              "      <th></th>\n",
              "      <th>rating</th>\n",
              "      <th>18_group</th>\n",
              "      <th>percentile</th>\n",
              "      <th>17_group</th>\n",
              "      <th>timestamp</th>\n",
              "    </tr>\n",
              "    <tr>\n",
              "      <th>timestamp</th>\n",
              "      <th></th>\n",
              "      <th></th>\n",
              "      <th></th>\n",
              "      <th></th>\n",
              "      <th></th>\n",
              "    </tr>\n",
              "  </thead>\n",
              "  <tbody>\n",
              "    <tr>\n",
              "      <th>2020-05-14</th>\n",
              "      <td>1160.277778</td>\n",
              "      <td>0.000000</td>\n",
              "      <td>0.507649</td>\n",
              "      <td>173.888889</td>\n",
              "      <td>2020-05-14</td>\n",
              "    </tr>\n",
              "    <tr>\n",
              "      <th>2020-05-15</th>\n",
              "      <td>719.866667</td>\n",
              "      <td>158.500000</td>\n",
              "      <td>0.430484</td>\n",
              "      <td>23.266667</td>\n",
              "      <td>2020-05-15</td>\n",
              "    </tr>\n",
              "    <tr>\n",
              "      <th>2020-05-16</th>\n",
              "      <td>736.400000</td>\n",
              "      <td>147.866667</td>\n",
              "      <td>0.506213</td>\n",
              "      <td>34.733333</td>\n",
              "      <td>2020-05-16</td>\n",
              "    </tr>\n",
              "    <tr>\n",
              "      <th>2020-05-17</th>\n",
              "      <td>915.027027</td>\n",
              "      <td>84.513514</td>\n",
              "      <td>0.501912</td>\n",
              "      <td>92.891892</td>\n",
              "      <td>2020-05-17</td>\n",
              "    </tr>\n",
              "    <tr>\n",
              "      <th>2020-05-18</th>\n",
              "      <td>827.352679</td>\n",
              "      <td>117.133929</td>\n",
              "      <td>0.487083</td>\n",
              "      <td>63.549107</td>\n",
              "      <td>2020-05-18</td>\n",
              "    </tr>\n",
              "    <tr>\n",
              "      <th>2020-05-19</th>\n",
              "      <td>761.142857</td>\n",
              "      <td>131.071429</td>\n",
              "      <td>0.577765</td>\n",
              "      <td>49.285714</td>\n",
              "      <td>2020-05-19</td>\n",
              "    </tr>\n",
              "    <tr>\n",
              "      <th>2020-05-20</th>\n",
              "      <td>689.500000</td>\n",
              "      <td>139.250000</td>\n",
              "      <td>0.777393</td>\n",
              "      <td>43.250000</td>\n",
              "      <td>2020-05-20</td>\n",
              "    </tr>\n",
              "    <tr>\n",
              "      <th>2020-05-21</th>\n",
              "      <td>584.000000</td>\n",
              "      <td>188.000000</td>\n",
              "      <td>0.721973</td>\n",
              "      <td>0.000000</td>\n",
              "      <td>2020-05-21</td>\n",
              "    </tr>\n",
              "    <tr>\n",
              "      <th>2020-05-23</th>\n",
              "      <td>1080.500000</td>\n",
              "      <td>0.000000</td>\n",
              "      <td>0.677536</td>\n",
              "      <td>174.000000</td>\n",
              "      <td>2020-05-23</td>\n",
              "    </tr>\n",
              "    <tr>\n",
              "      <th>2020-05-24</th>\n",
              "      <td>670.500000</td>\n",
              "      <td>187.000000</td>\n",
              "      <td>0.313901</td>\n",
              "      <td>0.000000</td>\n",
              "      <td>2020-05-24</td>\n",
              "    </tr>\n",
              "  </tbody>\n",
              "</table>\n",
              "</div>"
            ],
            "text/plain": [
              "                 rating    18_group  percentile    17_group   timestamp\n",
              "timestamp                                                              \n",
              "2020-05-14  1160.277778    0.000000    0.507649  173.888889  2020-05-14\n",
              "2020-05-15   719.866667  158.500000    0.430484   23.266667  2020-05-15\n",
              "2020-05-16   736.400000  147.866667    0.506213   34.733333  2020-05-16\n",
              "2020-05-17   915.027027   84.513514    0.501912   92.891892  2020-05-17\n",
              "2020-05-18   827.352679  117.133929    0.487083   63.549107  2020-05-18\n",
              "2020-05-19   761.142857  131.071429    0.577765   49.285714  2020-05-19\n",
              "2020-05-20   689.500000  139.250000    0.777393   43.250000  2020-05-20\n",
              "2020-05-21   584.000000  188.000000    0.721973    0.000000  2020-05-21\n",
              "2020-05-23  1080.500000    0.000000    0.677536  174.000000  2020-05-23\n",
              "2020-05-24   670.500000  187.000000    0.313901    0.000000  2020-05-24"
            ]
          },
          "metadata": {},
          "execution_count": 680
        }
      ]
    },
    {
      "cell_type": "code",
      "metadata": {
        "id": "WIA501tFpJyf"
      },
      "source": [
        "x = pypl['timestamp']\n",
        "y = pypl['rating']\n"
      ],
      "execution_count": 681,
      "outputs": []
    },
    {
      "cell_type": "code",
      "metadata": {
        "colab": {
          "base_uri": "https://localhost:8080/",
          "height": 557
        },
        "id": "5XSiEP7LpJ5N",
        "outputId": "e1ca5c3f-7a01-4837-af6b-a82eefe7b206"
      },
      "source": [
        "fig, ax = plt.subplots()\n",
        "\n",
        "ax.bar(x, y, color = 'skyblue')\n",
        "%config InlineBackend.figure_format = 'retina'\n",
        "ax.grid(axis = 'y', color = 'grey')\n",
        "fig.set_figwidth(12)    \n",
        "fig.set_figheight(8)    \n",
        "ax.set_ylabel('Средний Рейтинг')\n",
        "ax.set_xlabel('День')\n",
        "ax.set_title('Распределение среднего рейтинга')\n",
        "plt.rcParams['font.size'] = 15\n",
        "plt.ylim([0,1300])\n",
        "plt.xticks(rotation = 60)\n",
        "plt.show()\n",
        "fig.savefig('Mean_rating.pdf')"
      ],
      "execution_count": 682,
      "outputs": [
        {
          "output_type": "display_data",
          "data": {
            "image/png": "[encoded data removed]",
            "text/plain": [
              "<Figure size 864x576 with 1 Axes>"
            ]
          },
          "metadata": {
            "image/png": {
              "width": 730,
              "height": 540
            },
            "needs_background": "light"
          }
        }
      ]
    },
    {
      "cell_type": "markdown",
      "metadata": {
        "id": "mj1KAqN_IQl9"
      },
      "source": [
        "# **2. Распределение студентов по курсам.**"
      ]
    },
    {
      "cell_type": "markdown",
      "metadata": {
        "id": "6ed2UsX2Il0h"
      },
      "source": [
        "# 0)"
      ]
    },
    {
      "cell_type": "code",
      "metadata": {
        "id": "P7xEOhGDz0lQ"
      },
      "source": [
        "assert data.shape[0] == 347, 'В таблице остались повторы или потеряны данные'\n",
        "\n",
        "assert data.isna().sum().sum() == 0, 'В таблице остались пропуски'"
      ],
      "execution_count": 683,
      "outputs": []
    },
    {
      "cell_type": "markdown",
      "metadata": {
        "id": "EastssyLJzgx"
      },
      "source": [
        "# 1)"
      ]
    },
    {
      "cell_type": "code",
      "metadata": {
        "colab": {
          "base_uri": "https://localhost:8080/"
        },
        "id": "9N-O6UYuIj61",
        "outputId": "00d3426c-273b-4b8a-babf-75691e3b7eb0"
      },
      "source": [
        "data[\"17_group\"] = pd.to_numeric(data[\"17_group\"])\n",
        "data[\"18_group\"] = pd.to_numeric(data[\"18_group\"])\n",
        "data['group'] = data['17_group'] + data['18_group']\n",
        "data.group.unique()"
      ],
      "execution_count": 684,
      "outputs": [
        {
          "output_type": "execute_result",
          "data": {
            "text/plain": [
              "array([181, 185, 182, 183, 187, 186, 184, 188, 172, 176, 171, 175, 173,\n",
              "       174, 177])"
            ]
          },
          "metadata": {},
          "execution_count": 684
        }
      ]
    },
    {
      "cell_type": "code",
      "metadata": {
        "colab": {
          "base_uri": "https://localhost:8080/",
          "height": 734
        },
        "id": "53XLqz-JkVz6",
        "outputId": "5dbe442d-82cc-4b20-c5cc-d5fc93b5d0b0"
      },
      "source": [
        "data"
      ],
      "execution_count": 685,
      "outputs": [
        {
          "output_type": "execute_result",
          "data": {
            "text/html": [
              "<div>\n",
              "<style scoped>\n",
              "    .dataframe tbody tr th:only-of-type {\n",
              "        vertical-align: middle;\n",
              "    }\n",
              "\n",
              "    .dataframe tbody tr th {\n",
              "        vertical-align: top;\n",
              "    }\n",
              "\n",
              "    .dataframe thead th {\n",
              "        text-align: right;\n",
              "    }\n",
              "</style>\n",
              "<table border=\"1\" class=\"dataframe\">\n",
              "  <thead>\n",
              "    <tr style=\"text-align: right;\">\n",
              "      <th></th>\n",
              "      <th>timestamp</th>\n",
              "      <th>id</th>\n",
              "      <th>rating</th>\n",
              "      <th>18_group</th>\n",
              "      <th>is_mi</th>\n",
              "      <th>fall_1</th>\n",
              "      <th>fall_2</th>\n",
              "      <th>fall_3</th>\n",
              "      <th>spring_1</th>\n",
              "      <th>spring_2</th>\n",
              "      <th>spring_3</th>\n",
              "      <th>is_first_time</th>\n",
              "      <th>percentile</th>\n",
              "      <th>17_group</th>\n",
              "      <th>blended</th>\n",
              "      <th>is_ml_student</th>\n",
              "      <th>group</th>\n",
              "    </tr>\n",
              "  </thead>\n",
              "  <tbody>\n",
              "    <tr>\n",
              "      <th>0</th>\n",
              "      <td>2020-05-15</td>\n",
              "      <td>93ff79a51cd602f1dd3028ba2c129503</td>\n",
              "      <td>698</td>\n",
              "      <td>181</td>\n",
              "      <td>0</td>\n",
              "      <td>Язык SQL</td>\n",
              "      <td>Высокопроизводительные вычисления</td>\n",
              "      <td>Матричные вычисления</td>\n",
              "      <td>Дискретная оптимизация</td>\n",
              "      <td>Численные методы</td>\n",
              "      <td>Машинное обучение 2</td>\n",
              "      <td>Да</td>\n",
              "      <td>0.183857</td>\n",
              "      <td>0</td>\n",
              "      <td></td>\n",
              "      <td></td>\n",
              "      <td>181</td>\n",
              "    </tr>\n",
              "    <tr>\n",
              "      <th>1</th>\n",
              "      <td>2020-05-15</td>\n",
              "      <td>26b01b1c4cd5656bab18d24c548834fb</td>\n",
              "      <td>647</td>\n",
              "      <td>181</td>\n",
              "      <td>0</td>\n",
              "      <td>Высокопроизводительные вычисления</td>\n",
              "      <td>Безопасность компьютерных систем</td>\n",
              "      <td>Язык SQL</td>\n",
              "      <td>Дискретная оптимизация</td>\n",
              "      <td>Численные методы</td>\n",
              "      <td>Машинное обучение 2</td>\n",
              "      <td>Нет</td>\n",
              "      <td>0.426009</td>\n",
              "      <td>0</td>\n",
              "      <td></td>\n",
              "      <td></td>\n",
              "      <td>181</td>\n",
              "    </tr>\n",
              "    <tr>\n",
              "      <th>2</th>\n",
              "      <td>2020-05-15</td>\n",
              "      <td>30f3653fc176d54e89ac3179c455c6dd</td>\n",
              "      <td>624</td>\n",
              "      <td>185</td>\n",
              "      <td>0</td>\n",
              "      <td>Безопасность компьютерных систем</td>\n",
              "      <td>Матричные вычисления</td>\n",
              "      <td>Моделирование временных рядов</td>\n",
              "      <td>Дискретная оптимизация</td>\n",
              "      <td>Машинное обучение 2</td>\n",
              "      <td>Численные методы</td>\n",
              "      <td>Да</td>\n",
              "      <td>0.538117</td>\n",
              "      <td>0</td>\n",
              "      <td></td>\n",
              "      <td></td>\n",
              "      <td>185</td>\n",
              "    </tr>\n",
              "    <tr>\n",
              "      <th>3</th>\n",
              "      <td>2020-05-15</td>\n",
              "      <td>1528f0eaa027580820ccf0d92a53ad68</td>\n",
              "      <td>579</td>\n",
              "      <td>182</td>\n",
              "      <td>0</td>\n",
              "      <td>Statistical Learning Theory</td>\n",
              "      <td>Высокопроизводительные вычисления</td>\n",
              "      <td>Матричные вычисления</td>\n",
              "      <td>Дискретная оптимизация</td>\n",
              "      <td>Численные методы</td>\n",
              "      <td>Машинное обучение 2</td>\n",
              "      <td>Да</td>\n",
              "      <td>0.744395</td>\n",
              "      <td>0</td>\n",
              "      <td></td>\n",
              "      <td></td>\n",
              "      <td>182</td>\n",
              "    </tr>\n",
              "    <tr>\n",
              "      <th>4</th>\n",
              "      <td>2020-05-15</td>\n",
              "      <td>496ea4f0d4abe264b1bb1b80eb3830c5</td>\n",
              "      <td>572</td>\n",
              "      <td>183</td>\n",
              "      <td>0</td>\n",
              "      <td>Высокопроизводительные вычисления</td>\n",
              "      <td>Безопасность компьютерных систем</td>\n",
              "      <td>Теория баз данных</td>\n",
              "      <td>Компьютерные сети</td>\n",
              "      <td>Дискретная оптимизация</td>\n",
              "      <td>Численные методы</td>\n",
              "      <td>Да</td>\n",
              "      <td>0.780269</td>\n",
              "      <td>0</td>\n",
              "      <td></td>\n",
              "      <td></td>\n",
              "      <td>183</td>\n",
              "    </tr>\n",
              "    <tr>\n",
              "      <th>...</th>\n",
              "      <td>...</td>\n",
              "      <td>...</td>\n",
              "      <td>...</td>\n",
              "      <td>...</td>\n",
              "      <td>...</td>\n",
              "      <td>...</td>\n",
              "      <td>...</td>\n",
              "      <td>...</td>\n",
              "      <td>...</td>\n",
              "      <td>...</td>\n",
              "      <td>...</td>\n",
              "      <td>...</td>\n",
              "      <td>...</td>\n",
              "      <td>...</td>\n",
              "      <td>...</td>\n",
              "      <td>...</td>\n",
              "      <td>...</td>\n",
              "    </tr>\n",
              "    <tr>\n",
              "      <th>356</th>\n",
              "      <td>2020-05-19</td>\n",
              "      <td>c5870b37ee3f672e4259dfb2fc02ed8f</td>\n",
              "      <td>1029</td>\n",
              "      <td>0</td>\n",
              "      <td>0</td>\n",
              "      <td>Statistical Learning Theory</td>\n",
              "      <td>Анализ неструктурированных данных</td>\n",
              "      <td>Сбор и обработка данных с помощью краудсорсинга</td>\n",
              "      <td>Обучение с подкреплением</td>\n",
              "      <td>Конфликты и кооперация</td>\n",
              "      <td>Компьютерное зрение</td>\n",
              "      <td>Да</td>\n",
              "      <td>0.920290</td>\n",
              "      <td>174</td>\n",
              "      <td>DevOps</td>\n",
              "      <td></td>\n",
              "      <td>174</td>\n",
              "    </tr>\n",
              "    <tr>\n",
              "      <th>357</th>\n",
              "      <td>2020-05-19</td>\n",
              "      <td>f44aea1095f9f5b8e2f5f0ed2b17891b</td>\n",
              "      <td>1060</td>\n",
              "      <td>0</td>\n",
              "      <td>0</td>\n",
              "      <td>Анализ неструктурированных данных</td>\n",
              "      <td>Высокопроизводительные вычисления</td>\n",
              "      <td>Моделирование временных рядов</td>\n",
              "      <td>Конфликты и кооперация</td>\n",
              "      <td>Обучение с подкреплением</td>\n",
              "      <td>Численные методы</td>\n",
              "      <td>Да</td>\n",
              "      <td>0.840580</td>\n",
              "      <td>174</td>\n",
              "      <td>DevOps</td>\n",
              "      <td></td>\n",
              "      <td>174</td>\n",
              "    </tr>\n",
              "    <tr>\n",
              "      <th>358</th>\n",
              "      <td>2020-05-20</td>\n",
              "      <td>d7118b44c7e8fdbbaaca226d2da6fef1</td>\n",
              "      <td>1111</td>\n",
              "      <td>0</td>\n",
              "      <td>0</td>\n",
              "      <td>Сбор и обработка данных с помощью краудсорсинга</td>\n",
              "      <td>Statistical Learning Theory</td>\n",
              "      <td>Анализ неструктурированных данных</td>\n",
              "      <td>Проектирование и разработка высоконагруженных ...</td>\n",
              "      <td>Методы сжатия и передачи медиаданных</td>\n",
              "      <td>Численные методы</td>\n",
              "      <td>Да</td>\n",
              "      <td>0.652174</td>\n",
              "      <td>173</td>\n",
              "      <td>Соревновательный анализ данных</td>\n",
              "      <td></td>\n",
              "      <td>173</td>\n",
              "    </tr>\n",
              "    <tr>\n",
              "      <th>359</th>\n",
              "      <td>2020-05-23</td>\n",
              "      <td>79d14db48e4737af731960ae212d5134</td>\n",
              "      <td>966</td>\n",
              "      <td>0</td>\n",
              "      <td>0</td>\n",
              "      <td>Безопасность компьютерных систем</td>\n",
              "      <td>Принятие решений в условиях риска и неопределё...</td>\n",
              "      <td>Анализ неструктурированных данных</td>\n",
              "      <td>Проектирование и разработка высоконагруженных ...</td>\n",
              "      <td>Методы сжатия и передачи медиаданных</td>\n",
              "      <td>Компьютерное зрение</td>\n",
              "      <td>Да</td>\n",
              "      <td>0.985507</td>\n",
              "      <td>172</td>\n",
              "      <td>DevOps</td>\n",
              "      <td></td>\n",
              "      <td>172</td>\n",
              "    </tr>\n",
              "    <tr>\n",
              "      <th>360</th>\n",
              "      <td>2020-05-23</td>\n",
              "      <td>f2d210ace25a841e1e58036b257d5d47</td>\n",
              "      <td>1195</td>\n",
              "      <td>0</td>\n",
              "      <td>0</td>\n",
              "      <td>Анализ неструктурированных данных</td>\n",
              "      <td>Моделирование временных рядов</td>\n",
              "      <td>Высокопроизводительные вычисления</td>\n",
              "      <td>Обучение с подкреплением</td>\n",
              "      <td>Компьютерное зрение</td>\n",
              "      <td>Методы сжатия и передачи медиаданных</td>\n",
              "      <td></td>\n",
              "      <td>0.369565</td>\n",
              "      <td>176</td>\n",
              "      <td>Соревновательный анализ данных</td>\n",
              "      <td></td>\n",
              "      <td>176</td>\n",
              "    </tr>\n",
              "  </tbody>\n",
              "</table>\n",
              "<p>347 rows × 17 columns</p>\n",
              "</div>"
            ],
            "text/plain": [
              "      timestamp                                id  ...  is_ml_student  group\n",
              "0    2020-05-15  93ff79a51cd602f1dd3028ba2c129503  ...                   181\n",
              "1    2020-05-15  26b01b1c4cd5656bab18d24c548834fb  ...                   181\n",
              "2    2020-05-15  30f3653fc176d54e89ac3179c455c6dd  ...                   185\n",
              "3    2020-05-15  1528f0eaa027580820ccf0d92a53ad68  ...                   182\n",
              "4    2020-05-15  496ea4f0d4abe264b1bb1b80eb3830c5  ...                   183\n",
              "..          ...                               ...  ...            ...    ...\n",
              "356  2020-05-19  c5870b37ee3f672e4259dfb2fc02ed8f  ...                   174\n",
              "357  2020-05-19  f44aea1095f9f5b8e2f5f0ed2b17891b  ...                   174\n",
              "358  2020-05-20  d7118b44c7e8fdbbaaca226d2da6fef1  ...                   173\n",
              "359  2020-05-23  79d14db48e4737af731960ae212d5134  ...                   172\n",
              "360  2020-05-23  f2d210ace25a841e1e58036b257d5d47  ...                   176\n",
              "\n",
              "[347 rows x 17 columns]"
            ]
          },
          "metadata": {},
          "execution_count": 685
        }
      ]
    },
    {
      "cell_type": "markdown",
      "metadata": {
        "id": "G_TpUSSentog"
      },
      "source": [
        "Исходя из условий задачи, создадим столбец с количеством курсов студентов - 'course quantity'"
      ]
    },
    {
      "cell_type": "code",
      "metadata": {
        "id": "8DeNoqD9z0og",
        "colab": {
          "base_uri": "https://localhost:8080/",
          "height": 734
        },
        "outputId": "8f24a0ba-9fe7-4865-a4ad-0c02de5252c5"
      },
      "source": [
        "groups_dictionary ={ 171 : 2,\n",
        "                     172 : 2,\n",
        "                     173 : 2,\n",
        "                     174 : 1,\n",
        "                     175 : 1,\n",
        "                     176 : 1,\n",
        "                     177 : 1,\n",
        "                     181 : 1,\n",
        "                     182 : 1,\n",
        "                     183 : 1,\n",
        "                     184 : 1,\n",
        "                     185 : 1,\n",
        "                     186 : 1,\n",
        "                     187 : 1,\n",
        "                     188 : 1\n",
        "                     }\n",
        "data['course_quantity'] = data['group'].map(groups_dictionary)\n",
        "data[\"is_mi\"] = data['is_mi'].astype(int)\n",
        "data.loc[(data.is_mi == 1 ), 'course_quantity'] = 2\n",
        "data"
      ],
      "execution_count": 686,
      "outputs": [
        {
          "output_type": "execute_result",
          "data": {
            "text/html": [
              "<div>\n",
              "<style scoped>\n",
              "    .dataframe tbody tr th:only-of-type {\n",
              "        vertical-align: middle;\n",
              "    }\n",
              "\n",
              "    .dataframe tbody tr th {\n",
              "        vertical-align: top;\n",
              "    }\n",
              "\n",
              "    .dataframe thead th {\n",
              "        text-align: right;\n",
              "    }\n",
              "</style>\n",
              "<table border=\"1\" class=\"dataframe\">\n",
              "  <thead>\n",
              "    <tr style=\"text-align: right;\">\n",
              "      <th></th>\n",
              "      <th>timestamp</th>\n",
              "      <th>id</th>\n",
              "      <th>rating</th>\n",
              "      <th>18_group</th>\n",
              "      <th>is_mi</th>\n",
              "      <th>fall_1</th>\n",
              "      <th>fall_2</th>\n",
              "      <th>fall_3</th>\n",
              "      <th>spring_1</th>\n",
              "      <th>spring_2</th>\n",
              "      <th>spring_3</th>\n",
              "      <th>is_first_time</th>\n",
              "      <th>percentile</th>\n",
              "      <th>17_group</th>\n",
              "      <th>blended</th>\n",
              "      <th>is_ml_student</th>\n",
              "      <th>group</th>\n",
              "      <th>course_quantity</th>\n",
              "    </tr>\n",
              "  </thead>\n",
              "  <tbody>\n",
              "    <tr>\n",
              "      <th>0</th>\n",
              "      <td>2020-05-15</td>\n",
              "      <td>93ff79a51cd602f1dd3028ba2c129503</td>\n",
              "      <td>698</td>\n",
              "      <td>181</td>\n",
              "      <td>0</td>\n",
              "      <td>Язык SQL</td>\n",
              "      <td>Высокопроизводительные вычисления</td>\n",
              "      <td>Матричные вычисления</td>\n",
              "      <td>Дискретная оптимизация</td>\n",
              "      <td>Численные методы</td>\n",
              "      <td>Машинное обучение 2</td>\n",
              "      <td>Да</td>\n",
              "      <td>0.183857</td>\n",
              "      <td>0</td>\n",
              "      <td></td>\n",
              "      <td></td>\n",
              "      <td>181</td>\n",
              "      <td>1</td>\n",
              "    </tr>\n",
              "    <tr>\n",
              "      <th>1</th>\n",
              "      <td>2020-05-15</td>\n",
              "      <td>26b01b1c4cd5656bab18d24c548834fb</td>\n",
              "      <td>647</td>\n",
              "      <td>181</td>\n",
              "      <td>0</td>\n",
              "      <td>Высокопроизводительные вычисления</td>\n",
              "      <td>Безопасность компьютерных систем</td>\n",
              "      <td>Язык SQL</td>\n",
              "      <td>Дискретная оптимизация</td>\n",
              "      <td>Численные методы</td>\n",
              "      <td>Машинное обучение 2</td>\n",
              "      <td>Нет</td>\n",
              "      <td>0.426009</td>\n",
              "      <td>0</td>\n",
              "      <td></td>\n",
              "      <td></td>\n",
              "      <td>181</td>\n",
              "      <td>1</td>\n",
              "    </tr>\n",
              "    <tr>\n",
              "      <th>2</th>\n",
              "      <td>2020-05-15</td>\n",
              "      <td>30f3653fc176d54e89ac3179c455c6dd</td>\n",
              "      <td>624</td>\n",
              "      <td>185</td>\n",
              "      <td>0</td>\n",
              "      <td>Безопасность компьютерных систем</td>\n",
              "      <td>Матричные вычисления</td>\n",
              "      <td>Моделирование временных рядов</td>\n",
              "      <td>Дискретная оптимизация</td>\n",
              "      <td>Машинное обучение 2</td>\n",
              "      <td>Численные методы</td>\n",
              "      <td>Да</td>\n",
              "      <td>0.538117</td>\n",
              "      <td>0</td>\n",
              "      <td></td>\n",
              "      <td></td>\n",
              "      <td>185</td>\n",
              "      <td>1</td>\n",
              "    </tr>\n",
              "    <tr>\n",
              "      <th>3</th>\n",
              "      <td>2020-05-15</td>\n",
              "      <td>1528f0eaa027580820ccf0d92a53ad68</td>\n",
              "      <td>579</td>\n",
              "      <td>182</td>\n",
              "      <td>0</td>\n",
              "      <td>Statistical Learning Theory</td>\n",
              "      <td>Высокопроизводительные вычисления</td>\n",
              "      <td>Матричные вычисления</td>\n",
              "      <td>Дискретная оптимизация</td>\n",
              "      <td>Численные методы</td>\n",
              "      <td>Машинное обучение 2</td>\n",
              "      <td>Да</td>\n",
              "      <td>0.744395</td>\n",
              "      <td>0</td>\n",
              "      <td></td>\n",
              "      <td></td>\n",
              "      <td>182</td>\n",
              "      <td>1</td>\n",
              "    </tr>\n",
              "    <tr>\n",
              "      <th>4</th>\n",
              "      <td>2020-05-15</td>\n",
              "      <td>496ea4f0d4abe264b1bb1b80eb3830c5</td>\n",
              "      <td>572</td>\n",
              "      <td>183</td>\n",
              "      <td>0</td>\n",
              "      <td>Высокопроизводительные вычисления</td>\n",
              "      <td>Безопасность компьютерных систем</td>\n",
              "      <td>Теория баз данных</td>\n",
              "      <td>Компьютерные сети</td>\n",
              "      <td>Дискретная оптимизация</td>\n",
              "      <td>Численные методы</td>\n",
              "      <td>Да</td>\n",
              "      <td>0.780269</td>\n",
              "      <td>0</td>\n",
              "      <td></td>\n",
              "      <td></td>\n",
              "      <td>183</td>\n",
              "      <td>1</td>\n",
              "    </tr>\n",
              "    <tr>\n",
              "      <th>...</th>\n",
              "      <td>...</td>\n",
              "      <td>...</td>\n",
              "      <td>...</td>\n",
              "      <td>...</td>\n",
              "      <td>...</td>\n",
              "      <td>...</td>\n",
              "      <td>...</td>\n",
              "      <td>...</td>\n",
              "      <td>...</td>\n",
              "      <td>...</td>\n",
              "      <td>...</td>\n",
              "      <td>...</td>\n",
              "      <td>...</td>\n",
              "      <td>...</td>\n",
              "      <td>...</td>\n",
              "      <td>...</td>\n",
              "      <td>...</td>\n",
              "      <td>...</td>\n",
              "    </tr>\n",
              "    <tr>\n",
              "      <th>356</th>\n",
              "      <td>2020-05-19</td>\n",
              "      <td>c5870b37ee3f672e4259dfb2fc02ed8f</td>\n",
              "      <td>1029</td>\n",
              "      <td>0</td>\n",
              "      <td>0</td>\n",
              "      <td>Statistical Learning Theory</td>\n",
              "      <td>Анализ неструктурированных данных</td>\n",
              "      <td>Сбор и обработка данных с помощью краудсорсинга</td>\n",
              "      <td>Обучение с подкреплением</td>\n",
              "      <td>Конфликты и кооперация</td>\n",
              "      <td>Компьютерное зрение</td>\n",
              "      <td>Да</td>\n",
              "      <td>0.920290</td>\n",
              "      <td>174</td>\n",
              "      <td>DevOps</td>\n",
              "      <td></td>\n",
              "      <td>174</td>\n",
              "      <td>1</td>\n",
              "    </tr>\n",
              "    <tr>\n",
              "      <th>357</th>\n",
              "      <td>2020-05-19</td>\n",
              "      <td>f44aea1095f9f5b8e2f5f0ed2b17891b</td>\n",
              "      <td>1060</td>\n",
              "      <td>0</td>\n",
              "      <td>0</td>\n",
              "      <td>Анализ неструктурированных данных</td>\n",
              "      <td>Высокопроизводительные вычисления</td>\n",
              "      <td>Моделирование временных рядов</td>\n",
              "      <td>Конфликты и кооперация</td>\n",
              "      <td>Обучение с подкреплением</td>\n",
              "      <td>Численные методы</td>\n",
              "      <td>Да</td>\n",
              "      <td>0.840580</td>\n",
              "      <td>174</td>\n",
              "      <td>DevOps</td>\n",
              "      <td></td>\n",
              "      <td>174</td>\n",
              "      <td>1</td>\n",
              "    </tr>\n",
              "    <tr>\n",
              "      <th>358</th>\n",
              "      <td>2020-05-20</td>\n",
              "      <td>d7118b44c7e8fdbbaaca226d2da6fef1</td>\n",
              "      <td>1111</td>\n",
              "      <td>0</td>\n",
              "      <td>0</td>\n",
              "      <td>Сбор и обработка данных с помощью краудсорсинга</td>\n",
              "      <td>Statistical Learning Theory</td>\n",
              "      <td>Анализ неструктурированных данных</td>\n",
              "      <td>Проектирование и разработка высоконагруженных ...</td>\n",
              "      <td>Методы сжатия и передачи медиаданных</td>\n",
              "      <td>Численные методы</td>\n",
              "      <td>Да</td>\n",
              "      <td>0.652174</td>\n",
              "      <td>173</td>\n",
              "      <td>Соревновательный анализ данных</td>\n",
              "      <td></td>\n",
              "      <td>173</td>\n",
              "      <td>2</td>\n",
              "    </tr>\n",
              "    <tr>\n",
              "      <th>359</th>\n",
              "      <td>2020-05-23</td>\n",
              "      <td>79d14db48e4737af731960ae212d5134</td>\n",
              "      <td>966</td>\n",
              "      <td>0</td>\n",
              "      <td>0</td>\n",
              "      <td>Безопасность компьютерных систем</td>\n",
              "      <td>Принятие решений в условиях риска и неопределё...</td>\n",
              "      <td>Анализ неструктурированных данных</td>\n",
              "      <td>Проектирование и разработка высоконагруженных ...</td>\n",
              "      <td>Методы сжатия и передачи медиаданных</td>\n",
              "      <td>Компьютерное зрение</td>\n",
              "      <td>Да</td>\n",
              "      <td>0.985507</td>\n",
              "      <td>172</td>\n",
              "      <td>DevOps</td>\n",
              "      <td></td>\n",
              "      <td>172</td>\n",
              "      <td>2</td>\n",
              "    </tr>\n",
              "    <tr>\n",
              "      <th>360</th>\n",
              "      <td>2020-05-23</td>\n",
              "      <td>f2d210ace25a841e1e58036b257d5d47</td>\n",
              "      <td>1195</td>\n",
              "      <td>0</td>\n",
              "      <td>0</td>\n",
              "      <td>Анализ неструктурированных данных</td>\n",
              "      <td>Моделирование временных рядов</td>\n",
              "      <td>Высокопроизводительные вычисления</td>\n",
              "      <td>Обучение с подкреплением</td>\n",
              "      <td>Компьютерное зрение</td>\n",
              "      <td>Методы сжатия и передачи медиаданных</td>\n",
              "      <td></td>\n",
              "      <td>0.369565</td>\n",
              "      <td>176</td>\n",
              "      <td>Соревновательный анализ данных</td>\n",
              "      <td></td>\n",
              "      <td>176</td>\n",
              "      <td>1</td>\n",
              "    </tr>\n",
              "  </tbody>\n",
              "</table>\n",
              "<p>347 rows × 18 columns</p>\n",
              "</div>"
            ],
            "text/plain": [
              "      timestamp                                id  ...  group  course_quantity\n",
              "0    2020-05-15  93ff79a51cd602f1dd3028ba2c129503  ...    181                1\n",
              "1    2020-05-15  26b01b1c4cd5656bab18d24c548834fb  ...    181                1\n",
              "2    2020-05-15  30f3653fc176d54e89ac3179c455c6dd  ...    185                1\n",
              "3    2020-05-15  1528f0eaa027580820ccf0d92a53ad68  ...    182                1\n",
              "4    2020-05-15  496ea4f0d4abe264b1bb1b80eb3830c5  ...    183                1\n",
              "..          ...                               ...  ...    ...              ...\n",
              "356  2020-05-19  c5870b37ee3f672e4259dfb2fc02ed8f  ...    174                1\n",
              "357  2020-05-19  f44aea1095f9f5b8e2f5f0ed2b17891b  ...    174                1\n",
              "358  2020-05-20  d7118b44c7e8fdbbaaca226d2da6fef1  ...    173                2\n",
              "359  2020-05-23  79d14db48e4737af731960ae212d5134  ...    172                2\n",
              "360  2020-05-23  f2d210ace25a841e1e58036b257d5d47  ...    176                1\n",
              "\n",
              "[347 rows x 18 columns]"
            ]
          },
          "metadata": {},
          "execution_count": 686
        }
      ]
    },
    {
      "cell_type": "code",
      "metadata": {
        "id": "CLfUn-icWyg7"
      },
      "source": [
        "col_name = 'course_quantity'\n",
        "\n",
        "assert(data[data['id'] == '2662600c2c37e11e62f6ee0b88452f22'][col_name] == 2).all()\n",
        "assert(data[data['id'] == 'd555d2805e1d93d4f023e57dc4c8f403'][col_name] == 2).all()\n",
        "assert(data[data['id'] == '8fe79f84f36e3a5d2d6745621321302c'][col_name] == 1).all()\n",
        "assert(data[data['id'] == 'e4caca755ee0bdd711e18fb8084958b5'][col_name] == 1).all()"
      ],
      "execution_count": 687,
      "outputs": []
    },
    {
      "cell_type": "markdown",
      "metadata": {
        "id": "0WiKeSx8exhO"
      },
      "source": [
        "# 2)\n"
      ]
    },
    {
      "cell_type": "markdown",
      "metadata": {
        "id": "ETy4zt1Kmatr"
      },
      "source": [
        "Отсортируем студентов по перцентилю и получим список предметов, которые студенты выбирали в качестве первого приоритета "
      ]
    },
    {
      "cell_type": "code",
      "metadata": {
        "id": "TW6OwqlDz0q6"
      },
      "source": [
        "data = data.sort_values(by = 'percentile', ascending= True)"
      ],
      "execution_count": 688,
      "outputs": []
    },
    {
      "cell_type": "code",
      "metadata": {
        "id": "uz9FacauevwC",
        "colab": {
          "base_uri": "https://localhost:8080/"
        },
        "outputId": "48364a91-c0c9-4b82-acea-8b3f9ceef0d1"
      },
      "source": [
        "data['fall_1'].unique()"
      ],
      "execution_count": 689,
      "outputs": [
        {
          "output_type": "execute_result",
          "data": {
            "text/plain": [
              "array(['Безопасность компьютерных систем', 'Statistical Learning Theory',\n",
              "       'Матричные вычисления', 'Высокопроизводительные вычисления',\n",
              "       'Сбор и обработка данных с помощью краудсорсинга',\n",
              "       'Байесовские методы машинного обучения', 'Теория баз данных',\n",
              "       'Анализ неструктурированных данных',\n",
              "       'Глубинное обучение в обработке звука',\n",
              "       'Моделирование временных рядов', 'Язык SQL',\n",
              "       'Принятие решений в условиях риска и неопределённости'],\n",
              "      dtype=object)"
            ]
          },
          "metadata": {},
          "execution_count": 689
        }
      ]
    },
    {
      "cell_type": "markdown",
      "metadata": {
        "id": "QRhWThZfmIuU"
      },
      "source": [
        "Создаем столцы с бинарным признаком, где 1 - студент выбрал данный курс как первый приоритет, 0 - условие не выполнено"
      ]
    },
    {
      "cell_type": "code",
      "metadata": {
        "id": "eaOHL53Aev0H",
        "colab": {
          "base_uri": "https://localhost:8080/",
          "height": 522
        },
        "outputId": "d4a271b5-8338-4708-d9b0-d36ee22337bd"
      },
      "source": [
        "data['Безопасность компьютерных систем'] = np.where((data['fall_1'] == 'Безопасность компьютерных систем')|(data['fall_2'] == 'Безопасность компьютерных систем') & (data['course_quantity'] == 2) , 1, 0)\n",
        "data['Statistical Learning Theory'] = np.where((data['fall_1'] == 'Statistical Learning Theory')|(data['fall_2'] == 'Statistical Learning Theory') & (data['course_quantity'] == 2), 1, 0)\n",
        "data['Матричные вычисления'] = np.where((data['fall_1'] == 'Матричные вычисления')|(data['fall_2'] == 'Матричные вычисления') & (data['course_quantity'] == 2), 1, 0)\n",
        "data['Высокопроизводительные вычисления'] = np.where((data['fall_1'] == 'Высокопроизводительные вычисления')|(data['fall_2'] == 'Высокопроизводительные вычисления') & (data['course_quantity'] == 2), 1, 0)\n",
        "data['Сбор и обработка данных с помощью краудсорсинга'] = np.where((data['fall_1'] == 'Сбор и обработка данных с помощью краудсорсинга')|(data['fall_2'] == 'Сбор и обработка данных с помощью краудсорсинга') & (data['course_quantity'] == 2), 1, 0)\n",
        "data['Байесовские методы машинного обучения'] = np.where((data['fall_1'] == 'Байесовские методы машинного обучения')|(data['fall_2'] == 'Байесовские методы машинного обучения') & (data['course_quantity'] == 2), 1, 0)\n",
        "data['Теория баз данных'] = np.where((data['fall_1'] == 'Теория баз данных')|(data['fall_2'] == 'Теория баз данных') & (data['course_quantity'] == 2), 1, 0)\n",
        "data['Анализ неструктурированных данных'] = np.where((data['fall_1'] == 'Анализ неструктурированных данных')|(data['fall_2'] == 'Анализ неструктурированных данных') & (data['course_quantity'] == 2), 1, 0)\n",
        "data['Глубинное обучение в обработке звука'] = np.where((data['fall_1'] == 'Глубинное обучение в обработке звука')|(data['fall_2'] == 'Глубинное обучение в обработке звука') & (data['course_quantity'] == 2), 1, 0)\n",
        "data['Моделирование временных рядов'] = np.where((data['fall_1'] == 'Моделирование временных рядов')|(data['fall_2'] == 'Моделирование временных рядов') & (data['course_quantity'] == 2), 1, 0)\n",
        "data['Язык SQL'] = np.where((data['fall_1'] == 'Язык SQL')|(data['fall_2'] == 'Язык SQL') & (data['course_quantity'] == 2), 1, 0)\n",
        "data['Принятие решений в условиях риска и неопределённости'] = np.where((data['fall_1'] == 'Принятие решений в условиях риска и неопределённости')|(data['fall_2'] == 'Принятие решений в условиях риска и неопределённости') & (data['course_quantity'] == 2), 1, 0)\n",
        "data.head()"
      ],
      "execution_count": 690,
      "outputs": [
        {
          "output_type": "execute_result",
          "data": {
            "text/html": [
              "<div>\n",
              "<style scoped>\n",
              "    .dataframe tbody tr th:only-of-type {\n",
              "        vertical-align: middle;\n",
              "    }\n",
              "\n",
              "    .dataframe tbody tr th {\n",
              "        vertical-align: top;\n",
              "    }\n",
              "\n",
              "    .dataframe thead th {\n",
              "        text-align: right;\n",
              "    }\n",
              "</style>\n",
              "<table border=\"1\" class=\"dataframe\">\n",
              "  <thead>\n",
              "    <tr style=\"text-align: right;\">\n",
              "      <th></th>\n",
              "      <th>timestamp</th>\n",
              "      <th>id</th>\n",
              "      <th>rating</th>\n",
              "      <th>18_group</th>\n",
              "      <th>is_mi</th>\n",
              "      <th>fall_1</th>\n",
              "      <th>fall_2</th>\n",
              "      <th>fall_3</th>\n",
              "      <th>spring_1</th>\n",
              "      <th>spring_2</th>\n",
              "      <th>spring_3</th>\n",
              "      <th>is_first_time</th>\n",
              "      <th>percentile</th>\n",
              "      <th>17_group</th>\n",
              "      <th>blended</th>\n",
              "      <th>is_ml_student</th>\n",
              "      <th>group</th>\n",
              "      <th>course_quantity</th>\n",
              "      <th>Безопасность компьютерных систем</th>\n",
              "      <th>Statistical Learning Theory</th>\n",
              "      <th>Матричные вычисления</th>\n",
              "      <th>Высокопроизводительные вычисления</th>\n",
              "      <th>Сбор и обработка данных с помощью краудсорсинга</th>\n",
              "      <th>Байесовские методы машинного обучения</th>\n",
              "      <th>Теория баз данных</th>\n",
              "      <th>Анализ неструктурированных данных</th>\n",
              "      <th>Глубинное обучение в обработке звука</th>\n",
              "      <th>Моделирование временных рядов</th>\n",
              "      <th>Язык SQL</th>\n",
              "      <th>Принятие решений в условиях риска и неопределённости</th>\n",
              "    </tr>\n",
              "  </thead>\n",
              "  <tbody>\n",
              "    <tr>\n",
              "      <th>80</th>\n",
              "      <td>2020-05-18</td>\n",
              "      <td>3e106aaef8b24dbb01319c73e14c2936</td>\n",
              "      <td>784</td>\n",
              "      <td>182</td>\n",
              "      <td>0</td>\n",
              "      <td>Безопасность компьютерных систем</td>\n",
              "      <td>Statistical Learning Theory</td>\n",
              "      <td>Матричные вычисления</td>\n",
              "      <td>Дискретная оптимизация</td>\n",
              "      <td>Промышленное программирование на языке Java</td>\n",
              "      <td>Дополнительные главы прикладной статистики</td>\n",
              "      <td>Да</td>\n",
              "      <td>0.000000</td>\n",
              "      <td>0</td>\n",
              "      <td></td>\n",
              "      <td>1</td>\n",
              "      <td>182</td>\n",
              "      <td>1</td>\n",
              "      <td>1</td>\n",
              "      <td>0</td>\n",
              "      <td>0</td>\n",
              "      <td>0</td>\n",
              "      <td>0</td>\n",
              "      <td>0</td>\n",
              "      <td>0</td>\n",
              "      <td>0</td>\n",
              "      <td>0</td>\n",
              "      <td>0</td>\n",
              "      <td>0</td>\n",
              "      <td>0</td>\n",
              "    </tr>\n",
              "    <tr>\n",
              "      <th>231</th>\n",
              "      <td>2020-05-14</td>\n",
              "      <td>3a7326c9e355a67d3805824ca34c4bc5</td>\n",
              "      <td>1457</td>\n",
              "      <td>0</td>\n",
              "      <td>0</td>\n",
              "      <td>Statistical Learning Theory</td>\n",
              "      <td>Высокопроизводительные вычисления</td>\n",
              "      <td>Statistical Learning Theory</td>\n",
              "      <td>Символьные вычисления</td>\n",
              "      <td>Численные методы</td>\n",
              "      <td>Символьные вычисления</td>\n",
              "      <td>Да</td>\n",
              "      <td>0.000000</td>\n",
              "      <td>173</td>\n",
              "      <td>Введение в дифференциальную геометрию</td>\n",
              "      <td></td>\n",
              "      <td>173</td>\n",
              "      <td>2</td>\n",
              "      <td>0</td>\n",
              "      <td>1</td>\n",
              "      <td>0</td>\n",
              "      <td>1</td>\n",
              "      <td>0</td>\n",
              "      <td>0</td>\n",
              "      <td>0</td>\n",
              "      <td>0</td>\n",
              "      <td>0</td>\n",
              "      <td>0</td>\n",
              "      <td>0</td>\n",
              "      <td>0</td>\n",
              "    </tr>\n",
              "    <tr>\n",
              "      <th>91</th>\n",
              "      <td>2020-05-18</td>\n",
              "      <td>e0ca1a9548af9a3f98428c62420aa484</td>\n",
              "      <td>764</td>\n",
              "      <td>182</td>\n",
              "      <td>0</td>\n",
              "      <td>Матричные вычисления</td>\n",
              "      <td>Безопасность компьютерных систем</td>\n",
              "      <td>Statistical Learning Theory</td>\n",
              "      <td>Дискретная оптимизация</td>\n",
              "      <td>Дополнительные главы прикладной статистики</td>\n",
              "      <td>Машинное обучение 2</td>\n",
              "      <td>Да</td>\n",
              "      <td>0.004484</td>\n",
              "      <td>0</td>\n",
              "      <td></td>\n",
              "      <td></td>\n",
              "      <td>182</td>\n",
              "      <td>1</td>\n",
              "      <td>0</td>\n",
              "      <td>0</td>\n",
              "      <td>1</td>\n",
              "      <td>0</td>\n",
              "      <td>0</td>\n",
              "      <td>0</td>\n",
              "      <td>0</td>\n",
              "      <td>0</td>\n",
              "      <td>0</td>\n",
              "      <td>0</td>\n",
              "      <td>0</td>\n",
              "      <td>0</td>\n",
              "    </tr>\n",
              "    <tr>\n",
              "      <th>273</th>\n",
              "      <td>2020-05-18</td>\n",
              "      <td>7fe7df0d207babbf30249b3063ac1f26</td>\n",
              "      <td>1365</td>\n",
              "      <td>0</td>\n",
              "      <td>0</td>\n",
              "      <td>Высокопроизводительные вычисления</td>\n",
              "      <td>Сбор и обработка данных с помощью краудсорсинга</td>\n",
              "      <td>Моделирование временных рядов</td>\n",
              "      <td>Проектирование и разработка высоконагруженных ...</td>\n",
              "      <td>Методы сжатия и передачи медиаданных</td>\n",
              "      <td>Методы сжатия и передачи медиаданных</td>\n",
              "      <td>Да</td>\n",
              "      <td>0.007246</td>\n",
              "      <td>175</td>\n",
              "      <td>DevOps</td>\n",
              "      <td></td>\n",
              "      <td>175</td>\n",
              "      <td>1</td>\n",
              "      <td>0</td>\n",
              "      <td>0</td>\n",
              "      <td>0</td>\n",
              "      <td>1</td>\n",
              "      <td>0</td>\n",
              "      <td>0</td>\n",
              "      <td>0</td>\n",
              "      <td>0</td>\n",
              "      <td>0</td>\n",
              "      <td>0</td>\n",
              "      <td>0</td>\n",
              "      <td>0</td>\n",
              "    </tr>\n",
              "    <tr>\n",
              "      <th>19</th>\n",
              "      <td>2020-05-15</td>\n",
              "      <td>86d929f6fd741e56e93cee5900298849</td>\n",
              "      <td>761</td>\n",
              "      <td>181</td>\n",
              "      <td>0</td>\n",
              "      <td>Сбор и обработка данных с помощью краудсорсинга</td>\n",
              "      <td>Сбор и обработка данных с помощью краудсорсинга</td>\n",
              "      <td>Сбор и обработка данных с помощью краудсорсинга</td>\n",
              "      <td>Дополнительные главы прикладной статистики</td>\n",
              "      <td>Дополнительные главы прикладной статистики</td>\n",
              "      <td>Дополнительные главы прикладной статистики</td>\n",
              "      <td>Да</td>\n",
              "      <td>0.008969</td>\n",
              "      <td>0</td>\n",
              "      <td></td>\n",
              "      <td></td>\n",
              "      <td>181</td>\n",
              "      <td>1</td>\n",
              "      <td>0</td>\n",
              "      <td>0</td>\n",
              "      <td>0</td>\n",
              "      <td>0</td>\n",
              "      <td>1</td>\n",
              "      <td>0</td>\n",
              "      <td>0</td>\n",
              "      <td>0</td>\n",
              "      <td>0</td>\n",
              "      <td>0</td>\n",
              "      <td>0</td>\n",
              "      <td>0</td>\n",
              "    </tr>\n",
              "  </tbody>\n",
              "</table>\n",
              "</div>"
            ],
            "text/plain": [
              "      timestamp  ... Принятие решений в условиях риска и неопределённости\n",
              "80   2020-05-18  ...                                                  0  \n",
              "231  2020-05-14  ...                                                  0  \n",
              "91   2020-05-18  ...                                                  0  \n",
              "273  2020-05-18  ...                                                  0  \n",
              "19   2020-05-15  ...                                                  0  \n",
              "\n",
              "[5 rows x 30 columns]"
            ]
          },
          "metadata": {},
          "execution_count": 690
        }
      ]
    },
    {
      "cell_type": "markdown",
      "metadata": {
        "id": "O7pncyt4lqXs"
      },
      "source": [
        "Получим уникальные id студентов, выбравших курс в качестве первого приоритета c учётом ограничений на количество студентов"
      ]
    },
    {
      "cell_type": "code",
      "metadata": {
        "id": "o5JXpUTfuzZa"
      },
      "source": [
        "comp_bez = data.loc[data['Безопасность компьютерных систем'] == 1].iloc[:30]['id']\n",
        "vys_vych = data.loc[data['Высокопроизводительные вычисления'] == 1].iloc[:60]['id']\n",
        "stat_learn = data.loc[data['Statistical Learning Theory'] == 1].iloc[:60]['id']\n",
        "an_nestr = data.loc[data['Анализ неструктурированных данных'] == 1]['id']\n",
        "Sbor_obr = data.loc[data['Сбор и обработка данных с помощью краудсорсинга'] == 1].iloc[:30]['id']\n",
        "Matr_vych = data.loc[data['Матричные вычисления'] == 1].iloc[:30]['id']\n",
        "Bayes = data.loc[data['Байесовские методы машинного обучения'] == 1].iloc[:30]['id']\n",
        "Glub_obuch = data.loc[data['Глубинное обучение в обработке звука'] == 1].iloc[:30]['id']\n",
        "Ter_baz = data.loc[data['Теория баз данных'] == 1].iloc[:30]['id']\n",
        "Mod_rd = data.loc[data['Моделирование временных рядов'] == 1].iloc[:30]['id']\n",
        "Prin_resh = data.loc[data['Принятие решений в условиях риска и неопределённости'] == 1].iloc[:30]['id']\n",
        "SQL = data.loc[data['Язык SQL'] == 1].iloc[:30]['id']\n"
      ],
      "execution_count": 691,
      "outputs": []
    },
    {
      "cell_type": "markdown",
      "metadata": {
        "id": "uO_AkrfIl39s"
      },
      "source": [
        "Определим для всех (и тех, у кого 1, и тех, у кого 2 курса по выбору) первый курс "
      ]
    },
    {
      "cell_type": "code",
      "metadata": {
        "id": "mOD_E3OL9MAQ"
      },
      "source": [
        "first_wave = pd.DataFrame(data['id'])\n",
        "first_wave['1_course'] = 0\n",
        "first_wave['2_course'] = 0\n",
        "first_wave['amount'] = data['course_quantity']\n",
        "first_wave.loc[(first_wave.index.isin(comp_bez.index)), '1_course'] = 'Безопасность компьютерных систем'\n",
        "first_wave.loc[(first_wave.index.isin(vys_vych.index)), '1_course'] = 'Высокопроизводительные вычисления'\n",
        "first_wave.loc[(first_wave.index.isin(stat_learn.index)), '1_course'] = 'Statistical Learning Theory'\n",
        "first_wave.loc[(first_wave.index.isin(an_nestr.index)), '1_course'] = 'Анализ неструктурированных данных'\n",
        "first_wave.loc[(first_wave.index.isin(Sbor_obr.index)), '1_course'] = 'Сбор и обработка данных с помощью краудсорсинга'\n",
        "first_wave.loc[(first_wave.index.isin(Matr_vych.index)), '1_course'] = 'Матричные вычисления'\n",
        "first_wave.loc[(first_wave.index.isin(Bayes.index)), '1_course'] = 'Байесовские методы машинного обучения'\n",
        "first_wave.loc[(first_wave.index.isin(Glub_obuch.index)), '1_course'] = 'Глубинное обучение в обработке звука'\n",
        "first_wave.loc[(first_wave.index.isin(Ter_baz.index)), '1_course'] = 'Теория баз данных'\n",
        "first_wave.loc[(first_wave.index.isin(Mod_rd.index)), '1_course'] = 'Моделирование временных рядов'\n",
        "first_wave.loc[(first_wave.index.isin(Prin_resh.index)), '1_course'] = 'Принятие решений в условиях риска и неопределённости'\n",
        "first_wave.loc[(first_wave.index.isin(SQL.index)), '1_course'] = 'Язык SQL'\n"
      ],
      "execution_count": 692,
      "outputs": []
    },
    {
      "cell_type": "markdown",
      "metadata": {
        "id": "kuYIOnYDmCOT"
      },
      "source": [
        "Теперь определим второй курс для тех, кто должен был выбрать 2 курса осенью"
      ]
    },
    {
      "cell_type": "code",
      "metadata": {
        "id": "LlFGYLE4M3j-"
      },
      "source": [
        "first_wave.loc[first_wave['1_course'].ne('Безопасность компьютерных систем') & first_wave['amount'].eq(2) & first_wave.index.isin(comp_bez.index) , '2_course'] = 'Безопасность компьютерных систем'\n",
        "first_wave.loc[first_wave['1_course'].ne('Высокопроизводительные вычисления') & first_wave['amount'].eq(2) & first_wave.index.isin(vys_vych.index) , '2_course'] = 'Высокопроизводительные вычисления'\n",
        "first_wave.loc[first_wave['1_course'].ne('Statistical Learning Theory') & first_wave['amount'].eq(2) & first_wave.index.isin(stat_learn.index) , '2_course'] = 'Statistical Learning Theory'\n",
        "first_wave.loc[first_wave['1_course'].ne('Анализ неструктурированных данных') & first_wave['amount'].eq(2) & first_wave.index.isin(an_nestr.index) , '2_course'] = 'Анализ неструктурированных данных'\n",
        "first_wave.loc[first_wave['1_course'].ne('Сбор и обработка данных с помощью краудсорсинга') & first_wave['amount'].eq(2) & first_wave.index.isin(Sbor_obr.index) , '2_course'] = 'Сбор и обработка данных с помощью краудсорсинга'\n",
        "first_wave.loc[first_wave['1_course'].ne('Матричные вычисления') & first_wave['amount'].eq(2) & first_wave.index.isin(Matr_vych.index) , '2_course'] = 'Матричные вычисления'\n",
        "first_wave.loc[first_wave['1_course'].ne('Байесовские методы машинного обучения') & first_wave['amount'].eq(2) & first_wave.index.isin(Bayes.index) , '2_course'] = 'Байесовские методы машинного обучения'\n",
        "first_wave.loc[first_wave['1_course'].ne('Глубинное обучение в обработке звука') & first_wave['amount'].eq(2) & first_wave.index.isin(Glub_obuch.index) , '2_course'] = 'Глубинное обучение в обработке звука'\n",
        "first_wave.loc[first_wave['1_course'].ne('Теория баз данных') & first_wave['amount'].eq(2) & first_wave.index.isin(Ter_baz.index) , '2_course'] = 'Теория баз данных'\n",
        "first_wave.loc[first_wave['1_course'].ne('Моделирование временных рядов') & first_wave['amount'].eq(2) & first_wave.index.isin(Mod_rd.index) , '2_course'] = 'Моделирование временных рядов'\n",
        "first_wave.loc[first_wave['1_course'].ne('Принятие решений в условиях риска и неопределённости') & first_wave['amount'].eq(2) & first_wave.index.isin(Prin_resh.index) , '2_course'] = 'Принятие решений в условиях риска и неопределённости'\n",
        "first_wave.loc[first_wave['1_course'].ne('Язык SQL') & first_wave['amount'].eq(2) & first_wave.index.isin(SQL.index) , '2_course'] = 'Язык SQL'\n"
      ],
      "execution_count": 693,
      "outputs": []
    },
    {
      "cell_type": "markdown",
      "metadata": {
        "id": "nMO1yogiJrTI"
      },
      "source": [
        "Введём признак fullfilled, который равен 1, если студент выбрал необходимое количество курсов и 0 иначе"
      ]
    },
    {
      "cell_type": "code",
      "metadata": {
        "id": "a7LBLW_pF9B1"
      },
      "source": [
        "first_wave['fullfilled'] = 0\n",
        "first_wave.loc[(first_wave['amount'].eq(1)) & (first_wave['1_course'].ne(0)), 'fullfilled'] = 1\n",
        "first_wave.loc[(first_wave['amount'].eq(2)) & (first_wave['1_course'].ne(0)) & (first_wave['2_course'].ne(0)), 'fullfilled'] = 1"
      ],
      "execution_count": 694,
      "outputs": []
    },
    {
      "cell_type": "markdown",
      "metadata": {
        "id": "Oe_jknzWlWPY"
      },
      "source": [
        "Итоговая таблица после первой волны будет выглядеть как:"
      ]
    },
    {
      "cell_type": "code",
      "metadata": {
        "colab": {
          "base_uri": "https://localhost:8080/",
          "height": 815
        },
        "id": "IvE22HyyNccM",
        "outputId": "5661d4b0-762a-4b7a-cb95-562ff3e74cb0"
      },
      "source": [
        "first_wave.head(25)\n"
      ],
      "execution_count": 695,
      "outputs": [
        {
          "output_type": "execute_result",
          "data": {
            "text/html": [
              "<div>\n",
              "<style scoped>\n",
              "    .dataframe tbody tr th:only-of-type {\n",
              "        vertical-align: middle;\n",
              "    }\n",
              "\n",
              "    .dataframe tbody tr th {\n",
              "        vertical-align: top;\n",
              "    }\n",
              "\n",
              "    .dataframe thead th {\n",
              "        text-align: right;\n",
              "    }\n",
              "</style>\n",
              "<table border=\"1\" class=\"dataframe\">\n",
              "  <thead>\n",
              "    <tr style=\"text-align: right;\">\n",
              "      <th></th>\n",
              "      <th>id</th>\n",
              "      <th>1_course</th>\n",
              "      <th>2_course</th>\n",
              "      <th>amount</th>\n",
              "      <th>fullfilled</th>\n",
              "    </tr>\n",
              "  </thead>\n",
              "  <tbody>\n",
              "    <tr>\n",
              "      <th>80</th>\n",
              "      <td>3e106aaef8b24dbb01319c73e14c2936</td>\n",
              "      <td>Безопасность компьютерных систем</td>\n",
              "      <td>0</td>\n",
              "      <td>1</td>\n",
              "      <td>1</td>\n",
              "    </tr>\n",
              "    <tr>\n",
              "      <th>231</th>\n",
              "      <td>3a7326c9e355a67d3805824ca34c4bc5</td>\n",
              "      <td>Statistical Learning Theory</td>\n",
              "      <td>Высокопроизводительные вычисления</td>\n",
              "      <td>2</td>\n",
              "      <td>1</td>\n",
              "    </tr>\n",
              "    <tr>\n",
              "      <th>91</th>\n",
              "      <td>e0ca1a9548af9a3f98428c62420aa484</td>\n",
              "      <td>Матричные вычисления</td>\n",
              "      <td>0</td>\n",
              "      <td>1</td>\n",
              "      <td>1</td>\n",
              "    </tr>\n",
              "    <tr>\n",
              "      <th>273</th>\n",
              "      <td>7fe7df0d207babbf30249b3063ac1f26</td>\n",
              "      <td>Высокопроизводительные вычисления</td>\n",
              "      <td>0</td>\n",
              "      <td>1</td>\n",
              "      <td>1</td>\n",
              "    </tr>\n",
              "    <tr>\n",
              "      <th>19</th>\n",
              "      <td>86d929f6fd741e56e93cee5900298849</td>\n",
              "      <td>Сбор и обработка данных с помощью краудсорсинга</td>\n",
              "      <td>0</td>\n",
              "      <td>1</td>\n",
              "      <td>1</td>\n",
              "    </tr>\n",
              "    <tr>\n",
              "      <th>94</th>\n",
              "      <td>425c2a90f447620c9a1868e92f0a7af6</td>\n",
              "      <td>Сбор и обработка данных с помощью краудсорсинга</td>\n",
              "      <td>0</td>\n",
              "      <td>1</td>\n",
              "      <td>1</td>\n",
              "    </tr>\n",
              "    <tr>\n",
              "      <th>323</th>\n",
              "      <td>67e4ec4fe5c0601815692fbd6d403fb7</td>\n",
              "      <td>Глубинное обучение в обработке звука</td>\n",
              "      <td>Байесовские методы машинного обучения</td>\n",
              "      <td>2</td>\n",
              "      <td>1</td>\n",
              "    </tr>\n",
              "    <tr>\n",
              "      <th>158</th>\n",
              "      <td>723d5f32b699c971b4095a017c883ffa</td>\n",
              "      <td>Statistical Learning Theory</td>\n",
              "      <td>0</td>\n",
              "      <td>1</td>\n",
              "      <td>1</td>\n",
              "    </tr>\n",
              "    <tr>\n",
              "      <th>250</th>\n",
              "      <td>b3cbd3541c0cf66ff4eb2bc1596bb149</td>\n",
              "      <td>Байесовские методы машинного обучения</td>\n",
              "      <td>Statistical Learning Theory</td>\n",
              "      <td>2</td>\n",
              "      <td>1</td>\n",
              "    </tr>\n",
              "    <tr>\n",
              "      <th>84</th>\n",
              "      <td>bfe75c08c6b7e31d4e7d48c9c5fed69b</td>\n",
              "      <td>Безопасность компьютерных систем</td>\n",
              "      <td>0</td>\n",
              "      <td>1</td>\n",
              "      <td>1</td>\n",
              "    </tr>\n",
              "    <tr>\n",
              "      <th>210</th>\n",
              "      <td>04f9a2dd035a040318ecd064959df3a0</td>\n",
              "      <td>Безопасность компьютерных систем</td>\n",
              "      <td>0</td>\n",
              "      <td>1</td>\n",
              "      <td>1</td>\n",
              "    </tr>\n",
              "    <tr>\n",
              "      <th>267</th>\n",
              "      <td>840716fde17a536f5e067546ab49a8a7</td>\n",
              "      <td>Глубинное обучение в обработке звука</td>\n",
              "      <td>Байесовские методы машинного обучения</td>\n",
              "      <td>2</td>\n",
              "      <td>1</td>\n",
              "    </tr>\n",
              "    <tr>\n",
              "      <th>93</th>\n",
              "      <td>1f63fc485d851236249263b91dc03d6b</td>\n",
              "      <td>Statistical Learning Theory</td>\n",
              "      <td>0</td>\n",
              "      <td>1</td>\n",
              "      <td>1</td>\n",
              "    </tr>\n",
              "    <tr>\n",
              "      <th>85</th>\n",
              "      <td>651f2fa7d270b436246ddd7d05880bfa</td>\n",
              "      <td>Теория баз данных</td>\n",
              "      <td>0</td>\n",
              "      <td>1</td>\n",
              "      <td>1</td>\n",
              "    </tr>\n",
              "    <tr>\n",
              "      <th>347</th>\n",
              "      <td>bb29d9b9230528a4873f91abce2095b8</td>\n",
              "      <td>Безопасность компьютерных систем</td>\n",
              "      <td>0</td>\n",
              "      <td>1</td>\n",
              "      <td>1</td>\n",
              "    </tr>\n",
              "    <tr>\n",
              "      <th>48</th>\n",
              "      <td>e5fb2c5a9d8a09915b15d14bf6cf3174</td>\n",
              "      <td>Безопасность компьютерных систем</td>\n",
              "      <td>0</td>\n",
              "      <td>1</td>\n",
              "      <td>1</td>\n",
              "    </tr>\n",
              "    <tr>\n",
              "      <th>327</th>\n",
              "      <td>dc7f705ae386b0457542a833571d51d0</td>\n",
              "      <td>Моделирование временных рядов</td>\n",
              "      <td>Высокопроизводительные вычисления</td>\n",
              "      <td>2</td>\n",
              "      <td>1</td>\n",
              "    </tr>\n",
              "    <tr>\n",
              "      <th>26</th>\n",
              "      <td>a0c56e8aa03ea6c1f5e8462914472075</td>\n",
              "      <td>Сбор и обработка данных с помощью краудсорсинга</td>\n",
              "      <td>0</td>\n",
              "      <td>1</td>\n",
              "      <td>1</td>\n",
              "    </tr>\n",
              "    <tr>\n",
              "      <th>209</th>\n",
              "      <td>cef7df6fa798b759b2a5763b7d0c5d38</td>\n",
              "      <td>Матричные вычисления</td>\n",
              "      <td>0</td>\n",
              "      <td>1</td>\n",
              "      <td>1</td>\n",
              "    </tr>\n",
              "    <tr>\n",
              "      <th>305</th>\n",
              "      <td>7f98e4487c7a910567f2d841e5e764c3</td>\n",
              "      <td>Анализ неструктурированных данных</td>\n",
              "      <td>0</td>\n",
              "      <td>1</td>\n",
              "      <td>1</td>\n",
              "    </tr>\n",
              "    <tr>\n",
              "      <th>36</th>\n",
              "      <td>d37fe725a8ee1d1b263463baf7560fd4</td>\n",
              "      <td>Безопасность компьютерных систем</td>\n",
              "      <td>0</td>\n",
              "      <td>1</td>\n",
              "      <td>1</td>\n",
              "    </tr>\n",
              "    <tr>\n",
              "      <th>352</th>\n",
              "      <td>f93afd8e92c336b471aa3bbbc579aefe</td>\n",
              "      <td>Высокопроизводительные вычисления</td>\n",
              "      <td>0</td>\n",
              "      <td>1</td>\n",
              "      <td>1</td>\n",
              "    </tr>\n",
              "    <tr>\n",
              "      <th>134</th>\n",
              "      <td>f3cc62fabaa597e8fe0b20ac2e6f46d3</td>\n",
              "      <td>Безопасность компьютерных систем</td>\n",
              "      <td>0</td>\n",
              "      <td>1</td>\n",
              "      <td>1</td>\n",
              "    </tr>\n",
              "    <tr>\n",
              "      <th>56</th>\n",
              "      <td>447a377d20b3181f0436c72c19a48c37</td>\n",
              "      <td>Безопасность компьютерных систем</td>\n",
              "      <td>0</td>\n",
              "      <td>1</td>\n",
              "      <td>1</td>\n",
              "    </tr>\n",
              "    <tr>\n",
              "      <th>331</th>\n",
              "      <td>b243a77fa09641c7f0a0b7dfb7a541df</td>\n",
              "      <td>Высокопроизводительные вычисления</td>\n",
              "      <td>0</td>\n",
              "      <td>1</td>\n",
              "      <td>1</td>\n",
              "    </tr>\n",
              "  </tbody>\n",
              "</table>\n",
              "</div>"
            ],
            "text/plain": [
              "                                   id  ... fullfilled\n",
              "80   3e106aaef8b24dbb01319c73e14c2936  ...          1\n",
              "231  3a7326c9e355a67d3805824ca34c4bc5  ...          1\n",
              "91   e0ca1a9548af9a3f98428c62420aa484  ...          1\n",
              "273  7fe7df0d207babbf30249b3063ac1f26  ...          1\n",
              "19   86d929f6fd741e56e93cee5900298849  ...          1\n",
              "94   425c2a90f447620c9a1868e92f0a7af6  ...          1\n",
              "323  67e4ec4fe5c0601815692fbd6d403fb7  ...          1\n",
              "158  723d5f32b699c971b4095a017c883ffa  ...          1\n",
              "250  b3cbd3541c0cf66ff4eb2bc1596bb149  ...          1\n",
              "84   bfe75c08c6b7e31d4e7d48c9c5fed69b  ...          1\n",
              "210  04f9a2dd035a040318ecd064959df3a0  ...          1\n",
              "267  840716fde17a536f5e067546ab49a8a7  ...          1\n",
              "93   1f63fc485d851236249263b91dc03d6b  ...          1\n",
              "85   651f2fa7d270b436246ddd7d05880bfa  ...          1\n",
              "347  bb29d9b9230528a4873f91abce2095b8  ...          1\n",
              "48   e5fb2c5a9d8a09915b15d14bf6cf3174  ...          1\n",
              "327  dc7f705ae386b0457542a833571d51d0  ...          1\n",
              "26   a0c56e8aa03ea6c1f5e8462914472075  ...          1\n",
              "209  cef7df6fa798b759b2a5763b7d0c5d38  ...          1\n",
              "305  7f98e4487c7a910567f2d841e5e764c3  ...          1\n",
              "36   d37fe725a8ee1d1b263463baf7560fd4  ...          1\n",
              "352  f93afd8e92c336b471aa3bbbc579aefe  ...          1\n",
              "134  f3cc62fabaa597e8fe0b20ac2e6f46d3  ...          1\n",
              "56   447a377d20b3181f0436c72c19a48c37  ...          1\n",
              "331  b243a77fa09641c7f0a0b7dfb7a541df  ...          1\n",
              "\n",
              "[25 rows x 5 columns]"
            ]
          },
          "metadata": {},
          "execution_count": 695
        }
      ]
    },
    {
      "cell_type": "markdown",
      "metadata": {
        "id": "8JdpDbZqoWt9"
      },
      "source": [
        "# 3)"
      ]
    },
    {
      "cell_type": "markdown",
      "metadata": {
        "id": "Oka9audTVHm9"
      },
      "source": [
        "# Вторая волна"
      ]
    },
    {
      "cell_type": "markdown",
      "metadata": {
        "id": "MkDGtp7Zupto"
      },
      "source": [
        "Для начала определимся с количеством оставшихся вакантных мест для всех курсов "
      ]
    },
    {
      "cell_type": "markdown",
      "metadata": {
        "id": "NbmgRJCN0AmG"
      },
      "source": [
        "Выведем таблицу с количеством студентов, которые уже поступили на курс после первой волны отбора"
      ]
    },
    {
      "cell_type": "code",
      "metadata": {
        "colab": {
          "base_uri": "https://localhost:8080/",
          "height": 447
        },
        "id": "tZ-_kPX5uyxi",
        "outputId": "4c8f2c4d-d8f8-4f9f-cfd5-8995c88607c9"
      },
      "source": [
        "vacant_1 = first_wave.groupby('1_course')['id'].count()\n",
        "vacant_2 = first_wave.groupby('2_course')['id'].count()\n",
        "reserved = pd.DataFrame(vacant_1.add(vacant_2).combine_first(vacant_1).combine_first(vacant_2))\n",
        "reserved"
      ],
      "execution_count": 696,
      "outputs": [
        {
          "output_type": "execute_result",
          "data": {
            "text/html": [
              "<div>\n",
              "<style scoped>\n",
              "    .dataframe tbody tr th:only-of-type {\n",
              "        vertical-align: middle;\n",
              "    }\n",
              "\n",
              "    .dataframe tbody tr th {\n",
              "        vertical-align: top;\n",
              "    }\n",
              "\n",
              "    .dataframe thead th {\n",
              "        text-align: right;\n",
              "    }\n",
              "</style>\n",
              "<table border=\"1\" class=\"dataframe\">\n",
              "  <thead>\n",
              "    <tr style=\"text-align: right;\">\n",
              "      <th></th>\n",
              "      <th>id</th>\n",
              "    </tr>\n",
              "  </thead>\n",
              "  <tbody>\n",
              "    <tr>\n",
              "      <th>0</th>\n",
              "      <td>366.0</td>\n",
              "    </tr>\n",
              "    <tr>\n",
              "      <th>Statistical Learning Theory</th>\n",
              "      <td>33.0</td>\n",
              "    </tr>\n",
              "    <tr>\n",
              "      <th>Анализ неструктурированных данных</th>\n",
              "      <td>48.0</td>\n",
              "    </tr>\n",
              "    <tr>\n",
              "      <th>Байесовские методы машинного обучения</th>\n",
              "      <td>24.0</td>\n",
              "    </tr>\n",
              "    <tr>\n",
              "      <th>Безопасность компьютерных систем</th>\n",
              "      <td>30.0</td>\n",
              "    </tr>\n",
              "    <tr>\n",
              "      <th>Высокопроизводительные вычисления</th>\n",
              "      <td>44.0</td>\n",
              "    </tr>\n",
              "    <tr>\n",
              "      <th>Глубинное обучение в обработке звука</th>\n",
              "      <td>23.0</td>\n",
              "    </tr>\n",
              "    <tr>\n",
              "      <th>Матричные вычисления</th>\n",
              "      <td>15.0</td>\n",
              "    </tr>\n",
              "    <tr>\n",
              "      <th>Моделирование временных рядов</th>\n",
              "      <td>30.0</td>\n",
              "    </tr>\n",
              "    <tr>\n",
              "      <th>Принятие решений в условиях риска и неопределённости</th>\n",
              "      <td>8.0</td>\n",
              "    </tr>\n",
              "    <tr>\n",
              "      <th>Сбор и обработка данных с помощью краудсорсинга</th>\n",
              "      <td>30.0</td>\n",
              "    </tr>\n",
              "    <tr>\n",
              "      <th>Теория баз данных</th>\n",
              "      <td>14.0</td>\n",
              "    </tr>\n",
              "    <tr>\n",
              "      <th>Язык SQL</th>\n",
              "      <td>29.0</td>\n",
              "    </tr>\n",
              "  </tbody>\n",
              "</table>\n",
              "</div>"
            ],
            "text/plain": [
              "                                                       id\n",
              "0                                                   366.0\n",
              "Statistical Learning Theory                          33.0\n",
              "Анализ неструктурированных данных                    48.0\n",
              "Байесовские методы машинного обучения                24.0\n",
              "Безопасность компьютерных систем                     30.0\n",
              "Высокопроизводительные вычисления                    44.0\n",
              "Глубинное обучение в обработке звука                 23.0\n",
              "Матричные вычисления                                 15.0\n",
              "Моделирование временных рядов                        30.0\n",
              "Принятие решений в условиях риска и неопределён...    8.0\n",
              "Сбор и обработка данных с помощью краудсорсинга      30.0\n",
              "Теория баз данных                                    14.0\n",
              "Язык SQL                                             29.0"
            ]
          },
          "metadata": {},
          "execution_count": 696
        }
      ]
    },
    {
      "cell_type": "markdown",
      "metadata": {
        "id": "uV4amw9i4Hrh"
      },
      "source": [
        "Отсюда явно можно понять, сколько мест осталось на каждом курсе (для минимизации механической работы я опущу вывод этого датафрейма)\n",
        "\n"
      ]
    },
    {
      "cell_type": "code",
      "metadata": {
        "id": "yuMQMD8KzMa4"
      },
      "source": [
        "sec_wave = pd.DataFrame(data = (data['id']))\n",
        "sec_wave['percentile'] = data['percentile']\n",
        "sec_wave['course_quantity'] = data['course_quantity']\n",
        "sec_wave['fullfilled'] = first_wave['fullfilled']"
      ],
      "execution_count": 697,
      "outputs": []
    },
    {
      "cell_type": "markdown",
      "metadata": {
        "id": "ErvhsalS6uLB"
      },
      "source": [
        "Создадим бинарные признаки выбора 2 приоритета \n"
      ]
    },
    {
      "cell_type": "code",
      "metadata": {
        "id": "3Ma44VJs6-7r"
      },
      "source": [
        "sec_wave['Безопасность компьютерных систем'] = np.where((data['fall_2'] == 'Безопасность компьютерных систем') & (data['course_quantity'] == 1)|(data['fall_3'] == 'Безопасность компьютерных систем') & (data['course_quantity'] == 2) , 1, 0)\n",
        "sec_wave['Statistical Learning Theory'] = np.where((data['fall_2'] == 'Statistical Learning Theory') & (data['course_quantity'] == 1)|(data['fall_3'] == 'Statistical Learning Theory') & (data['course_quantity'] == 2), 1, 0)\n",
        "sec_wave['Матричные вычисления'] = np.where((data['fall_2'] == 'Матричные вычисления') & (data['course_quantity'] == 1)|(data['fall_3'] == 'Матричные вычисления') & (data['course_quantity'] == 2), 1, 0)\n",
        "sec_wave['Высокопроизводительные вычисления'] = np.where((data['fall_2'] == 'Высокопроизводительные вычисления') & (data['course_quantity'] == 1)|(data['fall_3'] == 'Высокопроизводительные вычисления') & (data['course_quantity'] == 2), 1, 0)\n",
        "sec_wave['Сбор и обработка данных с помощью краудсорсинга'] = np.where((data['fall_2'] == 'Сбор и обработка данных с помощью краудсорсинга') & (data['course_quantity'] == 1)|(data['fall_3'] == 'Сбор и обработка данных с помощью краудсорсинга') & (data['course_quantity'] == 2), 1, 0)\n",
        "sec_wave['Байесовские методы машинного обучения'] = np.where((data['fall_2'] == 'Байесовские методы машинного обучения') & (data['course_quantity'] == 1)|(data['fall_3'] == 'Байесовские методы машинного обучения') & (data['course_quantity'] == 2), 1, 0)\n",
        "sec_wave['Теория баз данных'] = np.where((data['fall_2'] == 'Теория баз данных') & (data['course_quantity'] == 1)|(data['fall_3'] == 'Теория баз данных') & (data['course_quantity'] == 2), 1, 0)\n",
        "sec_wave['Анализ неструктурированных данных'] = np.where((data['fall_2'] == 'Анализ неструктурированных данных') & (data['course_quantity'] == 1)|(data['fall_3'] == 'Анализ неструктурированных данных') & (data['course_quantity'] == 2), 1, 0)\n",
        "sec_wave['Глубинное обучение в обработке звука'] = np.where((data['fall_2'] == 'Глубинное обучение в обработке звука') & (data['course_quantity'] == 1)|(data['fall_3'] == 'Глубинное обучение в обработке звука') & (data['course_quantity'] == 2), 1, 0)\n",
        "sec_wave['Моделирование временных рядов'] = np.where((data['fall_2'] == 'Моделирование временных рядов') & (data['course_quantity'] == 1)|(data['fall_3'] == 'Моделирование временных рядов') & (data['course_quantity'] == 2), 1, 0)\n",
        "sec_wave['Язык SQL'] = np.where((data['fall_2'] == 'Язык SQL') & (data['course_quantity'] == 1)|(data['fall_3'] == 'Язык SQL') & (data['course_quantity'] == 2), 1, 0)\n",
        "sec_wave['Принятие решений в условиях риска и неопределённости'] = np.where((data['fall_2'] == 'Принятие решений в условиях риска и неопределённости') & (data['course_quantity'] == 1)|(data['fall_3'] == 'Принятие решений в условиях риска и неопределённости') & (data['course_quantity'] == 2), 1, 0)"
      ],
      "execution_count": 698,
      "outputs": []
    },
    {
      "cell_type": "markdown",
      "metadata": {
        "id": "x2DhkGVwBFxg"
      },
      "source": [
        "Получим уникальные id студентов, выбравших курс в качестве второго приоритета c учётом ограничений на количество студентов и \"укомплектованных\" курсами студентов"
      ]
    },
    {
      "cell_type": "code",
      "metadata": {
        "id": "POiboXabBMfT"
      },
      "source": [
        "comp_bez_2 = sec_wave.loc[(sec_wave['Безопасность компьютерных систем'] == 1) & (sec_wave['fullfilled'] == 0)].iloc[:0]['id']\n",
        "vys_vych_2 = sec_wave.loc[(sec_wave['Высокопроизводительные вычисления'] == 1)  & (sec_wave['fullfilled'] == 0)].iloc[:16]['id']\n",
        "stat_learn_2 = sec_wave.loc[(sec_wave['Statistical Learning Theory'] == 1)  & (sec_wave['fullfilled'] == 0)].iloc[:27]['id']\n",
        "an_nestr_2 = sec_wave.loc[(sec_wave['Анализ неструктурированных данных'] == 1) & (sec_wave['fullfilled'] == 0)]['id']\n",
        "Sbor_obr_2 = sec_wave.loc[(sec_wave['Сбор и обработка данных с помощью краудсорсинга'] == 1) & (sec_wave['fullfilled'] == 0)].iloc[:0]['id']\n",
        "Matr_vych_2 = sec_wave.loc[(sec_wave['Матричные вычисления'] == 1) & (sec_wave['fullfilled'] == 0)].iloc[:15]['id']\n",
        "Bayes_2 = sec_wave.loc[(sec_wave['Байесовские методы машинного обучения'] == 1) & (sec_wave['fullfilled'] == 0)].iloc[:6]['id']\n",
        "Glub_obuch_2 = sec_wave.loc[(sec_wave['Глубинное обучение в обработке звука'] == 1) & (sec_wave['fullfilled'] == 0)].iloc[:7]['id']\n",
        "Ter_baz_2 = sec_wave.loc[(sec_wave['Теория баз данных'] == 1) & (sec_wave['fullfilled'] == 0)].iloc[:16]['id']\n",
        "Mod_rd_2 = sec_wave.loc[(sec_wave['Моделирование временных рядов'] == 1) & (sec_wave['fullfilled'] == 0)].iloc[:0]['id']\n",
        "Prin_resh_2 = sec_wave.loc[(sec_wave['Принятие решений в условиях риска и неопределённости'] == 1) & (sec_wave['fullfilled'] == 0)].iloc[:22]['id']\n",
        "SQL_2 = sec_wave.loc[(sec_wave['Язык SQL'] == 1) & (sec_wave['fullfilled'] == 0)].iloc[:1]['id']"
      ],
      "execution_count": 699,
      "outputs": []
    },
    {
      "cell_type": "markdown",
      "metadata": {
        "id": "ET1ZmedQDdqD"
      },
      "source": [
        "Теперь будем добавлять курсы студентам в датафрейм 'first_wave' в соответствии с условиями задачи"
      ]
    },
    {
      "cell_type": "markdown",
      "metadata": {
        "id": "-7XEILVQRPHs"
      },
      "source": [
        "Для 1 курса "
      ]
    },
    {
      "cell_type": "code",
      "metadata": {
        "id": "icow6LzLEG6K"
      },
      "source": [
        "first_wave.loc[(first_wave.index.isin(comp_bez_2.index)) & (first_wave['1_course'].eq(0)), '1_course'] = 'Безопасность компьютерных систем'\n",
        "first_wave.loc[(first_wave.index.isin(vys_vych_2.index)) & (first_wave['1_course'].eq(0)), '1_course'] = 'Высокопроизводительные вычисления'\n",
        "first_wave.loc[(first_wave.index.isin(stat_learn_2.index)) & (first_wave['1_course'].eq(0)), '1_course'] = 'Statistical Learning Theory'\n",
        "first_wave.loc[(first_wave.index.isin(an_nestr_2.index)) & (first_wave['1_course'].eq(0)), '1_course'] = 'Анализ неструктурированных данных'\n",
        "first_wave.loc[(first_wave.index.isin(Sbor_obr_2.index)) & (first_wave['1_course'].eq(0)), '1_course'] = 'Сбор и обработка данных с помощью краудсорсинга'\n",
        "first_wave.loc[(first_wave.index.isin(Matr_vych_2.index)) & (first_wave['1_course'].eq(0)), '1_course'] = 'Матричные вычисления'\n",
        "first_wave.loc[(first_wave.index.isin(Bayes_2.index)) & (first_wave['1_course'].eq(0)), '1_course'] = 'Байесовские методы машинного обучения'\n",
        "first_wave.loc[(first_wave.index.isin(Glub_obuch_2.index)) & (first_wave['1_course'].eq(0)), '1_course'] = 'Глубинное обучение в обработке звука'\n",
        "first_wave.loc[(first_wave.index.isin(Ter_baz_2.index)) & (first_wave['1_course'].eq(0)), '1_course'] = 'Теория баз данных'\n",
        "first_wave.loc[(first_wave.index.isin(Mod_rd_2.index)) & (first_wave['1_course'].eq(0)), '1_course'] = 'Моделирование временных рядов'\n",
        "first_wave.loc[(first_wave.index.isin(Prin_resh_2.index)) & (first_wave['1_course'].eq(0)), '1_course'] = 'Принятие решений в условиях риска и неопределённости'\n",
        "first_wave.loc[(first_wave.index.isin(SQL_2.index)) & (first_wave['1_course'].eq(0)), '1_course'] = 'Язык SQL'\n"
      ],
      "execution_count": 700,
      "outputs": []
    },
    {
      "cell_type": "markdown",
      "metadata": {
        "id": "AW5ui7mhRTzn"
      },
      "source": [
        "Для 2 курса"
      ]
    },
    {
      "cell_type": "code",
      "metadata": {
        "id": "zyez793QPFF-"
      },
      "source": [
        "first_wave.loc[first_wave['1_course'].ne('Безопасность компьютерных систем') & first_wave['amount'].eq(2) & first_wave.index.isin(comp_bez_2.index) & (first_wave['2_course'].eq(0)) , '2_course'] = 'Безопасность компьютерных систем'\n",
        "first_wave.loc[first_wave['1_course'].ne('Высокопроизводительные вычисления') & first_wave['amount'].eq(2) & first_wave.index.isin(vys_vych_2.index) & (first_wave['2_course'].eq(0)) , '2_course'] = 'Высокопроизводительные вычисления'\n",
        "first_wave.loc[first_wave['1_course'].ne('Statistical Learning Theory') & first_wave['amount'].eq(2) & first_wave.index.isin(stat_learn_2.index) & (first_wave['2_course'].eq(0)), '2_course'] = 'Statistical Learning Theory'\n",
        "first_wave.loc[first_wave['1_course'].ne('Анализ неструктурированных данных') & first_wave['amount'].eq(2) & first_wave.index.isin(an_nestr_2.index) & (first_wave['2_course'].eq(0)), '2_course'] = 'Анализ неструктурированных данных'\n",
        "first_wave.loc[first_wave['1_course'].ne('Сбор и обработка данных с помощью краудсорсинга') & first_wave['amount'].eq(2) & first_wave.index.isin(Sbor_obr_2.index) & (first_wave['2_course'].eq(0)) , '2_course'] = 'Сбор и обработка данных с помощью краудсорсинга'\n",
        "first_wave.loc[first_wave['1_course'].ne('Матричные вычисления') & first_wave['amount'].eq(2) & first_wave.index.isin(Matr_vych_2.index) & (first_wave['2_course'].eq(0)) , '2_course'] = 'Матричные вычисления'\n",
        "first_wave.loc[first_wave['1_course'].ne('Байесовские методы машинного обучения') & first_wave['amount'].eq(2) & first_wave.index.isin(Bayes_2.index) & (first_wave['2_course'].eq(0)), '2_course'] = 'Байесовские методы машинного обучения'\n",
        "first_wave.loc[first_wave['1_course'].ne('Глубинное обучение в обработке звука') & first_wave['amount'].eq(2) & first_wave.index.isin(Glub_obuch_2.index) & (first_wave['2_course'].eq(0)), '2_course'] = 'Глубинное обучение в обработке звука'\n",
        "first_wave.loc[first_wave['1_course'].ne('Теория баз данных') & first_wave['amount'].eq(2) & first_wave.index.isin(Ter_baz_2.index) & (first_wave['2_course'].eq(0)), '2_course'] = 'Теория баз данных'\n",
        "first_wave.loc[first_wave['1_course'].ne('Моделирование временных рядов') & first_wave['amount'].eq(2) & first_wave.index.isin(Mod_rd_2.index) & (first_wave['2_course'].eq(0)), '2_course'] = 'Моделирование временных рядов'\n",
        "first_wave.loc[first_wave['1_course'].ne('Принятие решений в условиях риска и неопределённости') & first_wave['amount'].eq(2) & first_wave.index.isin(Prin_resh_2.index) & (first_wave['2_course'].eq(0)), '2_course'] = 'Принятие решений в условиях риска и неопределённости'\n",
        "first_wave.loc[first_wave['1_course'].ne('Язык SQL') & first_wave['amount'].eq(2) & first_wave.index.isin(SQL_2.index) & (first_wave['2_course'].eq(0)), '2_course'] = 'Язык SQL'\n"
      ],
      "execution_count": 701,
      "outputs": []
    },
    {
      "cell_type": "markdown",
      "metadata": {
        "id": "_bRlEjCsTxFz"
      },
      "source": [
        "Итоговая таблица после второй волны будет выглядеть следующим образом:"
      ]
    },
    {
      "cell_type": "code",
      "metadata": {
        "colab": {
          "base_uri": "https://localhost:8080/",
          "height": 414
        },
        "id": "rxcUmFdxTwOF",
        "outputId": "e6a72440-6676-4894-a3b5-f91139abacfb"
      },
      "source": [
        "first_wave"
      ],
      "execution_count": 702,
      "outputs": [
        {
          "output_type": "execute_result",
          "data": {
            "text/html": [
              "<div>\n",
              "<style scoped>\n",
              "    .dataframe tbody tr th:only-of-type {\n",
              "        vertical-align: middle;\n",
              "    }\n",
              "\n",
              "    .dataframe tbody tr th {\n",
              "        vertical-align: top;\n",
              "    }\n",
              "\n",
              "    .dataframe thead th {\n",
              "        text-align: right;\n",
              "    }\n",
              "</style>\n",
              "<table border=\"1\" class=\"dataframe\">\n",
              "  <thead>\n",
              "    <tr style=\"text-align: right;\">\n",
              "      <th></th>\n",
              "      <th>id</th>\n",
              "      <th>1_course</th>\n",
              "      <th>2_course</th>\n",
              "      <th>amount</th>\n",
              "      <th>fullfilled</th>\n",
              "    </tr>\n",
              "  </thead>\n",
              "  <tbody>\n",
              "    <tr>\n",
              "      <th>80</th>\n",
              "      <td>3e106aaef8b24dbb01319c73e14c2936</td>\n",
              "      <td>Безопасность компьютерных систем</td>\n",
              "      <td>0</td>\n",
              "      <td>1</td>\n",
              "      <td>1</td>\n",
              "    </tr>\n",
              "    <tr>\n",
              "      <th>231</th>\n",
              "      <td>3a7326c9e355a67d3805824ca34c4bc5</td>\n",
              "      <td>Statistical Learning Theory</td>\n",
              "      <td>Высокопроизводительные вычисления</td>\n",
              "      <td>2</td>\n",
              "      <td>1</td>\n",
              "    </tr>\n",
              "    <tr>\n",
              "      <th>91</th>\n",
              "      <td>e0ca1a9548af9a3f98428c62420aa484</td>\n",
              "      <td>Матричные вычисления</td>\n",
              "      <td>0</td>\n",
              "      <td>1</td>\n",
              "      <td>1</td>\n",
              "    </tr>\n",
              "    <tr>\n",
              "      <th>273</th>\n",
              "      <td>7fe7df0d207babbf30249b3063ac1f26</td>\n",
              "      <td>Высокопроизводительные вычисления</td>\n",
              "      <td>0</td>\n",
              "      <td>1</td>\n",
              "      <td>1</td>\n",
              "    </tr>\n",
              "    <tr>\n",
              "      <th>19</th>\n",
              "      <td>86d929f6fd741e56e93cee5900298849</td>\n",
              "      <td>Сбор и обработка данных с помощью краудсорсинга</td>\n",
              "      <td>0</td>\n",
              "      <td>1</td>\n",
              "      <td>1</td>\n",
              "    </tr>\n",
              "    <tr>\n",
              "      <th>...</th>\n",
              "      <td>...</td>\n",
              "      <td>...</td>\n",
              "      <td>...</td>\n",
              "      <td>...</td>\n",
              "      <td>...</td>\n",
              "    </tr>\n",
              "    <tr>\n",
              "      <th>359</th>\n",
              "      <td>79d14db48e4737af731960ae212d5134</td>\n",
              "      <td>Принятие решений в условиях риска и неопределё...</td>\n",
              "      <td>Анализ неструктурированных данных</td>\n",
              "      <td>2</td>\n",
              "      <td>0</td>\n",
              "    </tr>\n",
              "    <tr>\n",
              "      <th>170</th>\n",
              "      <td>40b18d40197e3db66312a026e06b8ff1</td>\n",
              "      <td>0</td>\n",
              "      <td>0</td>\n",
              "      <td>1</td>\n",
              "      <td>0</td>\n",
              "    </tr>\n",
              "    <tr>\n",
              "      <th>128</th>\n",
              "      <td>be4fa2120de3397ae21eac38ff0060e3</td>\n",
              "      <td>0</td>\n",
              "      <td>0</td>\n",
              "      <td>1</td>\n",
              "      <td>0</td>\n",
              "    </tr>\n",
              "    <tr>\n",
              "      <th>340</th>\n",
              "      <td>d539461bf254cf8b3201cdf7990b119e</td>\n",
              "      <td>Анализ неструктурированных данных</td>\n",
              "      <td>0</td>\n",
              "      <td>1</td>\n",
              "      <td>1</td>\n",
              "    </tr>\n",
              "    <tr>\n",
              "      <th>217</th>\n",
              "      <td>7a21ef645ecb42198be493dd65320e78</td>\n",
              "      <td>Принятие решений в условиях риска и неопределё...</td>\n",
              "      <td>0</td>\n",
              "      <td>1</td>\n",
              "      <td>1</td>\n",
              "    </tr>\n",
              "  </tbody>\n",
              "</table>\n",
              "<p>347 rows × 5 columns</p>\n",
              "</div>"
            ],
            "text/plain": [
              "                                   id  ... fullfilled\n",
              "80   3e106aaef8b24dbb01319c73e14c2936  ...          1\n",
              "231  3a7326c9e355a67d3805824ca34c4bc5  ...          1\n",
              "91   e0ca1a9548af9a3f98428c62420aa484  ...          1\n",
              "273  7fe7df0d207babbf30249b3063ac1f26  ...          1\n",
              "19   86d929f6fd741e56e93cee5900298849  ...          1\n",
              "..                                ...  ...        ...\n",
              "359  79d14db48e4737af731960ae212d5134  ...          0\n",
              "170  40b18d40197e3db66312a026e06b8ff1  ...          0\n",
              "128  be4fa2120de3397ae21eac38ff0060e3  ...          0\n",
              "340  d539461bf254cf8b3201cdf7990b119e  ...          1\n",
              "217  7a21ef645ecb42198be493dd65320e78  ...          1\n",
              "\n",
              "[347 rows x 5 columns]"
            ]
          },
          "metadata": {},
          "execution_count": 702
        }
      ]
    },
    {
      "cell_type": "markdown",
      "metadata": {
        "id": "UoVRJGZWVLwo"
      },
      "source": [
        "# Третья волна"
      ]
    },
    {
      "cell_type": "markdown",
      "metadata": {
        "id": "8gfachEYVPEP"
      },
      "source": [
        "Здесь проводим алгоритм аналогичный зачислению по второй волне с учетом отсутствия третьего приоритета у студентов, которые должны были выбрать 2 курса"
      ]
    },
    {
      "cell_type": "markdown",
      "metadata": {
        "id": "Lc_5zrxoWoe3"
      },
      "source": [
        "Выведем таблицу с количеством студентов, которые уже поступили на курс после первой волны отбора"
      ]
    },
    {
      "cell_type": "code",
      "metadata": {
        "colab": {
          "base_uri": "https://localhost:8080/",
          "height": 447
        },
        "id": "E4L3BXDcWk6B",
        "outputId": "2bd6f7af-1c6e-4fdd-9f9d-2e34eefa9304"
      },
      "source": [
        "vacant_1_2 = first_wave.groupby('1_course')['id'].count()\n",
        "vacant_2_2 = first_wave.groupby('2_course')['id'].count()\n",
        "reserved_2 = pd.DataFrame(vacant_1_2.add(vacant_2_2).combine_first(vacant_1_2).combine_first(vacant_2_2))\n",
        "reserved_2"
      ],
      "execution_count": 703,
      "outputs": [
        {
          "output_type": "execute_result",
          "data": {
            "text/html": [
              "<div>\n",
              "<style scoped>\n",
              "    .dataframe tbody tr th:only-of-type {\n",
              "        vertical-align: middle;\n",
              "    }\n",
              "\n",
              "    .dataframe tbody tr th {\n",
              "        vertical-align: top;\n",
              "    }\n",
              "\n",
              "    .dataframe thead th {\n",
              "        text-align: right;\n",
              "    }\n",
              "</style>\n",
              "<table border=\"1\" class=\"dataframe\">\n",
              "  <thead>\n",
              "    <tr style=\"text-align: right;\">\n",
              "      <th></th>\n",
              "      <th>id</th>\n",
              "    </tr>\n",
              "  </thead>\n",
              "  <tbody>\n",
              "    <tr>\n",
              "      <th>0</th>\n",
              "      <td>315.0</td>\n",
              "    </tr>\n",
              "    <tr>\n",
              "      <th>Statistical Learning Theory</th>\n",
              "      <td>41.0</td>\n",
              "    </tr>\n",
              "    <tr>\n",
              "      <th>Анализ неструктурированных данных</th>\n",
              "      <td>53.0</td>\n",
              "    </tr>\n",
              "    <tr>\n",
              "      <th>Байесовские методы машинного обучения</th>\n",
              "      <td>25.0</td>\n",
              "    </tr>\n",
              "    <tr>\n",
              "      <th>Безопасность компьютерных систем</th>\n",
              "      <td>30.0</td>\n",
              "    </tr>\n",
              "    <tr>\n",
              "      <th>Высокопроизводительные вычисления</th>\n",
              "      <td>59.0</td>\n",
              "    </tr>\n",
              "    <tr>\n",
              "      <th>Глубинное обучение в обработке звука</th>\n",
              "      <td>30.0</td>\n",
              "    </tr>\n",
              "    <tr>\n",
              "      <th>Матричные вычисления</th>\n",
              "      <td>24.0</td>\n",
              "    </tr>\n",
              "    <tr>\n",
              "      <th>Моделирование временных рядов</th>\n",
              "      <td>30.0</td>\n",
              "    </tr>\n",
              "    <tr>\n",
              "      <th>Принятие решений в условиях риска и неопределённости</th>\n",
              "      <td>9.0</td>\n",
              "    </tr>\n",
              "    <tr>\n",
              "      <th>Сбор и обработка данных с помощью краудсорсинга</th>\n",
              "      <td>30.0</td>\n",
              "    </tr>\n",
              "    <tr>\n",
              "      <th>Теория баз данных</th>\n",
              "      <td>18.0</td>\n",
              "    </tr>\n",
              "    <tr>\n",
              "      <th>Язык SQL</th>\n",
              "      <td>30.0</td>\n",
              "    </tr>\n",
              "  </tbody>\n",
              "</table>\n",
              "</div>"
            ],
            "text/plain": [
              "                                                       id\n",
              "0                                                   315.0\n",
              "Statistical Learning Theory                          41.0\n",
              "Анализ неструктурированных данных                    53.0\n",
              "Байесовские методы машинного обучения                25.0\n",
              "Безопасность компьютерных систем                     30.0\n",
              "Высокопроизводительные вычисления                    59.0\n",
              "Глубинное обучение в обработке звука                 30.0\n",
              "Матричные вычисления                                 24.0\n",
              "Моделирование временных рядов                        30.0\n",
              "Принятие решений в условиях риска и неопределён...    9.0\n",
              "Сбор и обработка данных с помощью краудсорсинга      30.0\n",
              "Теория баз данных                                    18.0\n",
              "Язык SQL                                             30.0"
            ]
          },
          "metadata": {},
          "execution_count": 703
        }
      ]
    },
    {
      "cell_type": "markdown",
      "metadata": {
        "id": "mG7n0plkY9i3"
      },
      "source": [
        "Обновим столбец, определяющий \"укомплектованность\" студентов курсами"
      ]
    },
    {
      "cell_type": "code",
      "metadata": {
        "id": "mn8wQXILY5R5"
      },
      "source": [
        "first_wave.loc[(first_wave['amount'].eq(1)) & (first_wave['1_course'].ne(0)), 'fullfilled'] = 1\n",
        "first_wave.loc[(first_wave['amount'].eq(2)) & (first_wave['1_course'].ne(0)) & (first_wave['2_course'].ne(0)), 'fullfilled'] = 1"
      ],
      "execution_count": 704,
      "outputs": []
    },
    {
      "cell_type": "code",
      "metadata": {
        "colab": {
          "base_uri": "https://localhost:8080/",
          "height": 414
        },
        "id": "sqaJQSfHZlok",
        "outputId": "9666e65e-609e-4d8a-efab-57e88d8aabde"
      },
      "source": [
        "thr_wave = pd.DataFrame(data = (data['id']))\n",
        "thr_wave['percentile'] = data['percentile']\n",
        "thr_wave['course_quantity'] = data['course_quantity']\n",
        "thr_wave['fullfilled'] = first_wave['fullfilled']\n",
        "thr_wave"
      ],
      "execution_count": 705,
      "outputs": [
        {
          "output_type": "execute_result",
          "data": {
            "text/html": [
              "<div>\n",
              "<style scoped>\n",
              "    .dataframe tbody tr th:only-of-type {\n",
              "        vertical-align: middle;\n",
              "    }\n",
              "\n",
              "    .dataframe tbody tr th {\n",
              "        vertical-align: top;\n",
              "    }\n",
              "\n",
              "    .dataframe thead th {\n",
              "        text-align: right;\n",
              "    }\n",
              "</style>\n",
              "<table border=\"1\" class=\"dataframe\">\n",
              "  <thead>\n",
              "    <tr style=\"text-align: right;\">\n",
              "      <th></th>\n",
              "      <th>id</th>\n",
              "      <th>percentile</th>\n",
              "      <th>course_quantity</th>\n",
              "      <th>fullfilled</th>\n",
              "    </tr>\n",
              "  </thead>\n",
              "  <tbody>\n",
              "    <tr>\n",
              "      <th>80</th>\n",
              "      <td>3e106aaef8b24dbb01319c73e14c2936</td>\n",
              "      <td>0.000000</td>\n",
              "      <td>1</td>\n",
              "      <td>1</td>\n",
              "    </tr>\n",
              "    <tr>\n",
              "      <th>231</th>\n",
              "      <td>3a7326c9e355a67d3805824ca34c4bc5</td>\n",
              "      <td>0.000000</td>\n",
              "      <td>2</td>\n",
              "      <td>1</td>\n",
              "    </tr>\n",
              "    <tr>\n",
              "      <th>91</th>\n",
              "      <td>e0ca1a9548af9a3f98428c62420aa484</td>\n",
              "      <td>0.004484</td>\n",
              "      <td>1</td>\n",
              "      <td>1</td>\n",
              "    </tr>\n",
              "    <tr>\n",
              "      <th>273</th>\n",
              "      <td>7fe7df0d207babbf30249b3063ac1f26</td>\n",
              "      <td>0.007246</td>\n",
              "      <td>1</td>\n",
              "      <td>1</td>\n",
              "    </tr>\n",
              "    <tr>\n",
              "      <th>19</th>\n",
              "      <td>86d929f6fd741e56e93cee5900298849</td>\n",
              "      <td>0.008969</td>\n",
              "      <td>1</td>\n",
              "      <td>1</td>\n",
              "    </tr>\n",
              "    <tr>\n",
              "      <th>...</th>\n",
              "      <td>...</td>\n",
              "      <td>...</td>\n",
              "      <td>...</td>\n",
              "      <td>...</td>\n",
              "    </tr>\n",
              "    <tr>\n",
              "      <th>359</th>\n",
              "      <td>79d14db48e4737af731960ae212d5134</td>\n",
              "      <td>0.985507</td>\n",
              "      <td>2</td>\n",
              "      <td>1</td>\n",
              "    </tr>\n",
              "    <tr>\n",
              "      <th>170</th>\n",
              "      <td>40b18d40197e3db66312a026e06b8ff1</td>\n",
              "      <td>0.986547</td>\n",
              "      <td>1</td>\n",
              "      <td>0</td>\n",
              "    </tr>\n",
              "    <tr>\n",
              "      <th>128</th>\n",
              "      <td>be4fa2120de3397ae21eac38ff0060e3</td>\n",
              "      <td>0.991031</td>\n",
              "      <td>1</td>\n",
              "      <td>0</td>\n",
              "    </tr>\n",
              "    <tr>\n",
              "      <th>340</th>\n",
              "      <td>d539461bf254cf8b3201cdf7990b119e</td>\n",
              "      <td>0.992754</td>\n",
              "      <td>1</td>\n",
              "      <td>1</td>\n",
              "    </tr>\n",
              "    <tr>\n",
              "      <th>217</th>\n",
              "      <td>7a21ef645ecb42198be493dd65320e78</td>\n",
              "      <td>0.995516</td>\n",
              "      <td>1</td>\n",
              "      <td>1</td>\n",
              "    </tr>\n",
              "  </tbody>\n",
              "</table>\n",
              "<p>347 rows × 4 columns</p>\n",
              "</div>"
            ],
            "text/plain": [
              "                                   id  percentile  course_quantity  fullfilled\n",
              "80   3e106aaef8b24dbb01319c73e14c2936    0.000000                1           1\n",
              "231  3a7326c9e355a67d3805824ca34c4bc5    0.000000                2           1\n",
              "91   e0ca1a9548af9a3f98428c62420aa484    0.004484                1           1\n",
              "273  7fe7df0d207babbf30249b3063ac1f26    0.007246                1           1\n",
              "19   86d929f6fd741e56e93cee5900298849    0.008969                1           1\n",
              "..                                ...         ...              ...         ...\n",
              "359  79d14db48e4737af731960ae212d5134    0.985507                2           1\n",
              "170  40b18d40197e3db66312a026e06b8ff1    0.986547                1           0\n",
              "128  be4fa2120de3397ae21eac38ff0060e3    0.991031                1           0\n",
              "340  d539461bf254cf8b3201cdf7990b119e    0.992754                1           1\n",
              "217  7a21ef645ecb42198be493dd65320e78    0.995516                1           1\n",
              "\n",
              "[347 rows x 4 columns]"
            ]
          },
          "metadata": {},
          "execution_count": 705
        }
      ]
    },
    {
      "cell_type": "markdown",
      "metadata": {
        "id": "Gtax0pehZ50g"
      },
      "source": [
        "Создадим бинарные признаки третьего приоритета"
      ]
    },
    {
      "cell_type": "code",
      "metadata": {
        "id": "E3uP-8ViZlyN"
      },
      "source": [
        "thr_wave['Безопасность компьютерных систем'] = np.where((data['fall_3'] == 'Безопасность компьютерных систем') & (data['course_quantity'] == 1), 1, 0)\n",
        "thr_wave['Statistical Learning Theory'] = np.where((data['fall_3'] == 'Statistical Learning Theory') & (data['course_quantity'] == 1), 1, 0)\n",
        "thr_wave['Матричные вычисления'] = np.where((data['fall_3'] == 'Матричные вычисления') & (data['course_quantity'] == 1), 1, 0)\n",
        "thr_wave['Высокопроизводительные вычисления'] = np.where((data['fall_3'] == 'Высокопроизводительные вычисления') & (data['course_quantity'] == 1), 1, 0)\n",
        "thr_wave['Сбор и обработка данных с помощью краудсорсинга'] = np.where((data['fall_3'] == 'Сбор и обработка данных с помощью краудсорсинга') & (data['course_quantity'] == 1), 1, 0)\n",
        "thr_wave['Байесовские методы машинного обучения'] = np.where((data['fall_3'] == 'Байесовские методы машинного обучения') & (data['course_quantity'] == 1), 1, 0)\n",
        "thr_wave['Теория баз данных'] = np.where((data['fall_3'] == 'Теория баз данных') & (data['course_quantity'] == 1), 1, 0)\n",
        "thr_wave['Анализ неструктурированных данных'] = np.where((data['fall_3'] == 'Анализ неструктурированных данных') & (data['course_quantity'] == 1), 1, 0)\n",
        "thr_wave['Глубинное обучение в обработке звука'] = np.where((data['fall_3'] == 'Глубинное обучение в обработке звука') & (data['course_quantity'] == 1), 1, 0)\n",
        "thr_wave['Моделирование временных рядов'] = np.where((data['fall_3'] == 'Моделирование временных рядов') & (data['course_quantity'] == 1), 1, 0)\n",
        "thr_wave['Язык SQL'] = np.where((data['fall_3'] == 'Язык SQL') & (data['course_quantity'] == 1), 1, 0)\n",
        "thr_wave['Принятие решений в условиях риска и неопределённости'] = np.where((data['fall_2'] == 'Принятие решений в условиях риска и неопределённости') & (data['course_quantity'] == 1), 1, 0)"
      ],
      "execution_count": 706,
      "outputs": []
    },
    {
      "cell_type": "markdown",
      "metadata": {
        "id": "KxFJ5ecNbhXA"
      },
      "source": [
        "Получим уникальные id студентов, выбравших курс в качестве третьего приоритета c учётом ограничений на количество студентов и \"укомплектованных\" курсами студентов\n",
        "\n"
      ]
    },
    {
      "cell_type": "code",
      "metadata": {
        "id": "ck3lV4ukbA-u"
      },
      "source": [
        "comp_bez_3 = thr_wave.loc[(thr_wave['Безопасность компьютерных систем'] == 1) & (thr_wave['fullfilled'] == 0)].iloc[:0]['id']\n",
        "vys_vych_3 = thr_wave.loc[(thr_wave['Высокопроизводительные вычисления'] == 1)  & (thr_wave['fullfilled'] == 0)].iloc[:1]['id']\n",
        "stat_learn_3 = thr_wave.loc[(thr_wave['Statistical Learning Theory'] == 1)  & (thr_wave['fullfilled'] == 0)].iloc[:19]['id']\n",
        "an_nestr_3 = thr_wave.loc[(thr_wave['Анализ неструктурированных данных'] == 1) & (thr_wave['fullfilled'] == 0)]['id']\n",
        "Sbor_obr_3 = thr_wave.loc[(thr_wave['Сбор и обработка данных с помощью краудсорсинга'] == 1) & (thr_wave['fullfilled'] == 0)].iloc[:0]['id']\n",
        "Matr_vych_3 = thr_wave.loc[(thr_wave['Матричные вычисления'] == 1) & (thr_wave['fullfilled'] == 0)].iloc[:6]['id']\n",
        "Bayes_3 = thr_wave.loc[(thr_wave['Байесовские методы машинного обучения'] == 1) & (thr_wave['fullfilled'] == 0)].iloc[:5]['id']\n",
        "Glub_obuch_3 = thr_wave.loc[(thr_wave['Глубинное обучение в обработке звука'] == 1) & (thr_wave['fullfilled'] == 0)].iloc[:0]['id']\n",
        "Ter_baz_3 = thr_wave.loc[(thr_wave['Теория баз данных'] == 1) & (thr_wave['fullfilled'] == 0)].iloc[:12]['id']\n",
        "Mod_rd_3 = thr_wave.loc[(thr_wave['Моделирование временных рядов'] == 1) & (thr_wave['fullfilled'] == 0)].iloc[:0]['id']\n",
        "Prin_resh_3 = thr_wave.loc[(thr_wave['Принятие решений в условиях риска и неопределённости'] == 1) & (thr_wave['fullfilled'] == 0)].iloc[:21]['id']\n",
        "SQL_3 = thr_wave.loc[(thr_wave['Язык SQL'] == 1) & (thr_wave['fullfilled'] == 0)].iloc[:0]['id']"
      ],
      "execution_count": 707,
      "outputs": []
    },
    {
      "cell_type": "markdown",
      "metadata": {
        "id": "Hk7nHl1id7Qy"
      },
      "source": [
        "Заполним оставшиеся места для 1 курса по выбору в соответствии с результатами 3 волны"
      ]
    },
    {
      "cell_type": "code",
      "metadata": {
        "id": "oNr0uH7zd0M9"
      },
      "source": [
        "first_wave.loc[(first_wave.index.isin(comp_bez_3.index)) & (first_wave['1_course'].eq(0)), '1_course'] = 'Безопасность компьютерных систем'\n",
        "first_wave.loc[(first_wave.index.isin(vys_vych_3.index)) & (first_wave['1_course'].eq(0)), '1_course'] = 'Высокопроизводительные вычисления'\n",
        "first_wave.loc[(first_wave.index.isin(stat_learn_3.index)) & (first_wave['1_course'].eq(0)), '1_course'] = 'Statistical Learning Theory'\n",
        "first_wave.loc[(first_wave.index.isin(an_nestr_3.index)) & (first_wave['1_course'].eq(0)), '1_course'] = 'Анализ неструктурированных данных'\n",
        "first_wave.loc[(first_wave.index.isin(Sbor_obr_3.index)) & (first_wave['1_course'].eq(0)), '1_course'] = 'Сбор и обработка данных с помощью краудсорсинга'\n",
        "first_wave.loc[(first_wave.index.isin(Matr_vych_3.index)) & (first_wave['1_course'].eq(0)), '1_course'] = 'Матричные вычисления'\n",
        "first_wave.loc[(first_wave.index.isin(Bayes_3.index)) & (first_wave['1_course'].eq(0)), '1_course'] = 'Байесовские методы машинного обучения'\n",
        "first_wave.loc[(first_wave.index.isin(Glub_obuch_3.index)) & (first_wave['1_course'].eq(0)), '1_course'] = 'Глубинное обучение в обработке звука'\n",
        "first_wave.loc[(first_wave.index.isin(Ter_baz_3.index)) & (first_wave['1_course'].eq(0)), '1_course'] = 'Теория баз данных'\n",
        "first_wave.loc[(first_wave.index.isin(Mod_rd_3.index)) & (first_wave['1_course'].eq(0)), '1_course'] = 'Моделирование временных рядов'\n",
        "first_wave.loc[(first_wave.index.isin(Prin_resh_3.index)) & (first_wave['1_course'].eq(0)), '1_course'] = 'Принятие решений в условиях риска и неопределённости'\n",
        "first_wave.loc[(first_wave.index.isin(SQL_3.index)) & (first_wave['1_course'].eq(0)), '1_course'] = 'Язык SQL'"
      ],
      "execution_count": 708,
      "outputs": []
    },
    {
      "cell_type": "code",
      "metadata": {
        "id": "QXdfIOLRoGyy"
      },
      "source": [
        "first_wave['1_course'] = first_wave['1_course'].replace(0, '???')\n",
        "first_wave.loc[first_wave['amount'] == 1, '2_course'] = '-'\n",
        "first_wave.loc[(first_wave['amount'] == 2) & (first_wave['2_course'] == 0), '2_course'] = '???'"
      ],
      "execution_count": 709,
      "outputs": []
    },
    {
      "cell_type": "code",
      "metadata": {
        "colab": {
          "base_uri": "https://localhost:8080/",
          "height": 1000
        },
        "id": "xgSt0TsapA2Q",
        "outputId": "58bb375e-99da-4853-805d-260c5aefd5cf"
      },
      "source": [
        "first_wave.tail(50)"
      ],
      "execution_count": 710,
      "outputs": [
        {
          "output_type": "execute_result",
          "data": {
            "text/html": [
              "<div>\n",
              "<style scoped>\n",
              "    .dataframe tbody tr th:only-of-type {\n",
              "        vertical-align: middle;\n",
              "    }\n",
              "\n",
              "    .dataframe tbody tr th {\n",
              "        vertical-align: top;\n",
              "    }\n",
              "\n",
              "    .dataframe thead th {\n",
              "        text-align: right;\n",
              "    }\n",
              "</style>\n",
              "<table border=\"1\" class=\"dataframe\">\n",
              "  <thead>\n",
              "    <tr style=\"text-align: right;\">\n",
              "      <th></th>\n",
              "      <th>id</th>\n",
              "      <th>1_course</th>\n",
              "      <th>2_course</th>\n",
              "      <th>amount</th>\n",
              "      <th>fullfilled</th>\n",
              "    </tr>\n",
              "  </thead>\n",
              "  <tbody>\n",
              "    <tr>\n",
              "      <th>162</th>\n",
              "      <td>cfe9fd28e4cbe0b46594b21f3067e30a</td>\n",
              "      <td>Язык SQL</td>\n",
              "      <td>-</td>\n",
              "      <td>1</td>\n",
              "      <td>1</td>\n",
              "    </tr>\n",
              "    <tr>\n",
              "      <th>41</th>\n",
              "      <td>c97ab5cabace9f00673cc8384771aa9c</td>\n",
              "      <td>Теория баз данных</td>\n",
              "      <td>-</td>\n",
              "      <td>1</td>\n",
              "      <td>1</td>\n",
              "    </tr>\n",
              "    <tr>\n",
              "      <th>265</th>\n",
              "      <td>bba51e2f648cb3323b96858a404dacea</td>\n",
              "      <td>Моделирование временных рядов</td>\n",
              "      <td>Анализ неструктурированных данных</td>\n",
              "      <td>2</td>\n",
              "      <td>1</td>\n",
              "    </tr>\n",
              "    <tr>\n",
              "      <th>124</th>\n",
              "      <td>72e79e6a79cb4025077b371cc6e54247</td>\n",
              "      <td>Теория баз данных</td>\n",
              "      <td>-</td>\n",
              "      <td>1</td>\n",
              "      <td>1</td>\n",
              "    </tr>\n",
              "    <tr>\n",
              "      <th>245</th>\n",
              "      <td>180cf0e0dc7a6f88e76e3076cb761d26</td>\n",
              "      <td>???</td>\n",
              "      <td>-</td>\n",
              "      <td>1</td>\n",
              "      <td>0</td>\n",
              "    </tr>\n",
              "    <tr>\n",
              "      <th>123</th>\n",
              "      <td>5a6dfaade650ca8bb2d081342df303e8</td>\n",
              "      <td>Матричные вычисления</td>\n",
              "      <td>-</td>\n",
              "      <td>1</td>\n",
              "      <td>0</td>\n",
              "    </tr>\n",
              "    <tr>\n",
              "      <th>160</th>\n",
              "      <td>1ed2386f4de225ae7aa6cfd5772d9c50</td>\n",
              "      <td>Моделирование временных рядов</td>\n",
              "      <td>-</td>\n",
              "      <td>1</td>\n",
              "      <td>1</td>\n",
              "    </tr>\n",
              "    <tr>\n",
              "      <th>341</th>\n",
              "      <td>085da16dd3062b4790c3dabdc08a51cf</td>\n",
              "      <td>???</td>\n",
              "      <td>-</td>\n",
              "      <td>1</td>\n",
              "      <td>0</td>\n",
              "    </tr>\n",
              "    <tr>\n",
              "      <th>49</th>\n",
              "      <td>f8c83b338162bb41af2851b5e62f84d0</td>\n",
              "      <td>Теория баз данных</td>\n",
              "      <td>-</td>\n",
              "      <td>1</td>\n",
              "      <td>1</td>\n",
              "    </tr>\n",
              "    <tr>\n",
              "      <th>40</th>\n",
              "      <td>d38ebd0ba564ea88de8015e116f811c8</td>\n",
              "      <td>???</td>\n",
              "      <td>-</td>\n",
              "      <td>1</td>\n",
              "      <td>0</td>\n",
              "    </tr>\n",
              "    <tr>\n",
              "      <th>242</th>\n",
              "      <td>e6f751a81ab2d5197e8237a96656144d</td>\n",
              "      <td>Высокопроизводительные вычисления</td>\n",
              "      <td>-</td>\n",
              "      <td>1</td>\n",
              "      <td>1</td>\n",
              "    </tr>\n",
              "    <tr>\n",
              "      <th>214</th>\n",
              "      <td>1386d00c9c8229c2be3c0956949ee122</td>\n",
              "      <td>Statistical Learning Theory</td>\n",
              "      <td>-</td>\n",
              "      <td>1</td>\n",
              "      <td>1</td>\n",
              "    </tr>\n",
              "    <tr>\n",
              "      <th>338</th>\n",
              "      <td>7378a3c0caf8ce5fdbb1e4370b346cb7</td>\n",
              "      <td>Глубинное обучение в обработке звука</td>\n",
              "      <td>-</td>\n",
              "      <td>1</td>\n",
              "      <td>1</td>\n",
              "    </tr>\n",
              "    <tr>\n",
              "      <th>76</th>\n",
              "      <td>014b72217e20370dab7acc48b20c47be</td>\n",
              "      <td>Statistical Learning Theory</td>\n",
              "      <td>-</td>\n",
              "      <td>1</td>\n",
              "      <td>1</td>\n",
              "    </tr>\n",
              "    <tr>\n",
              "      <th>161</th>\n",
              "      <td>00b40fe7dbfd23e5daba765244509415</td>\n",
              "      <td>Матричные вычисления</td>\n",
              "      <td>-</td>\n",
              "      <td>1</td>\n",
              "      <td>0</td>\n",
              "    </tr>\n",
              "    <tr>\n",
              "      <th>312</th>\n",
              "      <td>aeb7bb1e047c392b7e5e39225cd86422</td>\n",
              "      <td>Анализ неструктурированных данных</td>\n",
              "      <td>-</td>\n",
              "      <td>1</td>\n",
              "      <td>0</td>\n",
              "    </tr>\n",
              "    <tr>\n",
              "      <th>114</th>\n",
              "      <td>a19f36ae8465cac527e8ce7b6ebf1213</td>\n",
              "      <td>Язык SQL</td>\n",
              "      <td>-</td>\n",
              "      <td>1</td>\n",
              "      <td>1</td>\n",
              "    </tr>\n",
              "    <tr>\n",
              "      <th>354</th>\n",
              "      <td>98c5a2548d93f26bd4195466e93178b3</td>\n",
              "      <td>Глубинное обучение в обработке звука</td>\n",
              "      <td>Байесовские методы машинного обучения</td>\n",
              "      <td>2</td>\n",
              "      <td>1</td>\n",
              "    </tr>\n",
              "    <tr>\n",
              "      <th>156</th>\n",
              "      <td>7f8feb54319e52cb63ad437f4128a9d8</td>\n",
              "      <td>???</td>\n",
              "      <td>-</td>\n",
              "      <td>1</td>\n",
              "      <td>0</td>\n",
              "    </tr>\n",
              "    <tr>\n",
              "      <th>99</th>\n",
              "      <td>32fea7beb180e7de64ad408013cc01ec</td>\n",
              "      <td>???</td>\n",
              "      <td>-</td>\n",
              "      <td>1</td>\n",
              "      <td>0</td>\n",
              "    </tr>\n",
              "    <tr>\n",
              "      <th>253</th>\n",
              "      <td>a31027b4218c8cca257f9b9cd07791d2</td>\n",
              "      <td>Анализ неструктурированных данных</td>\n",
              "      <td>???</td>\n",
              "      <td>2</td>\n",
              "      <td>0</td>\n",
              "    </tr>\n",
              "    <tr>\n",
              "      <th>43</th>\n",
              "      <td>b6bf56b8b8ffd1666036b0a8ca01c452</td>\n",
              "      <td>Матричные вычисления</td>\n",
              "      <td>-</td>\n",
              "      <td>1</td>\n",
              "      <td>1</td>\n",
              "    </tr>\n",
              "    <tr>\n",
              "      <th>166</th>\n",
              "      <td>b4f1f195bd1bc63490a7bc42275a71cd</td>\n",
              "      <td>Высокопроизводительные вычисления</td>\n",
              "      <td>-</td>\n",
              "      <td>1</td>\n",
              "      <td>1</td>\n",
              "    </tr>\n",
              "    <tr>\n",
              "      <th>356</th>\n",
              "      <td>c5870b37ee3f672e4259dfb2fc02ed8f</td>\n",
              "      <td>Statistical Learning Theory</td>\n",
              "      <td>-</td>\n",
              "      <td>1</td>\n",
              "      <td>1</td>\n",
              "    </tr>\n",
              "    <tr>\n",
              "      <th>120</th>\n",
              "      <td>bb94ed5af639819dac15574197c80da3</td>\n",
              "      <td>Теория баз данных</td>\n",
              "      <td>-</td>\n",
              "      <td>1</td>\n",
              "      <td>1</td>\n",
              "    </tr>\n",
              "    <tr>\n",
              "      <th>311</th>\n",
              "      <td>ba4091ee80dd63a042464dbd2a7e3363</td>\n",
              "      <td>???</td>\n",
              "      <td>-</td>\n",
              "      <td>1</td>\n",
              "      <td>0</td>\n",
              "    </tr>\n",
              "    <tr>\n",
              "      <th>154</th>\n",
              "      <td>ac2fd77f2ec0186c95f16e6721fd5998</td>\n",
              "      <td>Матричные вычисления</td>\n",
              "      <td>-</td>\n",
              "      <td>1</td>\n",
              "      <td>1</td>\n",
              "    </tr>\n",
              "    <tr>\n",
              "      <th>70</th>\n",
              "      <td>d9f0e5ebc6718202b86eaee2de1c697b</td>\n",
              "      <td>Матричные вычисления</td>\n",
              "      <td>-</td>\n",
              "      <td>1</td>\n",
              "      <td>1</td>\n",
              "    </tr>\n",
              "    <tr>\n",
              "      <th>280</th>\n",
              "      <td>c749f69f66d40cdfb3821745951be896</td>\n",
              "      <td>Анализ неструктурированных данных</td>\n",
              "      <td>???</td>\n",
              "      <td>2</td>\n",
              "      <td>0</td>\n",
              "    </tr>\n",
              "    <tr>\n",
              "      <th>192</th>\n",
              "      <td>86c24daaa62246142d46ee58534a65e0</td>\n",
              "      <td>Теория баз данных</td>\n",
              "      <td>-</td>\n",
              "      <td>1</td>\n",
              "      <td>0</td>\n",
              "    </tr>\n",
              "    <tr>\n",
              "      <th>351</th>\n",
              "      <td>8fe79f84f36e3a5d2d6745621321302c</td>\n",
              "      <td>???</td>\n",
              "      <td>-</td>\n",
              "      <td>1</td>\n",
              "      <td>0</td>\n",
              "    </tr>\n",
              "    <tr>\n",
              "      <th>39</th>\n",
              "      <td>ab5248060fbaac411a79a62dfb0d263d</td>\n",
              "      <td>Язык SQL</td>\n",
              "      <td>-</td>\n",
              "      <td>1</td>\n",
              "      <td>1</td>\n",
              "    </tr>\n",
              "    <tr>\n",
              "      <th>328</th>\n",
              "      <td>de539be8b29b3afa002184e28d63c670</td>\n",
              "      <td>Анализ неструктурированных данных</td>\n",
              "      <td>Глубинное обучение в обработке звука</td>\n",
              "      <td>2</td>\n",
              "      <td>1</td>\n",
              "    </tr>\n",
              "    <tr>\n",
              "      <th>86</th>\n",
              "      <td>9f23846141606a1e26e8e4c28e9a7262</td>\n",
              "      <td>???</td>\n",
              "      <td>-</td>\n",
              "      <td>1</td>\n",
              "      <td>0</td>\n",
              "    </tr>\n",
              "    <tr>\n",
              "      <th>164</th>\n",
              "      <td>dbcac463fe0b6294743107a9e74356c5</td>\n",
              "      <td>???</td>\n",
              "      <td>-</td>\n",
              "      <td>1</td>\n",
              "      <td>0</td>\n",
              "    </tr>\n",
              "    <tr>\n",
              "      <th>346</th>\n",
              "      <td>b739739c7080a6e15f962c3863021855</td>\n",
              "      <td>Анализ неструктурированных данных</td>\n",
              "      <td>-</td>\n",
              "      <td>1</td>\n",
              "      <td>1</td>\n",
              "    </tr>\n",
              "    <tr>\n",
              "      <th>38</th>\n",
              "      <td>e3d4f9a7b947ebc03d345dd9e14b5d2c</td>\n",
              "      <td>???</td>\n",
              "      <td>-</td>\n",
              "      <td>1</td>\n",
              "      <td>0</td>\n",
              "    </tr>\n",
              "    <tr>\n",
              "      <th>223</th>\n",
              "      <td>d555d2805e1d93d4f023e57dc4c8f403</td>\n",
              "      <td>Глубинное обучение в обработке звука</td>\n",
              "      <td>Байесовские методы машинного обучения</td>\n",
              "      <td>2</td>\n",
              "      <td>1</td>\n",
              "    </tr>\n",
              "    <tr>\n",
              "      <th>52</th>\n",
              "      <td>ef8c6afd958da5f51429948f090432da</td>\n",
              "      <td>???</td>\n",
              "      <td>-</td>\n",
              "      <td>1</td>\n",
              "      <td>0</td>\n",
              "    </tr>\n",
              "    <tr>\n",
              "      <th>135</th>\n",
              "      <td>feb53dcdd28fff9dc4a981c3419fea6f</td>\n",
              "      <td>Язык SQL</td>\n",
              "      <td>???</td>\n",
              "      <td>2</td>\n",
              "      <td>0</td>\n",
              "    </tr>\n",
              "    <tr>\n",
              "      <th>264</th>\n",
              "      <td>c1e88502b6673d22c38ee1352e3a1dd9</td>\n",
              "      <td>Моделирование временных рядов</td>\n",
              "      <td>Анализ неструктурированных данных</td>\n",
              "      <td>2</td>\n",
              "      <td>1</td>\n",
              "    </tr>\n",
              "    <tr>\n",
              "      <th>18</th>\n",
              "      <td>af20596134e83f3ca61259b325aa9688</td>\n",
              "      <td>Statistical Learning Theory</td>\n",
              "      <td>-</td>\n",
              "      <td>1</td>\n",
              "      <td>1</td>\n",
              "    </tr>\n",
              "    <tr>\n",
              "      <th>218</th>\n",
              "      <td>bd416140ecdb32b6dbd7f40820bf63b1</td>\n",
              "      <td>Теория баз данных</td>\n",
              "      <td>-</td>\n",
              "      <td>1</td>\n",
              "      <td>1</td>\n",
              "    </tr>\n",
              "    <tr>\n",
              "      <th>293</th>\n",
              "      <td>f2e1cfc27a724879ac2a8c98004c14b0</td>\n",
              "      <td>Принятие решений в условиях риска и неопределё...</td>\n",
              "      <td>Глубинное обучение в обработке звука</td>\n",
              "      <td>2</td>\n",
              "      <td>1</td>\n",
              "    </tr>\n",
              "    <tr>\n",
              "      <th>110</th>\n",
              "      <td>f5d9f99cb876ca0888d18b6e444fa1b1</td>\n",
              "      <td>Теория баз данных</td>\n",
              "      <td>-</td>\n",
              "      <td>1</td>\n",
              "      <td>0</td>\n",
              "    </tr>\n",
              "    <tr>\n",
              "      <th>359</th>\n",
              "      <td>79d14db48e4737af731960ae212d5134</td>\n",
              "      <td>Принятие решений в условиях риска и неопределё...</td>\n",
              "      <td>Анализ неструктурированных данных</td>\n",
              "      <td>2</td>\n",
              "      <td>1</td>\n",
              "    </tr>\n",
              "    <tr>\n",
              "      <th>170</th>\n",
              "      <td>40b18d40197e3db66312a026e06b8ff1</td>\n",
              "      <td>???</td>\n",
              "      <td>-</td>\n",
              "      <td>1</td>\n",
              "      <td>0</td>\n",
              "    </tr>\n",
              "    <tr>\n",
              "      <th>128</th>\n",
              "      <td>be4fa2120de3397ae21eac38ff0060e3</td>\n",
              "      <td>???</td>\n",
              "      <td>-</td>\n",
              "      <td>1</td>\n",
              "      <td>0</td>\n",
              "    </tr>\n",
              "    <tr>\n",
              "      <th>340</th>\n",
              "      <td>d539461bf254cf8b3201cdf7990b119e</td>\n",
              "      <td>Анализ неструктурированных данных</td>\n",
              "      <td>-</td>\n",
              "      <td>1</td>\n",
              "      <td>1</td>\n",
              "    </tr>\n",
              "    <tr>\n",
              "      <th>217</th>\n",
              "      <td>7a21ef645ecb42198be493dd65320e78</td>\n",
              "      <td>Принятие решений в условиях риска и неопределё...</td>\n",
              "      <td>-</td>\n",
              "      <td>1</td>\n",
              "      <td>1</td>\n",
              "    </tr>\n",
              "  </tbody>\n",
              "</table>\n",
              "</div>"
            ],
            "text/plain": [
              "                                   id  ... fullfilled\n",
              "162  cfe9fd28e4cbe0b46594b21f3067e30a  ...          1\n",
              "41   c97ab5cabace9f00673cc8384771aa9c  ...          1\n",
              "265  bba51e2f648cb3323b96858a404dacea  ...          1\n",
              "124  72e79e6a79cb4025077b371cc6e54247  ...          1\n",
              "245  180cf0e0dc7a6f88e76e3076cb761d26  ...          0\n",
              "123  5a6dfaade650ca8bb2d081342df303e8  ...          0\n",
              "160  1ed2386f4de225ae7aa6cfd5772d9c50  ...          1\n",
              "341  085da16dd3062b4790c3dabdc08a51cf  ...          0\n",
              "49   f8c83b338162bb41af2851b5e62f84d0  ...          1\n",
              "40   d38ebd0ba564ea88de8015e116f811c8  ...          0\n",
              "242  e6f751a81ab2d5197e8237a96656144d  ...          1\n",
              "214  1386d00c9c8229c2be3c0956949ee122  ...          1\n",
              "338  7378a3c0caf8ce5fdbb1e4370b346cb7  ...          1\n",
              "76   014b72217e20370dab7acc48b20c47be  ...          1\n",
              "161  00b40fe7dbfd23e5daba765244509415  ...          0\n",
              "312  aeb7bb1e047c392b7e5e39225cd86422  ...          0\n",
              "114  a19f36ae8465cac527e8ce7b6ebf1213  ...          1\n",
              "354  98c5a2548d93f26bd4195466e93178b3  ...          1\n",
              "156  7f8feb54319e52cb63ad437f4128a9d8  ...          0\n",
              "99   32fea7beb180e7de64ad408013cc01ec  ...          0\n",
              "253  a31027b4218c8cca257f9b9cd07791d2  ...          0\n",
              "43   b6bf56b8b8ffd1666036b0a8ca01c452  ...          1\n",
              "166  b4f1f195bd1bc63490a7bc42275a71cd  ...          1\n",
              "356  c5870b37ee3f672e4259dfb2fc02ed8f  ...          1\n",
              "120  bb94ed5af639819dac15574197c80da3  ...          1\n",
              "311  ba4091ee80dd63a042464dbd2a7e3363  ...          0\n",
              "154  ac2fd77f2ec0186c95f16e6721fd5998  ...          1\n",
              "70   d9f0e5ebc6718202b86eaee2de1c697b  ...          1\n",
              "280  c749f69f66d40cdfb3821745951be896  ...          0\n",
              "192  86c24daaa62246142d46ee58534a65e0  ...          0\n",
              "351  8fe79f84f36e3a5d2d6745621321302c  ...          0\n",
              "39   ab5248060fbaac411a79a62dfb0d263d  ...          1\n",
              "328  de539be8b29b3afa002184e28d63c670  ...          1\n",
              "86   9f23846141606a1e26e8e4c28e9a7262  ...          0\n",
              "164  dbcac463fe0b6294743107a9e74356c5  ...          0\n",
              "346  b739739c7080a6e15f962c3863021855  ...          1\n",
              "38   e3d4f9a7b947ebc03d345dd9e14b5d2c  ...          0\n",
              "223  d555d2805e1d93d4f023e57dc4c8f403  ...          1\n",
              "52   ef8c6afd958da5f51429948f090432da  ...          0\n",
              "135  feb53dcdd28fff9dc4a981c3419fea6f  ...          0\n",
              "264  c1e88502b6673d22c38ee1352e3a1dd9  ...          1\n",
              "18   af20596134e83f3ca61259b325aa9688  ...          1\n",
              "218  bd416140ecdb32b6dbd7f40820bf63b1  ...          1\n",
              "293  f2e1cfc27a724879ac2a8c98004c14b0  ...          1\n",
              "110  f5d9f99cb876ca0888d18b6e444fa1b1  ...          0\n",
              "359  79d14db48e4737af731960ae212d5134  ...          1\n",
              "170  40b18d40197e3db66312a026e06b8ff1  ...          0\n",
              "128  be4fa2120de3397ae21eac38ff0060e3  ...          0\n",
              "340  d539461bf254cf8b3201cdf7990b119e  ...          1\n",
              "217  7a21ef645ecb42198be493dd65320e78  ...          1\n",
              "\n",
              "[50 rows x 5 columns]"
            ]
          },
          "metadata": {},
          "execution_count": 710
        }
      ]
    },
    {
      "cell_type": "markdown",
      "metadata": {
        "id": "ZywfQYSSg-c-"
      },
      "source": [
        "# **Таким образом итоговая таблица после всех трёх волн:**"
      ]
    },
    {
      "cell_type": "code",
      "metadata": {
        "colab": {
          "base_uri": "https://localhost:8080/",
          "height": 481
        },
        "id": "IIDYLs8whH0e",
        "outputId": "eacce048-1d64-41bb-a59a-05c5e54b87b6"
      },
      "source": [
        "final_table = pd.DataFrame(first_wave['id'])\n",
        "final_table  = final_table.rename(columns={'id' : 'ID'})\n",
        "final_table['course1'] = first_wave['1_course']\n",
        "final_table['course2'] = first_wave['2_course']\n",
        "final_table"
      ],
      "execution_count": 711,
      "outputs": [
        {
          "output_type": "execute_result",
          "data": {
            "text/html": [
              "<div>\n",
              "<style scoped>\n",
              "    .dataframe tbody tr th:only-of-type {\n",
              "        vertical-align: middle;\n",
              "    }\n",
              "\n",
              "    .dataframe tbody tr th {\n",
              "        vertical-align: top;\n",
              "    }\n",
              "\n",
              "    .dataframe thead th {\n",
              "        text-align: right;\n",
              "    }\n",
              "</style>\n",
              "<table border=\"1\" class=\"dataframe\">\n",
              "  <thead>\n",
              "    <tr style=\"text-align: right;\">\n",
              "      <th></th>\n",
              "      <th>ID</th>\n",
              "      <th>course1</th>\n",
              "      <th>course2</th>\n",
              "    </tr>\n",
              "  </thead>\n",
              "  <tbody>\n",
              "    <tr>\n",
              "      <th>80</th>\n",
              "      <td>3e106aaef8b24dbb01319c73e14c2936</td>\n",
              "      <td>Безопасность компьютерных систем</td>\n",
              "      <td>-</td>\n",
              "    </tr>\n",
              "    <tr>\n",
              "      <th>231</th>\n",
              "      <td>3a7326c9e355a67d3805824ca34c4bc5</td>\n",
              "      <td>Statistical Learning Theory</td>\n",
              "      <td>Высокопроизводительные вычисления</td>\n",
              "    </tr>\n",
              "    <tr>\n",
              "      <th>91</th>\n",
              "      <td>e0ca1a9548af9a3f98428c62420aa484</td>\n",
              "      <td>Матричные вычисления</td>\n",
              "      <td>-</td>\n",
              "    </tr>\n",
              "    <tr>\n",
              "      <th>273</th>\n",
              "      <td>7fe7df0d207babbf30249b3063ac1f26</td>\n",
              "      <td>Высокопроизводительные вычисления</td>\n",
              "      <td>-</td>\n",
              "    </tr>\n",
              "    <tr>\n",
              "      <th>19</th>\n",
              "      <td>86d929f6fd741e56e93cee5900298849</td>\n",
              "      <td>Сбор и обработка данных с помощью краудсорсинга</td>\n",
              "      <td>-</td>\n",
              "    </tr>\n",
              "    <tr>\n",
              "      <th>...</th>\n",
              "      <td>...</td>\n",
              "      <td>...</td>\n",
              "      <td>...</td>\n",
              "    </tr>\n",
              "    <tr>\n",
              "      <th>359</th>\n",
              "      <td>79d14db48e4737af731960ae212d5134</td>\n",
              "      <td>Принятие решений в условиях риска и неопределё...</td>\n",
              "      <td>Анализ неструктурированных данных</td>\n",
              "    </tr>\n",
              "    <tr>\n",
              "      <th>170</th>\n",
              "      <td>40b18d40197e3db66312a026e06b8ff1</td>\n",
              "      <td>???</td>\n",
              "      <td>-</td>\n",
              "    </tr>\n",
              "    <tr>\n",
              "      <th>128</th>\n",
              "      <td>be4fa2120de3397ae21eac38ff0060e3</td>\n",
              "      <td>???</td>\n",
              "      <td>-</td>\n",
              "    </tr>\n",
              "    <tr>\n",
              "      <th>340</th>\n",
              "      <td>d539461bf254cf8b3201cdf7990b119e</td>\n",
              "      <td>Анализ неструктурированных данных</td>\n",
              "      <td>-</td>\n",
              "    </tr>\n",
              "    <tr>\n",
              "      <th>217</th>\n",
              "      <td>7a21ef645ecb42198be493dd65320e78</td>\n",
              "      <td>Принятие решений в условиях риска и неопределё...</td>\n",
              "      <td>-</td>\n",
              "    </tr>\n",
              "  </tbody>\n",
              "</table>\n",
              "<p>347 rows × 3 columns</p>\n",
              "</div>"
            ],
            "text/plain": [
              "                                   ID  ...                            course2\n",
              "80   3e106aaef8b24dbb01319c73e14c2936  ...                                  -\n",
              "231  3a7326c9e355a67d3805824ca34c4bc5  ...  Высокопроизводительные вычисления\n",
              "91   e0ca1a9548af9a3f98428c62420aa484  ...                                  -\n",
              "273  7fe7df0d207babbf30249b3063ac1f26  ...                                  -\n",
              "19   86d929f6fd741e56e93cee5900298849  ...                                  -\n",
              "..                                ...  ...                                ...\n",
              "359  79d14db48e4737af731960ae212d5134  ...  Анализ неструктурированных данных\n",
              "170  40b18d40197e3db66312a026e06b8ff1  ...                                  -\n",
              "128  be4fa2120de3397ae21eac38ff0060e3  ...                                  -\n",
              "340  d539461bf254cf8b3201cdf7990b119e  ...                                  -\n",
              "217  7a21ef645ecb42198be493dd65320e78  ...                                  -\n",
              "\n",
              "[347 rows x 3 columns]"
            ]
          },
          "metadata": {},
          "execution_count": 711
        }
      ]
    },
    {
      "cell_type": "code",
      "metadata": {
        "id": "54AZzBg-jOXG"
      },
      "source": [
        "final_table.to_csv('res_fall.csv')\n"
      ],
      "execution_count": 712,
      "outputs": []
    }
  ]
}